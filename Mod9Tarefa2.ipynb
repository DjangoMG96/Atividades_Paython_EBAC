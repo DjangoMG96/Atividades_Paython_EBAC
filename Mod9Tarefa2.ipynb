{
 "cells": [
  {
   "cell_type": "markdown",
   "metadata": {
    "id": "eYvCczy6lTt7"
   },
   "source": [
    "# Livro para consulta:\n",
    "- https://jakevdp.github.io/PythonDataScienceHandbook/03.08-aggregation-and-grouping.html\n",
    "- https://jakevdp.github.io/PythonDataScienceHandbook/03.09-pivot-tables.html\n",
    "    "
   ]
  },
  {
   "cell_type": "markdown",
   "metadata": {
    "id": "oeWprAfnlTt-"
   },
   "source": [
    "# 1. Importando bibliotecas <a name=\"import\"></a>\n",
    "\n",
    "<div style=\"text-align: right\"\n",
    "     \n",
    "[Voltar ao índice](#Contents)"
   ]
  },
  {
   "cell_type": "code",
   "execution_count": 1,
   "metadata": {
    "ExecuteTime": {
     "end_time": "2021-06-06T21:12:37.298706Z",
     "start_time": "2021-06-06T21:12:36.656481Z"
    },
    "id": "y_9gYudilTt_"
   },
   "outputs": [],
   "source": [
    "import numpy as np\n",
    "import pandas as pd\n",
    "import seaborn as sns\n",
    "import matplotlib.pyplot as plt\n",
    "\n",
    "%matplotlib inline"
   ]
  },
  {
   "cell_type": "markdown",
   "metadata": {
    "id": "-cpxC-IBlTuA"
   },
   "source": [
    "# 2. Carregando o dataframe SINASC <a name=\"read\"></a>\n",
    "<div style=\"text-align: right\"\n",
    "     \n",
    "[Voltar ao índice](#Contents)"
   ]
  },
  {
   "cell_type": "code",
   "execution_count": 2,
   "metadata": {
    "ExecuteTime": {
     "end_time": "2021-06-06T21:12:37.762376Z",
     "start_time": "2021-06-06T21:12:37.728383Z"
    },
    "id": "nQZn7u4DlTuB",
    "outputId": "74b44036-69d9-4139-b291-621d77ed331b",
    "scrolled": true
   },
   "outputs": [
    {
     "data": {
      "text/html": [
       "<div>\n",
       "<style scoped>\n",
       "    .dataframe tbody tr th:only-of-type {\n",
       "        vertical-align: middle;\n",
       "    }\n",
       "\n",
       "    .dataframe tbody tr th {\n",
       "        vertical-align: top;\n",
       "    }\n",
       "\n",
       "    .dataframe thead th {\n",
       "        text-align: right;\n",
       "    }\n",
       "</style>\n",
       "<table border=\"1\" class=\"dataframe\">\n",
       "  <thead>\n",
       "    <tr style=\"text-align: right;\">\n",
       "      <th></th>\n",
       "      <th>ORIGEM</th>\n",
       "      <th>CODESTAB</th>\n",
       "      <th>CODMUNNASC</th>\n",
       "      <th>LOCNASC</th>\n",
       "      <th>IDADEMAE</th>\n",
       "      <th>ESTCIVMAE</th>\n",
       "      <th>ESCMAE</th>\n",
       "      <th>CODOCUPMAE</th>\n",
       "      <th>QTDFILVIVO</th>\n",
       "      <th>QTDFILMORT</th>\n",
       "      <th>...</th>\n",
       "      <th>KOTELCHUCK</th>\n",
       "      <th>CONTADOR</th>\n",
       "      <th>munResStatus</th>\n",
       "      <th>munResTipo</th>\n",
       "      <th>munResNome</th>\n",
       "      <th>munResUf</th>\n",
       "      <th>munResLat</th>\n",
       "      <th>munResLon</th>\n",
       "      <th>munResAlt</th>\n",
       "      <th>munResArea</th>\n",
       "    </tr>\n",
       "  </thead>\n",
       "  <tbody>\n",
       "    <tr>\n",
       "      <th>0</th>\n",
       "      <td>1</td>\n",
       "      <td>2679477.0</td>\n",
       "      <td>110001</td>\n",
       "      <td>1</td>\n",
       "      <td>19</td>\n",
       "      <td>5.0</td>\n",
       "      <td>8 a 11 anos</td>\n",
       "      <td>NaN</td>\n",
       "      <td>0.0</td>\n",
       "      <td>0.0</td>\n",
       "      <td>...</td>\n",
       "      <td>5</td>\n",
       "      <td>1</td>\n",
       "      <td>ATIVO</td>\n",
       "      <td>MUNIC</td>\n",
       "      <td>Alta Floresta D'Oeste</td>\n",
       "      <td>Rondônia</td>\n",
       "      <td>-11.93554</td>\n",
       "      <td>-61.99982</td>\n",
       "      <td>338.0</td>\n",
       "      <td>7067.025</td>\n",
       "    </tr>\n",
       "    <tr>\n",
       "      <th>1</th>\n",
       "      <td>1</td>\n",
       "      <td>2679477.0</td>\n",
       "      <td>110001</td>\n",
       "      <td>1</td>\n",
       "      <td>29</td>\n",
       "      <td>2.0</td>\n",
       "      <td>8 a 11 anos</td>\n",
       "      <td>999992.0</td>\n",
       "      <td>1.0</td>\n",
       "      <td>0.0</td>\n",
       "      <td>...</td>\n",
       "      <td>5</td>\n",
       "      <td>2</td>\n",
       "      <td>ATIVO</td>\n",
       "      <td>MUNIC</td>\n",
       "      <td>Alta Floresta D'Oeste</td>\n",
       "      <td>Rondônia</td>\n",
       "      <td>-11.93554</td>\n",
       "      <td>-61.99982</td>\n",
       "      <td>338.0</td>\n",
       "      <td>7067.025</td>\n",
       "    </tr>\n",
       "    <tr>\n",
       "      <th>2</th>\n",
       "      <td>1</td>\n",
       "      <td>2679477.0</td>\n",
       "      <td>110001</td>\n",
       "      <td>1</td>\n",
       "      <td>37</td>\n",
       "      <td>9.0</td>\n",
       "      <td>8 a 11 anos</td>\n",
       "      <td>513205.0</td>\n",
       "      <td>2.0</td>\n",
       "      <td>0.0</td>\n",
       "      <td>...</td>\n",
       "      <td>5</td>\n",
       "      <td>3</td>\n",
       "      <td>ATIVO</td>\n",
       "      <td>MUNIC</td>\n",
       "      <td>Alta Floresta D'Oeste</td>\n",
       "      <td>Rondônia</td>\n",
       "      <td>-11.93554</td>\n",
       "      <td>-61.99982</td>\n",
       "      <td>338.0</td>\n",
       "      <td>7067.025</td>\n",
       "    </tr>\n",
       "    <tr>\n",
       "      <th>3</th>\n",
       "      <td>1</td>\n",
       "      <td>2516500.0</td>\n",
       "      <td>110001</td>\n",
       "      <td>1</td>\n",
       "      <td>30</td>\n",
       "      <td>5.0</td>\n",
       "      <td>12 anos ou mais</td>\n",
       "      <td>231205.0</td>\n",
       "      <td>0.0</td>\n",
       "      <td>0.0</td>\n",
       "      <td>...</td>\n",
       "      <td>4</td>\n",
       "      <td>4</td>\n",
       "      <td>ATIVO</td>\n",
       "      <td>MUNIC</td>\n",
       "      <td>Alto Alegre dos Parecis</td>\n",
       "      <td>Rondônia</td>\n",
       "      <td>-12.13178</td>\n",
       "      <td>-61.85308</td>\n",
       "      <td>397.0</td>\n",
       "      <td>3958.273</td>\n",
       "    </tr>\n",
       "    <tr>\n",
       "      <th>4</th>\n",
       "      <td>1</td>\n",
       "      <td>2516500.0</td>\n",
       "      <td>110001</td>\n",
       "      <td>1</td>\n",
       "      <td>30</td>\n",
       "      <td>2.0</td>\n",
       "      <td>8 a 11 anos</td>\n",
       "      <td>999992.0</td>\n",
       "      <td>1.0</td>\n",
       "      <td>0.0</td>\n",
       "      <td>...</td>\n",
       "      <td>5</td>\n",
       "      <td>5</td>\n",
       "      <td>ATIVO</td>\n",
       "      <td>MUNIC</td>\n",
       "      <td>Alta Floresta D'Oeste</td>\n",
       "      <td>Rondônia</td>\n",
       "      <td>-11.93554</td>\n",
       "      <td>-61.99982</td>\n",
       "      <td>338.0</td>\n",
       "      <td>7067.025</td>\n",
       "    </tr>\n",
       "  </tbody>\n",
       "</table>\n",
       "<p>5 rows × 69 columns</p>\n",
       "</div>"
      ],
      "text/plain": [
       "   ORIGEM   CODESTAB  CODMUNNASC  LOCNASC  IDADEMAE  ESTCIVMAE  \\\n",
       "0       1  2679477.0      110001        1        19        5.0   \n",
       "1       1  2679477.0      110001        1        29        2.0   \n",
       "2       1  2679477.0      110001        1        37        9.0   \n",
       "3       1  2516500.0      110001        1        30        5.0   \n",
       "4       1  2516500.0      110001        1        30        2.0   \n",
       "\n",
       "            ESCMAE  CODOCUPMAE  QTDFILVIVO  QTDFILMORT  ...  KOTELCHUCK  \\\n",
       "0      8 a 11 anos         NaN         0.0         0.0  ...           5   \n",
       "1      8 a 11 anos    999992.0         1.0         0.0  ...           5   \n",
       "2      8 a 11 anos    513205.0         2.0         0.0  ...           5   \n",
       "3  12 anos ou mais    231205.0         0.0         0.0  ...           4   \n",
       "4      8 a 11 anos    999992.0         1.0         0.0  ...           5   \n",
       "\n",
       "  CONTADOR munResStatus munResTipo               munResNome  munResUf  \\\n",
       "0        1        ATIVO      MUNIC    Alta Floresta D'Oeste  Rondônia   \n",
       "1        2        ATIVO      MUNIC    Alta Floresta D'Oeste  Rondônia   \n",
       "2        3        ATIVO      MUNIC    Alta Floresta D'Oeste  Rondônia   \n",
       "3        4        ATIVO      MUNIC  Alto Alegre dos Parecis  Rondônia   \n",
       "4        5        ATIVO      MUNIC    Alta Floresta D'Oeste  Rondônia   \n",
       "\n",
       "   munResLat munResLon  munResAlt  munResArea  \n",
       "0  -11.93554 -61.99982      338.0    7067.025  \n",
       "1  -11.93554 -61.99982      338.0    7067.025  \n",
       "2  -11.93554 -61.99982      338.0    7067.025  \n",
       "3  -12.13178 -61.85308      397.0    3958.273  \n",
       "4  -11.93554 -61.99982      338.0    7067.025  \n",
       "\n",
       "[5 rows x 69 columns]"
      ]
     },
     "execution_count": 2,
     "metadata": {},
     "output_type": "execute_result"
    }
   ],
   "source": [
    "df_sinasc = pd.read_csv('SINASC_RO_2019.csv')\n",
    "df_sinasc.head()"
   ]
  },
  {
   "cell_type": "markdown",
   "metadata": {
    "id": "9GOoel3-lTuD"
   },
   "source": [
    "# Tarefa 2"
   ]
  },
  {
   "cell_type": "markdown",
   "metadata": {
    "id": "iNNeWswTlTuD"
   },
   "source": [
    "### 1. Crie 2 faixas de Latitude do município (munResLat) sendo uma acima e outra abaixo de -10.5 e aplique o groupby usando essas faixas como chave e realize operações de soma, media, minimo, maximo, mediana, desvio padrao, variancia pra pelo menos 2 variáveis numéricas ainda não utilizadas"
   ]
  },
  {
   "cell_type": "code",
   "execution_count": 3,
   "metadata": {},
   "outputs": [
    {
     "name": "stdout",
     "output_type": "stream",
     "text": [
      "           count       mean       std   min   25%   50%   75%   max\n",
      "Lat_Cat                                                            \n",
      "-11.0     8953.0  26.223277  6.295794  12.0  21.0  26.0  31.0  53.0\n",
      "-10.0    18074.0  26.029656  6.431203  11.0  21.0  25.0  31.0  52.0\n",
      "          count       mean       std   min   25%   50%   75%   max\n",
      "Lat_Cat                                                           \n",
      "-11.0    4843.0  30.823663  7.739584  16.0  25.0  30.0  35.0  86.0\n",
      "-10.0    2763.0  31.566775  7.804602  15.0  26.0  31.0  36.0  73.0\n"
     ]
    }
   ],
   "source": [
    "df_sinasc_2 = df_sinasc.loc[:,['munResLat', 'IDADEMAE', 'IDADEPAI']]\n",
    "#df_sinasc_2 = df_sinasc.set_index('munResLat')\n",
    "mapeamento = {\n",
    "    -8.76889: -10, -10.88205: -10, -9.90846: -10, -12.74137: -11, -11.43387: -11,\n",
    "    -11.72226: -11, -10.43595: -10, -10.77388: -10, -10.72357: -10, -11.67754: -11,\n",
    "    -10.20981: -10, -9.42556: -10, -11.52855: -11, -10.41177: -10, -11.93554: -11,\n",
    "    -11.69949: -11, -8.78502: -10, -11.17321: -11, -12.06380: -11, -11.72133: -11,\n",
    "    -13.19503: -11, -12.43601: -11, -9.71667: -10, -13.13056: -11, -11.34413: -11,\n",
    "    -9.37819: -10, -10.26310: -10, -11.12855: -11, -11.76712: -11, -10.56842: -10,\n",
    "    -11.04561: -11, -12.55684: -11, -12.13178: -11, -12.99752: -11, -10.61207: -10,\n",
    "    -9.19187: -10, -10.91553: -10, -11.90842: -11, -11.70974: -11, -10.24873: -10,\n",
    "    -9.85139: -10, -11.19624: -11, -10.43105: -10, -13.49976: -11, -10.33887: -10,\n",
    "    -10.93217: -10, -11.91439: -11, -9.70554: -10, -12.17983: -11, -11.82571: -11,\n",
    "    -13.47656: -11, -11.42684: -11\n",
    "}\n",
    "\n",
    "df_sinasc_2['Lat_Cat'] = df_sinasc_2['munResLat'].map(mapeamento)\n",
    "\n",
    "print(df_sinasc_2.groupby('Lat_Cat')['IDADEMAE'].describe())\n",
    "print(df_sinasc_2.groupby('Lat_Cat')['IDADEPAI'].describe())"
   ]
  },
  {
   "cell_type": "markdown",
   "metadata": {},
   "source": [
    "##### Com esses numeros podemos ver que idempendente da latirude baixa ou alta de RO, a idade média do pai e mãe são iguais ou com pouca diferença. "
   ]
  },
  {
   "cell_type": "markdown",
   "metadata": {
    "id": "AK33D0mdlTuE"
   },
   "source": [
    "### 2. Crie 2 faixas da área dos municípios (munResArea) sendo uma acima e outra abaixo de 3000 e aplique o groupby usando essas faixas como chave e realize operações de soma, media, minimo, maximo, mediana, desvio padrao, variancia pra pelo menos 2 variáveis numéricas ainda não utilizadas\n"
   ]
  },
  {
   "cell_type": "markdown",
   "metadata": {},
   "source": [
    "##### Indice da coluna ('ESTCIVMAE') = Estado Civil da Mãe "
   ]
  },
  {
   "cell_type": "markdown",
   "metadata": {},
   "source": [
    "| Código | Estado Civil                         |\n",
    "|--------|--------------------------------------|\n",
    "| 1      | Solteira                            |\n",
    "| 2      | Casada                              |\n",
    "| 3      | Viúva                               |\n",
    "| 9      | Ignorado                            |"
   ]
  },
  {
   "cell_type": "code",
   "execution_count": 4,
   "metadata": {},
   "outputs": [],
   "source": [
    "# ajustando outliner (5)\n",
    "df_sinasc['ESTCIVMAE'] = df_sinasc['ESTCIVMAE'].replace(5,1)\n",
    "df_sinasc['ESTCIVMAE'] = df_sinasc['ESTCIVMAE'].replace(4,1)\n",
    "# ajustando outliner (30)\n",
    "df_sinasc['QTDFILVIVO'] = df_sinasc['QTDFILVIVO'].replace(30,3)"
   ]
  },
  {
   "cell_type": "code",
   "execution_count": 5,
   "metadata": {},
   "outputs": [
    {
     "name": "stdout",
     "output_type": "stream",
     "text": [
      "Estado Civil Mãe: \n",
      "             count      mean       std  min  25%  50%  75%  max\n",
      "Area_Cat                                                      \n",
      "3.0        8063.0  1.488528  0.691649  1.0  1.0  1.0  2.0  9.0\n",
      "4.0       18647.0  1.389285  0.761947  1.0  1.0  1.0  2.0  9.0\n",
      "Quantidade de Filhos Mãe: \n",
      "             count      mean       std  min  25%  50%  75%   max\n",
      "Area_Cat                                                       \n",
      "3.0        7843.0  0.952442  1.024767  0.0  0.0  1.0  1.0  10.0\n",
      "4.0       17611.0  1.097553  1.208347  0.0  0.0  1.0  2.0  14.0\n"
     ]
    }
   ],
   "source": [
    "df_sinasc_3 = df_sinasc.loc[:,['munResArea', 'ESTCIVMAE', 'QTDFILVIVO']]\n",
    "\n",
    "mapeamento = {\n",
    "    34096.394: 4, 6896.648: 4, 4426.571: 4, 11518.915: 4, 3792.998: 3, 1457.888: 3, 2944.128: 3, 24855.724: 4,\n",
    "    1969.850: 3, 6240.932: 4, 3265.809: 3, 8509.270: 4, 4518.035: 4, 10071.643: 4, 7067.025: 4, 7460.219: 4, \n",
    "    6843.868: 4, 1758.465: 3, 10959.767: 4, 1703.008: 3, 2783.300: 3, 4987.177: 4, 2651.822: 3, 1451.060: 3, \n",
    "    3029.189: 3, 3863.943: 3, 1931.378: 3, 831.857: 3, 3773.505: 3, 3442.005: 3, 1191.875: 3, 5126.723: 4, \n",
    "    3958.273: 4, 3060.321: 3, 5067.384: 4, 4081.583: 4, 807.126: 3, 1197.796: 3, 843.446: 3, 2197.413: 3, \n",
    "    3135.106: 3, 798.083: 3, 965.676: 3, 1314.352: 3, 1961.778: 3, 459.978: 3, 541.647: 3, 1717.640: 3, \n",
    "    2548.683: 3, 605.692: 3, 6014.733: 4, 892.842: 3\n",
    "}\n",
    "\n",
    "df_sinasc_3['Area_Cat'] = df_sinasc_3['munResArea'].map(mapeamento)\n",
    "\n",
    "print('Estado Civil Mãe: \\n', df_sinasc_3.groupby('Area_Cat')['ESTCIVMAE'].describe())\n",
    "\n",
    "print('Quantidade de Filhos Mãe: \\n', df_sinasc_3.groupby('Area_Cat')['QTDFILVIVO'].describe())\n",
    "\n"
   ]
  },
  {
   "cell_type": "markdown",
   "metadata": {},
   "source": [
    "##### Com esses numeros, podemos ver que a area com maior quantidade de filhos é a de 4000 mil ou mais e que 75% são casadas ou ignorou essa marcação."
   ]
  },
  {
   "cell_type": "markdown",
   "metadata": {
    "id": "aWaljnnxlTuE"
   },
   "source": [
    "### 3. Determine faixas na variável munResAlt e aplique o groupby usando essas faixas como chave e realize operações de soma, media, minimo, maximo, mediana, desvio padrao, variancia pra pelo menos 2 variáveis numéricas ainda não utilizadas"
   ]
  },
  {
   "cell_type": "markdown",
   "metadata": {},
   "source": [
    "<table>\r\n",
    "<tr>\r\n",
    "<td>\r\n",
    "\r\n",
    "| Código | Duração da Gestação         |\r\n",
    "|--------|------------------------------|\r\n",
    "| 22     | Menos de 22 semanas         |\r\n",
    "| 31     | 22 a 27 semanas             |\r\n",
    "| 31     | 28 a 31 semanas             |\r\n",
    "| 40     | 32 a 36 semanas             |\r\n",
    "| 40     | 37 a 41 semanas             |\r\n",
    "| 42     | 42 semanas e mais           |\r\n",
    "| 42     | Ignorado                    |\r\n",
    "\r\n",
    "</td>\r\n",
    "<td>\r\n",
    "\r\n",
    "| Código | Tipo de Estabelecimento |\r\n",
    "|--------|--------------------------|\r\n",
    "| 1      | Hospital                |\r\n",
    "| 2      | Outro Estab Saúde       |\r\n",
    "| 3      | Domicílio               |\r\n",
    "| 4      | Outros                  |\r\n",
    "| 9      | Ignorado                |\r\n",
    "\r\n",
    "</td>\r\n",
    "</tr>\r\n",
    "</table>\r\n",
    "|\r\n",
    "\r\n",
    "</td>\r\n",
    "</tr>\r\n",
    "</table>\r\n",
    "\r\n",
    "\r\n",
    "</td>\r\n",
    "</tr>\r\n",
    "</table>\r\n",
    "\r\n",
    "\r\n",
    "</td>\r\n",
    "</tr>\r\n",
    "</table>\r\n",
    "\n"
   ]
  },
  {
   "cell_type": "code",
   "execution_count": 6,
   "metadata": {},
   "outputs": [
    {
     "data": {
      "text/plain": [
       "array([ 85.,  87.,  99., 111., 124., 128., 133., 139., 144., 145., 151.,\n",
       "       153., 154., 155., 157., 158., 161., 163., 166., 170., 177., 178.,\n",
       "       182., 186., 191., 192., 197., 202., 206., 212., 215., 227., 230.,\n",
       "       236., 241., 245., 252., 259., 263., 265., 266., 269., 270., 296.,\n",
       "       338., 340., 397., 419., 595.])"
      ]
     },
     "execution_count": 6,
     "metadata": {},
     "output_type": "execute_result"
    }
   ],
   "source": [
    "df_sinasc['munResAlt'].dropna().sort_values().unique()"
   ]
  },
  {
   "cell_type": "code",
   "execution_count": 7,
   "metadata": {},
   "outputs": [
    {
     "name": "stdout",
     "output_type": "stream",
     "text": [
      "               count      mean       std  min  25%  50%  75%  max\n",
      "Mun_Alt_Cat                                                      \n",
      "200.0        20827.0  1.011716  0.163561  1.0  1.0  1.0  1.0  4.0\n",
      "400.0         4396.0  1.010464  0.156409  1.0  1.0  1.0  1.0  4.0\n",
      "600.0         1804.0  1.009978  0.152299  1.0  1.0  1.0  1.0  4.0\n",
      "               count       mean       std   min   25%   50%   75%   max\n",
      "Mun_Alt_Cat                                                            \n",
      "200.0        19698.0  39.954564  1.019243  22.0  40.0  40.0  40.0  42.0\n",
      "400.0         4296.0  39.982076  0.944517  22.0  40.0  40.0  40.0  42.0\n",
      "600.0         1801.0  39.992782  0.768442  31.0  40.0  40.0  40.0  42.0\n"
     ]
    }
   ],
   "source": [
    "df_sinasc_4 = df_sinasc.loc[:,['munResAlt','LOCNASC', 'GESTACAO']]\n",
    "# Criando faixas de 200 / 400 / 600\n",
    "mapeamento = {\n",
    "    85.: 200, 87.: 200, 99.: 200, 111.: 200, 124.: 200, \n",
    "    128.: 200, 133.: 200, 139.: 200, 144.: 200, 145.: 200, \n",
    "    151.: 200, 153.: 200, 154.: 200, 155.: 200, 157.: 200, \n",
    "    158.: 200, 161.: 200, 163.: 200, 166.: 200, 170.: 200, \n",
    "    177.: 200, 178.: 200, 182.: 200, 186.: 200, 191.: 200, \n",
    "    192.: 200, 197.: 200, 202.: 400, 206.: 400, 212.: 400, \n",
    "    215.: 400, 227.: 400, 230.: 400, 236.: 400, 241.: 400, \n",
    "    245.: 400, 252.: 400, 259.: 400, 263.: 400, 265.: 400, \n",
    "    266.: 400, 269.: 400, 270.: 400, 296.: 400, 338.: 400, \n",
    "    340.: 400, 397.: 400, 419.: 600, 595.: 600\n",
    "}\n",
    "\n",
    "#Mapeando a coluna 'GESTACAO'\n",
    "mapeamento_gestacao = {\n",
    "    'Menos de 22 semanas': 22,\n",
    "    '22 a 27 semanas':31,\n",
    "    '28 a 31 semanas':31,\n",
    "    '32 a 36 semanas':40,\n",
    "    '37 a 41 semanas':40,\n",
    "    '42 semanas e mais':42,\n",
    "    'Ignorado':42\n",
    "}\n",
    "df_sinasc_4['Gestacao_Cat'] = df_sinasc['GESTACAO'].map(mapeamento_gestacao)\n",
    "\n",
    "#Mapeando a coluna 'munResAlt'\n",
    "df_sinasc_4['Mun_Alt_Cat'] = df_sinasc_4['munResAlt'].map(mapeamento)\n",
    "\n",
    "print(df_sinasc_4.groupby('Mun_Alt_Cat')['LOCNASC'].describe())\n",
    "print(df_sinasc_4.groupby('Mun_Alt_Cat')['Gestacao_Cat'].describe())"
   ]
  },
  {
   "cell_type": "markdown",
   "metadata": {},
   "source": [
    "##### Esses dados mostram que idempendente da latitude as mães tem seus partos no Hospital e a grande maioria com 40 semanas ou menos!"
   ]
  },
  {
   "cell_type": "markdown",
   "metadata": {
    "id": "aF1riawJlTuF"
   },
   "source": [
    "### 4. Plote no mesmo grafico ao longo do tempo a idade media das mulheres de cada regiao imediatas de rondonia\n"
   ]
  },
  {
   "cell_type": "code",
   "execution_count": 8,
   "metadata": {
    "id": "6aZM5xKale9c"
   },
   "outputs": [
    {
     "data": {
      "image/png": "[encoded data removed]",
      "text/plain": [
       "<Figure size 1400x600 with 2 Axes>"
      ]
     },
     "metadata": {},
     "output_type": "display_data"
    }
   ],
   "source": [
    "imediatas = {\n",
    "    \"Candeias do Jamari\": \"Porto Velho\",\n",
    "    \"Guajará-Mirim\": \"Porto Velho\",\n",
    "    \"Itapuã do Oeste\": \"Porto Velho\",\n",
    "    \"Nova Mamoré\": \"Porto Velho\",\n",
    "    \"Porto Velho\": \"Porto Velho\",\n",
    "    \"Ariquemes\": \"Ariquemes\",\n",
    "    \"Alto Paraíso\": \"Ariquemes\",\n",
    "    \"Buritis\": \"Ariquemes\",\n",
    "    \"Cacaulândia\": \"Ariquemes\",\n",
    "    \"Campo Novo de Rondônia\": \"Ariquemes\",\n",
    "    \"Cujubim\": \"Ariquemes\",\n",
    "    \"Monte Negro\": \"Ariquemes\",\n",
    "    \"Rio Crespo\": \"Ariquemes\",\n",
    "    \"Jaru\": \"Jaru\",\n",
    "    \"Governador Jorge Teixeira\": \"Jaru\",\n",
    "    \"Machadinho D'Oeste\": \"Jaru\",\n",
    "    \"Theobroma\": \"Jaru\",\n",
    "    \"Vale do Anari\": \"Jaru\",\n",
    "    \"Alvorada D'Oeste\": \"Ji-Paraná\",\n",
    "    \"Costa Marques\": \"Ji-Paraná\",\n",
    "    \"Ji-Paraná\": \"Ji-Paraná\",\n",
    "    \"Mirante da Serra\": \"Ji-Paraná\",\n",
    "    \"Nova União\": \"Ji-Paraná\",\n",
    "    \"Ouro Preto do Oeste\": \"Ji-Paraná\",\n",
    "    \"Presidente Médici\": \"Ji-Paraná\",\n",
    "    \"São Francisco do Guaporé\": \"Ji-Paraná\",\n",
    "    \"São Miguel do Guaporé\": \"Ji-Paraná\",\n",
    "    \"Seringueiras\": \"Ji-Paraná\",\n",
    "    \"Teixeirópolis\": \"Ji-Paraná\",\n",
    "    \"Urupá\": \"Ji-Paraná\",\n",
    "    \"Vale do Paraíso\": \"Ji-Paraná\",\n",
    "    \"Cacoal\": \"Cacoal\",\n",
    "    \"Alta Floresta D'Oeste\": \"Cacoal\",\n",
    "    \"Alto Alegre dos Parecis\": \"Cacoal\",\n",
    "    \"Castanheiras\": \"Cacoal\",\n",
    "    \"Espigão D'Oeste\": \"Cacoal\",\n",
    "    \"Ministro Andreazza\": \"Cacoal\",\n",
    "    \"Nova Brasilândia D'Oeste\": \"Cacoal\",\n",
    "    \"Novo Horizonte do Oeste\": \"Cacoal\",\n",
    "    \"Parecis\": \"Cacoal\",\n",
    "    \"Pimenta Bueno\": \"Cacoal\",\n",
    "    \"Primavera de Rondônia\": \"Cacoal\",\n",
    "    \"Rolim de Moura\": \"Cacoal\",\n",
    "    \"Santa Luzia D'Oeste\": \"Cacoal\",\n",
    "    \"São Felipe D'Oeste\": \"Cacoal\",\n",
    "    \"Vilhena\": \"Vilhena\",\n",
    "    \"Cabixi\": \"Vilhena\",\n",
    "    \"Cerejeiras\": \"Vilhena\",\n",
    "    \"Chupinguaia\": \"Vilhena\",\n",
    "    \"Colorado do Oeste\": \"Vilhena\",\n",
    "    \"Corumbiara\": \"Vilhena\",\n",
    "    \"Pimenteiras do Oeste\": \"Vilhena\"\n",
    "}\n",
    "\n",
    "df_sinasc_5 = df_sinasc.loc[:,['munResNome', 'IDADEMAE']]\n",
    "df_sinasc_5['Mun_Ime_Cat'] = df_sinasc_5['munResNome'].map(imediatas)\n",
    "idade_media_mae_imediatas = df_sinasc_5.groupby('Mun_Ime_Cat')['IDADEMAE'].mean()\n",
    "idade_minima_mae_imediatas = df_sinasc_5.groupby('Mun_Ime_Cat')['IDADEMAE'].min()\n",
    "\n",
    "# Definir o tamanho da figura para dois gráficos lado a lado\n",
    "plt.figure(figsize=(14, 6))\n",
    "\n",
    "# Gráfico 1: Média da Idade da Mãe por Região Imediata\n",
    "plt.subplot(1, 2, 1)  # 1 linha, 2 colunas, gráfico 1\n",
    "sns.barplot(x=idade_media_mae_imediatas.index, y=idade_media_mae_imediatas.values, hue=idade_media_mae_imediatas.index, palette=\"viridis\", legend=False)\n",
    "plt.xlabel(\"Região Imediata\")\n",
    "plt.ylabel(\"Média da Idade da Mãe\")\n",
    "plt.title(\"Média da Idade das Mães por Região Imediata\")\n",
    "plt.xticks(rotation=45)\n",
    "\n",
    "# Gráfico 2: Menor Idade da Mãe por Região Imediata\n",
    "plt.subplot(1, 2, 2)  # 1 linha, 2 colunas, gráfico 2\n",
    "sns.barplot(x=idade_minima_mae_imediatas.index, y=idade_minima_mae_imediatas.values, hue=idade_minima_mae_imediatas.index, palette=\"coolwarm\", legend=False)\n",
    "plt.xlabel(\"Região Imediata\")\n",
    "plt.ylabel(\"Menor Idade da Mãe\")\n",
    "plt.title(\"Menor Idade das Mães por Região Imediata\")\n",
    "plt.xticks(rotation=45)\n",
    "\n",
    "# Ajustar o layout para não sobrepor os gráficos\n",
    "plt.tight_layout()\n",
    "\n",
    "# Mostrar os gráficos\n",
    "plt.show()\n"
   ]
  },
  {
   "cell_type": "markdown",
   "metadata": {},
   "source": [
    "##### Podemos ver nos graficos que de acordo com a região imediata em Rondonia, Ariquemes tem as mães mais novas do estado. "
   ]
  },
  {
   "cell_type": "markdown",
   "metadata": {
    "id": "yt-LIWxblTuF"
   },
   "source": [
    "### 5. Utilize a tabela do link abaixo e crie faixas utilizando o mapping e gere agrupamentos utilizando essas faixas como chave\n"
   ]
  },
  {
   "cell_type": "markdown",
   "metadata": {
    "id": "moZakjgIlTuF"
   },
   "source": [
    "### 5.1 IDH\n",
    "A - https://pt.wikipedia.org/wiki/Lista_de_munic%C3%ADpios_de_Rond%C3%B4nia_por_IDH-M\n"
   ]
  },
  {
   "cell_type": "code",
   "execution_count": 17,
   "metadata": {
    "id": "DaJk66_BlTuF"
   },
   "outputs": [
    {
     "name": "stdout",
     "output_type": "stream",
     "text": [
      "                    count       mean       std  min   25%   50%   75%   max\n",
      "Mun_Res_Nome_IDH                                                           \n",
      "Alto              15101.0  10.399046  1.991428  0.0  11.0  11.0  11.0  12.0\n",
      "Baixo              1893.0   9.929741  2.186550  0.0   7.0  11.0  11.0  12.0\n",
      "Médio              3812.0  10.498688  1.841744  0.0  11.0  11.0  11.0  12.0\n",
      "                    count      mean       std  min  25%  50%  75%   max\n",
      "Mun_Res_Nome_IDH                                                       \n",
      "Alto              14166.0  1.052661  1.145741  0.0  0.0  1.0  2.0  12.0\n",
      "Baixo              1628.0  1.226044  1.198959  0.0  0.0  1.0  2.0  10.0\n",
      "Médio              3798.0  1.012375  1.177260  0.0  0.0  1.0  2.0  11.0\n"
     ]
    }
   ],
   "source": [
    "# Mapeameando o nivel de escolaridade da mãe\n",
    "Mapeamento_Esc_Mae = {\n",
    "    '8 a 11 anos':11,\n",
    "    '12 anos ou mais':12,\n",
    "    '4 a 7 anos':7,\n",
    "    '1 a 3 anos':3,\n",
    "    'Nenhuma':0\n",
    "}\n",
    "df_sinasc['Esc_Mae'] = df_sinasc['ESCMAE'].map(Mapeamento_Esc_Mae)\n",
    "df_sinasc_6 = df_sinasc.loc[:,['Esc_Mae','munResNome', 'QTDFILVIVO', 'IDADEMAE', 'IDADEPAI']]\n",
    "\n",
    "# Mapeando o nivel de IDH dos Municipios \n",
    "mapeamento_IDH = {\n",
    "    'Porto Velho':'Alto',\n",
    "    'Cacoal':'Alto',\n",
    "    'Ariquemes':'Alto',\n",
    "    'Ji-Paraná':'Alto',\n",
    "    'Vilhena':'Alto',\n",
    "    'Rolim de Moura':'Médio',\n",
    "    'Pimenta Bueno':'Médio',\n",
    "    'Jaru':'Médio',\n",
    "    'Ouro Preto do Oeste':'Médio',\n",
    "    'Guajará-Mirim':'Médio',\n",
    "    'Nova Mamoré':'Baixo',\n",
    "    'Buritis':'Baixo',\n",
    "    \"Machadinho D'Oeste\":'Baixo',\n",
    "    'Alto Paraíso':'Baixo',\n",
    "    'Campo Novo de Rondônia':'Baixo'\n",
    "}\n",
    "df_sinasc_6['Mun_Res_Nome_IDH'] = df_sinasc_6['munResNome'].map(mapeamento_IDH)\n",
    "\n",
    "idh_RO_M_1 = df_sinasc_6.groupby('Mun_Res_Nome_IDH')['Esc_Mae'].describe()\n",
    "print(idh_RO_M_1)\n",
    "\n",
    "idh_RO_M_2 = df_sinasc_6.groupby('Mun_Res_Nome_IDH')['QTDFILVIVO'].describe()\n",
    "print(idh_RO_M_2)\n"
   ]
  },
  {
   "cell_type": "markdown",
   "metadata": {},
   "source": [
    "##### Não existe relação entre o indece de IDH-M com a escolaridade baixa ou alta da mãe, os dados mostram que indenpendente do nivel de IDH-M a quantidade de filhos em sua maioria é 2. "
   ]
  },
  {
   "cell_type": "markdown",
   "metadata": {
    "id": "zhtI6CxtlTuH"
   },
   "source": [
    "### 5.2 IFDM\n",
    "B - https://pt.wikipedia.org/wiki/Lista_de_munic%C3%ADpios_de_Rond%C3%B4nia_por_IFDM\n"
   ]
  },
  {
   "cell_type": "code",
   "execution_count": 12,
   "metadata": {
    "id": "1AVkd1M3lTuI"
   },
   "outputs": [
    {
     "name": "stdout",
     "output_type": "stream",
     "text": [
      "               count       mean       std  min   25%   50%   75%   max\n",
      "Mun_IFDM_RO                                                           \n",
      "Alto         12149.0  10.269405  2.087627  0.0  11.0  11.0  11.0  12.0\n",
      "Baixo          427.0  10.248244  1.907292  3.0  11.0  11.0  11.0  12.0\n",
      "Moderado      5373.0  10.769775  1.609390  0.0  11.0  11.0  12.0  12.0\n",
      "Regular        776.0  10.222938  2.004006  0.0  11.0  11.0  11.0  12.0\n",
      "               count      mean       std  min  25%  50%  75%   max\n",
      "Mun_IFDM_RO                                                       \n",
      "Alto         11214.0  1.090423  1.170794  0.0  0.0  1.0  2.0  12.0\n",
      "Baixo          394.0  1.045685  1.099592  0.0  0.0  1.0  2.0   8.0\n",
      "Moderado      5371.0  0.896481  0.998177  0.0  0.0  1.0  1.0  10.0\n",
      "Regular        769.0  1.543563  1.694350  0.0  0.0  1.0  2.0  11.0\n"
     ]
    }
   ],
   "source": [
    "# Mapeando IFDM de RO\n",
    "mapeamento_ifdm_ro = {\n",
    "    'Porto Velho': 'Alto',\n",
    "    'Ji-Paraná': 'Alto',\n",
    "    'Ariquemes': 'Alto',\n",
    "    'Cacoal': 'Moderado',\n",
    "    'Vilhena': 'Moderado',\n",
    "    'Ouro Preto do Oeste': 'Moderado',\n",
    "    'Jaru': 'Moderado',\n",
    "    'Rolim de Moura': 'Moderado',\n",
    "    'Guajará-Mirim': 'Regular',\n",
    "    'Espigão do Oeste': 'Regular',\n",
    "    'Machadinho d\\'Oeste': 'Regular',\n",
    "    'Campo Novo de Rondônia': 'Baixo',\n",
    "    'Chupinguaia': 'Baixo',\n",
    "    'Nova União': 'Baixo'\n",
    "}\n",
    "df_sinasc_6['Mun_IFDM_RO'] = df_sinasc['munResNome'].map(mapeamento_ifdm_ro)\n",
    "\n",
    "Mun_RO_IFDM = df_sinasc_6.groupby('Mun_IFDM_RO')['Esc_Mae'].describe()\n",
    "print(Mun_RO_IFDM)\n",
    "\n",
    "Mun_RO_IFDM_2 = df_sinasc_6.groupby('Mun_IFDM_RO')['QTDFILVIVO'].describe()\n",
    "print(Mun_RO_IFDM_2)"
   ]
  },
  {
   "cell_type": "markdown",
   "metadata": {},
   "source": [
    "##### Com base nos dados, não existe relação de escolaridade ou quantidade de filhos de acordo com o IFDM."
   ]
  },
  {
   "cell_type": "markdown",
   "metadata": {
    "id": "BwdS46EWlTuI"
   },
   "source": [
    "### 5.3 PIB\n",
    "C - https://pt.wikipedia.org/wiki/Lista_de_munic%C3%ADpios_de_Rond%C3%B4nia_por_PIB\n"
   ]
  },
  {
   "cell_type": "markdown",
   "metadata": {
    "id": "bdWGW_xtlTuI"
   },
   "source": [
    "### Analise as respostas encontradas, tire algum insight delas, conte pra gente algo encontrado nos dados."
   ]
  },
  {
   "cell_type": "markdown",
   "metadata": {
    "id": "shZvokfBlTuI"
   },
   "source": [
    "Exemplo:\n",
    "- Ah, descobri que a idade mediana das mulheres que deram a luz no ano de 2019 dos municipios com o PIB mais alto é a maior dentre todas."
   ]
  },
  {
   "cell_type": "code",
   "execution_count": 20,
   "metadata": {
    "id": "f8P7BYYglTuJ"
   },
   "outputs": [
    {
     "name": "stdout",
     "output_type": "stream",
     "text": [
      "              count      mean       std  min  25%  50%  75%   max\n",
      "Mun_PIB_RO                                                       \n",
      "Alto        11076.0  1.085681  1.167571  0.0  0.0  1.0  2.0  12.0\n",
      "Moderado     5493.0  0.906973  1.014234  0.0  0.0  1.0  1.0   9.0\n",
      "Regular      4497.0  1.172337  1.278365  0.0  0.0  1.0  2.0  11.0\n",
      "              count       mean       std  min   25%   50%   75%   max\n",
      "Mun_PIB_RO                                                           \n",
      "Alto        12005.0  10.396002  1.987830  0.0  11.0  11.0  11.0  12.0\n",
      "Moderado     5503.0  10.481737  1.921294  0.0  11.0  11.0  11.0  12.0\n",
      "Regular      4764.0  10.211167  2.038140  0.0  11.0  11.0  11.0  12.0\n",
      "              count       mean       std   min   25%   50%   75%   max\n",
      "Mun_PIB_RO                                                            \n",
      "Alto        12209.0  26.337128  6.460412  12.0  21.0  26.0  31.0  47.0\n",
      "Moderado     5527.0  26.107472  6.274545  12.0  21.0  26.0  31.0  47.0\n",
      "Regular      4805.0  25.759417  6.435582  11.0  21.0  25.0  30.0  53.0\n",
      "             count       mean       std   min   25%   50%   75%   max\n",
      "Mun_PIB_RO                                                           \n",
      "Alto        1878.0  31.842386  7.713964  15.0  26.0  31.0  36.0  65.0\n",
      "Moderado    2772.0  30.611111  7.765574  16.0  25.0  30.0  35.0  70.0\n",
      "Regular      975.0  31.313846  7.733760  16.0  25.0  30.0  36.0  64.0\n"
     ]
    }
   ],
   "source": [
    "mapeamento_pib_ro = {\n",
    "    'Porto Velho': 'Alto',\n",
    "    'Ji-Paraná': 'Alto',\n",
    "    'Vilhena': 'Alto',\n",
    "    'Cacoal': 'Moderado',\n",
    "    'Ariquemes': 'Moderado',\n",
    "    'Rolim de Moura': 'Moderado',\n",
    "    'Jaru': 'Moderado',\n",
    "    'Pimenta Bueno': 'Moderado',\n",
    "    'Guajará-Mirim': 'Regular',\n",
    "    'Ouro Preto do Oeste': 'Regular',\n",
    "    'Espigão d\\'Oeste': 'Regular',\n",
    "    'Buritis': 'Regular',\n",
    "    'São Miguel do Guaporé': 'Regular',\n",
    "    'Machadinho do Oeste': 'Regular',\n",
    "    'Alta Floresta do Oeste': 'Regular',\n",
    "    'Presidente Médici': 'Regular',\n",
    "    'Nova Mamoré': 'Regular',\n",
    "    'Cerejeiras': 'Regular',\n",
    "    'Candeias do Jamari': 'Regular',\n",
    "    'Colorado do Oeste': 'Regular',\n",
    "    'São Francisco do Guaporé': 'Regular',\n",
    "    'Nova Brasilândia do Oeste': 'Regular',\n",
    "    'Cujubim': 'Regular',\n",
    "    'Alto Paraíso': 'Regular',\n",
    "    'Monte Negro': 'Regular'\n",
    "}\n",
    "\n",
    "df_sinasc_6['Mun_PIB_RO'] = df_sinasc['munResNome'].map(mapeamento_pib_ro)\n",
    "\n",
    "Mun_RO_PIB = df_sinasc_6.groupby('Mun_PIB_RO')['QTDFILVIVO'].describe()\n",
    "print(Mun_RO_PIB)\n",
    "\n",
    "Mun_RO_PIB_Esc = df_sinasc_6.groupby('Mun_PIB_RO')['Esc_Mae'].describe()\n",
    "print(Mun_RO_PIB_Esc)\n",
    "\n",
    "Mun_RO_PIB_Esc_Idade = df_sinasc_6.groupby('Mun_PIB_RO')['IDADEMAE'].describe()\n",
    "print(Mun_RO_PIB_Esc_Idade)\n",
    "\n",
    "Mun_RO_PIB_Esc_Idade_Pai= df_sinasc_6.groupby('Mun_PIB_RO')['IDADEPAI'].describe()\n",
    "print(Mun_RO_PIB_Esc_Idade_Pai)"
   ]
  },
  {
   "cell_type": "markdown",
   "metadata": {},
   "source": [
    "##### O PIB do municipio "
   ]
  },
  {
   "cell_type": "code",
   "execution_count": null,
   "metadata": {},
   "outputs": [],
   "source": []
  }
 ],
 "metadata": {
  "colab": {
   "provenance": []
  },
  "kernelspec": {
   "display_name": "Python 3 (ipykernel)",
   "language": "python",
   "name": "python3"
  },
  "language_info": {
   "codemirror_mode": {
    "name": "ipython",
    "version": 3
   },
   "file_extension": ".py",
   "mimetype": "text/x-python",
   "name": "python",
   "nbconvert_exporter": "python",
   "pygments_lexer": "ipython3",
   "version": "3.12.4"
  },
  "varInspector": {
   "cols": {
    "lenName": 16,
    "lenType": 16,
    "lenVar": 40
   },
   "kernels_config": {
    "python": {
     "delete_cmd_postfix": "",
     "delete_cmd_prefix": "del ",
     "library": "var_list.py",
     "varRefreshCmd": "print(var_dic_list())"
    },
    "r": {
     "delete_cmd_postfix": ") ",
     "delete_cmd_prefix": "rm(",
     "library": "var_list.r",
     "varRefreshCmd": "cat(var_dic_list()) "
    }
   },
   "types_to_exclude": [
    "module",
    "function",
    "builtin_function_or_method",
    "instance",
    "_Feature"
   ],
   "window_display": false
  }
 },
 "nbformat": 4,
 "nbformat_minor": 4
}
