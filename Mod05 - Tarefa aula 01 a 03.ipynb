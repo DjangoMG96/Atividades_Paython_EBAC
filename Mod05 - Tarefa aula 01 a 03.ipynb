{
 "cells": [
  {
   "cell_type": "markdown",
   "metadata": {},
   "source": [
    "# Módulo 5 Tarefa 1\n"
   ]
  },
  {
   "cell_type": "markdown",
   "metadata": {
    "jp-MarkdownHeadingCollapsed": true
   },
   "source": [
    "## Base de nascidos vivos do DataSUS\n"
   ]
  },
  {
   "cell_type": "markdown",
   "metadata": {},
   "source": [
    "### Nosso objetivo\n",
    "Queremos deixar uma base organizada para podermos estudar a relação entre partos com risco para o bebê e algumas condições como tempo de parto, consultas de pré-natal etc.\n",
    "\n",
    "O DataSUS disponibiliza diversos arquivos de dados com relação a seus segurados, conforme a [lei da transparência de informações públicas](https://www.sisgov.com/transparencia-acesso-informacao/#:~:text=A%20Lei%20da%20Transpar%C3%AAncia%20(LC,em%20um%20site%20na%20internet.). \n",
    "\n",
    "Essas informações podem ser obtidas pela internet [aqui](http://www2.datasus.gov.br/DATASUS/index.php?area=0901&item=1). Como o processo de obtenção desses arquivos foge um pouco do nosso escopo, deixamos o arquivo SINASC_RO_2019.csv` já como vai ser encontrado no DataSUS. O dicionário de dados está no arquivo `estrutura_sinasc_para_CD.pdf` (o nome do arquivo tal qual no portal do DataSUS).\n",
    "\n",
    "#### Preparação da base\n",
    "1. Carregue a base 'SINASC_RO_2019.csv'. Conte o número de registros e o número de registros não duplicados da base. Dica: você aprendeu um método que remove duplicados, encadeie este método com um outro método que conta o número de linhas. **Há linhas duplicadas?**  \n",
    "\n",
    "2. Conte o número de valores *missing* por variável.  \n",
    "\n",
    "3. Ok, no item anterior você deve ter achado pouco prático ler a informação de tantas variáveis, muitas delas nem devem ser interesantes. Então crie uma seleção dessa base somente com as colunas que interessam. São elas:\n",
    "` \n",
    "['LOCNASC', 'IDADEMAE', 'ESTCIVMAE', 'ESCMAE', 'QTDFILVIVO', \n",
    "    'GESTACAO', 'GRAVIDEZ', 'CONSULTAS', 'APGAR5'] \n",
    "`\n",
    "Refaça a contagem de valores *missings*.  \n",
    "\n",
    "4. Apgar é uma *nota* que o pediatra dá ao bebê quando nasce de acordo com algumas características associadas principalmente à respiração. Apgar 1 e Apgar 5 são as notas 1 e 5 minutos do nascimento. Apgar5 será a nossa variável de interesse principal. Então remova todos os registros com Apgar5 não preenchido. Para esta seleção, conte novamente o número de linhas e o número de *missings*.  \n",
    "\n",
    "5. observe que as variáveis `['ESTCIVMAE', 'CONSULTAS']` possuem o código `9`, que significa *ignorado*. Vamos assumir que o não preenchido é o mesmo que o código `9`.<br>\n",
    "6. Substitua os valores faltantes da quantitativa (`QTDFILVIVO`) por zero.  \n",
    "7. Das restantes, decida que valore te parece mais adequado (um 'não preenchido' ou um valor 'mais provável' como no item anterior) e preencha. Justifique. Lembre-se de que tratamento de dados é trabalho do cientista, e que estamos tomando decisões a todo o momento - não há necessariamente certo e errado aqui.  \n",
    "8. O Apgar possui uma classificação indicando se o bebê passou por asfixia:\n",
    "- Entre 8 e 10 está em uma faixa 'normal'. \n",
    "- Entre 6 e 7, significa que o recém-nascido passou por 'asfixia leve'. \n",
    "- Entre 4 e 5 significa 'asfixia moderada'.\n",
    "- Entre 0 e 3 significa 'asfixia severa'.  \n",
    "\n",
    "Crie uma categorização dessa variável com essa codificação e calcule as frequências dessa categorização.  \n",
    "<br>\n",
    "9. Renomeie as variáveis para que fiquem no *snake case*, ou seja, em letras minúsculas, com um *underscore* entre as palávras. Dica: repare que se você não quiser criar um *dataframe* novo, você vai precisar usar a opção `inplace = True`."
   ]
  },
  {
   "cell_type": "markdown",
   "metadata": {
    "jp-MarkdownHeadingCollapsed": true
   },
   "source": [
    "# Esta analise irá depurar o documento do DataSUS [SINAS 2019](https://datasus.saude.gov.br/)\r\n"
   ]
  },
  {
   "cell_type": "markdown",
   "metadata": {
    "jp-MarkdownHeadingCollapsed": true
   },
   "source": [
    "## Este arquivo de dados tem muitas variáveis, estou descrevendo as mais importantes:\n",
    "\n"
   ]
  },
  {
   "cell_type": "markdown",
   "metadata": {},
   "source": [
    "| Header  | Definition | Describe|\n",
    "|---------|------------|---------|\n",
    "|APGAR5|Apgar no quinto minuto|00 a 10 | 10\n",
    "|GESTACAO|Semanas de gestação |9: Ignorado |\n",
    "|||Menos de 22 semanas |\n",
    "|||22 a 27 semanas  |\n",
    "|||28 a 31 semanas |\n",
    "|||32 a 36 semanas |\n",
    "|||32 a 36 semanas |\n",
    "|||37 a 41 semanas |\n",
    "|||42 semanas e mais |\n",
    "|GRAVIDEZ|Tipo de gravidez|9: Ignorado |\n",
    "|||1: Única|\n",
    "|||2: Dupla|\n",
    "|||3: Tripla e mais|"
   ]
  },
  {
   "cell_type": "markdown",
   "metadata": {
    "jp-MarkdownHeadingCollapsed": true
   },
   "source": [
    "## Amostragem inicial do DataFrame:"
   ]
  },
  {
   "cell_type": "code",
   "execution_count": 1,
   "metadata": {},
   "outputs": [
    {
     "name": "stdout",
     "output_type": "stream",
     "text": [
      "(27028, 69)\n"
     ]
    },
    {
     "data": {
      "text/plain": [
       "(27028, 69)"
      ]
     },
     "execution_count": 1,
     "metadata": {},
     "output_type": "execute_result"
    }
   ],
   "source": [
    "import pandas as pd\n",
    "import requests\n",
    "import re\n",
    "\n",
    "# 1) seu código aqui\n",
    "sinasc = pd.read_csv('SINASC_RO_2019.csv')\n",
    "\n",
    "#Não há duplicados\n",
    "print(sinasc.shape)\n",
    "sinasc.drop_duplicates().shape \n",
    "\n",
    "#sinasc.head()"
   ]
  },
  {
   "cell_type": "code",
   "execution_count": 2,
   "metadata": {},
   "outputs": [
    {
     "data": {
      "text/plain": [
       "ORIGEM        0.000000\n",
       "CODESTAB      0.425485\n",
       "CODMUNNASC    0.000000\n",
       "LOCNASC       0.000000\n",
       "IDADEMAE      0.000000\n",
       "                ...   \n",
       "munResUf      0.000000\n",
       "munResLat     0.003700\n",
       "munResLon     0.003700\n",
       "munResAlt     0.003700\n",
       "munResArea    0.003700\n",
       "Length: 69, dtype: float64"
      ]
     },
     "execution_count": 2,
     "metadata": {},
     "output_type": "execute_result"
    }
   ],
   "source": [
    "# 2) seu código aqui\n",
    "\n",
    "#porcentagem de NaN na amostragem\n",
    "sinasc.isna().sum() / len(sinasc) * 100"
   ]
  },
  {
   "cell_type": "markdown",
   "metadata": {},
   "source": [
    "Recorte das colunas mais importantes para a analise: "
   ]
  },
  {
   "cell_type": "code",
   "execution_count": 3,
   "metadata": {},
   "outputs": [
    {
     "data": {
      "text/plain": [
       "LOCNASC       0.000000\n",
       "IDADEMAE      0.000000\n",
       "ESTCIVMAE     1.172858\n",
       "ESCMAE        1.154358\n",
       "QTDFILVIVO    5.819890\n",
       "GESTACAO      4.558236\n",
       "GRAVIDEZ      0.292289\n",
       "CONSULTAS     0.000000\n",
       "APGAR5        0.381086\n",
       "dtype: float64"
      ]
     },
     "execution_count": 3,
     "metadata": {},
     "output_type": "execute_result"
    }
   ],
   "source": [
    "# 3) seu código aqui\n",
    "\n",
    "#recortanto as colunas de interesse desse estudo e verificando a % de NaN\n",
    "colunas = ['LOCNASC', 'IDADEMAE', 'ESTCIVMAE', 'ESCMAE', 'QTDFILVIVO',   'GESTACAO', 'GRAVIDEZ', 'CONSULTAS', 'APGAR5']\n",
    "sinasc_df = sinasc[colunas]\n",
    "\n",
    "#fazendo a contagem de NaN do DF\n",
    " \n",
    "sinasc_df.isna().sum() / len(sinasc_df) * 100\n",
    "\n"
   ]
  },
  {
   "cell_type": "markdown",
   "metadata": {
    "jp-MarkdownHeadingCollapsed": true
   },
   "source": [
    "## Tratamento dos dados da variável resposta 'APGAR5'"
   ]
  },
  {
   "cell_type": "code",
   "execution_count": 4,
   "metadata": {},
   "outputs": [
    {
     "name": "stderr",
     "output_type": "stream",
     "text": [
      "C:\\Users\\djang\\AppData\\Local\\Temp\\ipykernel_12176\\1844497661.py:4: SettingWithCopyWarning: \n",
      "A value is trying to be set on a copy of a slice from a DataFrame\n",
      "\n",
      "See the caveats in the documentation: https://pandas.pydata.org/pandas-docs/stable/user_guide/indexing.html#returning-a-view-versus-a-copy\n",
      "  sinasc_df.dropna(subset=['APGAR5'], inplace=True)\n"
     ]
    },
    {
     "data": {
      "text/plain": [
       "LOCNASC       0.000000\n",
       "IDADEMAE      0.000000\n",
       "ESTCIVMAE     1.169916\n",
       "ESCMAE        1.151346\n",
       "QTDFILVIVO    5.816156\n",
       "GESTACAO      4.516249\n",
       "GRAVIDEZ      0.282266\n",
       "CONSULTAS     0.000000\n",
       "APGAR5        0.000000\n",
       "dtype: float64"
      ]
     },
     "execution_count": 4,
     "metadata": {},
     "output_type": "execute_result"
    }
   ],
   "source": [
    "# 4) seu código aqui\n",
    "\n",
    "#Código que remove as linhas NaN da variável resposta\n",
    "sinasc_df.dropna(subset=['APGAR5'], inplace=True)\n",
    "\n",
    "#fazendo a contagem novamente, vemos que a % de NaN na coluna é zero \n",
    "sinasc_df.isna().sum() / len(sinasc_df) * 100\n",
    "\n"
   ]
  },
  {
   "cell_type": "markdown",
   "metadata": {
    "jp-MarkdownHeadingCollapsed": true
   },
   "source": [
    "## Tratamento de NaN das variáveis explicativas "
   ]
  },
  {
   "cell_type": "markdown",
   "metadata": {
    "jp-MarkdownHeadingCollapsed": true
   },
   "source": [
    "### Tratando a coluna explicativa 'QTDFILVIVO'"
   ]
  },
  {
   "cell_type": "markdown",
   "metadata": {},
   "source": [
    "Padronizei a variável 'QTDfilvivo' como 0 (sem filho) "
   ]
  },
  {
   "cell_type": "code",
   "execution_count": 5,
   "metadata": {},
   "outputs": [
    {
     "name": "stderr",
     "output_type": "stream",
     "text": [
      "C:\\Users\\djang\\AppData\\Local\\Temp\\ipykernel_12176\\3263153164.py:4: FutureWarning: A value is trying to be set on a copy of a DataFrame or Series through chained assignment using an inplace method.\n",
      "The behavior will change in pandas 3.0. This inplace method will never work because the intermediate object on which we are setting values always behaves as a copy.\n",
      "\n",
      "For example, when doing 'df[col].method(value, inplace=True)', try using 'df.method({col: value}, inplace=True)' or df[col] = df[col].method(value) instead, to perform the operation inplace on the original object.\n",
      "\n",
      "\n",
      "  sinasc['QTDFILVIVO'].fillna(0, inplace = True)\n"
     ]
    },
    {
     "data": {
      "text/plain": [
       "array([ 0.,  1.,  2.,  3., nan,  4.,  6.,  5.,  7., 12.,  9., 11.,  8.,\n",
       "       30., 10., 14.])"
      ]
     },
     "execution_count": 5,
     "metadata": {},
     "output_type": "execute_result"
    }
   ],
   "source": [
    "# 6) Seu código aqui\n",
    "\n",
    "#tratando a coluna 'QTDfilvivo', padronizando NaN como 0 \n",
    "sinasc['QTDFILVIVO'].fillna(0, inplace = True)\n",
    "sinasc_df['QTDFILVIVO'].unique()"
   ]
  },
  {
   "cell_type": "markdown",
   "metadata": {
    "jp-MarkdownHeadingCollapsed": true
   },
   "source": [
    "### Tratando coluna explicativa 'CONSULTAS' e 'ESTCIVMAE'"
   ]
  },
  {
   "cell_type": "code",
   "execution_count": 6,
   "metadata": {},
   "outputs": [
    {
     "name": "stderr",
     "output_type": "stream",
     "text": [
      "C:\\Users\\djang\\AppData\\Local\\Temp\\ipykernel_12176\\3899372781.py:6: FutureWarning: A value is trying to be set on a copy of a DataFrame or Series through chained assignment using an inplace method.\n",
      "The behavior will change in pandas 3.0. This inplace method will never work because the intermediate object on which we are setting values always behaves as a copy.\n",
      "\n",
      "For example, when doing 'df[col].method(value, inplace=True)', try using 'df.method({col: value}, inplace=True)' or df[col] = df[col].method(value) instead, to perform the operation inplace on the original object.\n",
      "\n",
      "\n",
      "  sinasc_df['ESTCIVMAE'].fillna(9, inplace = True)\n",
      "C:\\Users\\djang\\AppData\\Local\\Temp\\ipykernel_12176\\3899372781.py:6: SettingWithCopyWarning: \n",
      "A value is trying to be set on a copy of a slice from a DataFrame\n",
      "\n",
      "See the caveats in the documentation: https://pandas.pydata.org/pandas-docs/stable/user_guide/indexing.html#returning-a-view-versus-a-copy\n",
      "  sinasc_df['ESTCIVMAE'].fillna(9, inplace = True)\n"
     ]
    },
    {
     "data": {
      "text/plain": [
       "ESTCIVMAE\n",
       "2.0          9906\n",
       "1.0          8907\n",
       "5.0          7145\n",
       "9.0           459\n",
       "4.0           451\n",
       "3.0            57\n",
       "Name: count, dtype: int64"
      ]
     },
     "execution_count": 6,
     "metadata": {},
     "output_type": "execute_result"
    }
   ],
   "source": [
    "# 5) seu código aqui\n",
    "#Código que identifica NaN na coluna  \n",
    "sinasc_df[['CONSULTAS', 'ESTCIVMAE']].isna().sum() / len(sinasc_df) * 100\n",
    "\n",
    "#Código que altera o NaN para 9 (ignorado).\n",
    "sinasc_df['ESTCIVMAE'].fillna(9, inplace = True)\n",
    "sinasc_df[['ESTCIVMAE']].value_counts()"
   ]
  },
  {
   "cell_type": "markdown",
   "metadata": {
    "jp-MarkdownHeadingCollapsed": true
   },
   "source": [
    "### Tratando coluna explicativa 'ESCMAE'"
   ]
  },
  {
   "cell_type": "markdown",
   "metadata": {},
   "source": [
    "A variável 'ESCMAE' tem 310 dados sem preenchimento (NaN), cerca de 1%. \n"
   ]
  },
  {
   "cell_type": "code",
   "execution_count": 7,
   "metadata": {},
   "outputs": [
    {
     "name": "stderr",
     "output_type": "stream",
     "text": [
      "C:\\Users\\djang\\AppData\\Local\\Temp\\ipykernel_12176\\4086122762.py:4: FutureWarning: A value is trying to be set on a copy of a DataFrame or Series through chained assignment using an inplace method.\n",
      "The behavior will change in pandas 3.0. This inplace method will never work because the intermediate object on which we are setting values always behaves as a copy.\n",
      "\n",
      "For example, when doing 'df[col].method(value, inplace=True)', try using 'df.method({col: value}, inplace=True)' or df[col] = df[col].method(value) instead, to perform the operation inplace on the original object.\n",
      "\n",
      "\n",
      "  sinasc_df['ESCMAE'].fillna(9, inplace = True)\n",
      "C:\\Users\\djang\\AppData\\Local\\Temp\\ipykernel_12176\\4086122762.py:4: SettingWithCopyWarning: \n",
      "A value is trying to be set on a copy of a slice from a DataFrame\n",
      "\n",
      "See the caveats in the documentation: https://pandas.pydata.org/pandas-docs/stable/user_guide/indexing.html#returning-a-view-versus-a-copy\n",
      "  sinasc_df['ESCMAE'].fillna(9, inplace = True)\n"
     ]
    },
    {
     "data": {
      "text/plain": [
       "array(['8 a 11 anos', '12 anos ou mais', '1 a 3 anos', '4 a 7 anos', 9,\n",
       "       'Nenhuma'], dtype=object)"
      ]
     },
     "execution_count": 7,
     "metadata": {},
     "output_type": "execute_result"
    }
   ],
   "source": [
    "#Código que identifica NaN na coluna  \n",
    "sinasc_df['ESCMAE'].isna().sum() / len(sinasc_df) * 100\n",
    "#coluna 'ESCMAE' - padronizando os NaN como 9 (ignorado) \n",
    "sinasc_df['ESCMAE'].fillna(9, inplace = True)\n",
    "sinasc_df['ESCMAE'].unique()"
   ]
  },
  {
   "cell_type": "markdown",
   "metadata": {
    "jp-MarkdownHeadingCollapsed": true
   },
   "source": [
    "### Tratando coluna explicativa 'ESTCIVMAE'"
   ]
  },
  {
   "cell_type": "markdown",
   "metadata": {},
   "source": [
    "A variável 'ESTCIVMAE' tem 315 dados sem preenchimento (NaN), cerca de 1%, por tanto irei remover os dados pois não são relevantes para a analise. "
   ]
  },
  {
   "cell_type": "code",
   "execution_count": 8,
   "metadata": {},
   "outputs": [
    {
     "name": "stderr",
     "output_type": "stream",
     "text": [
      "C:\\Users\\djang\\AppData\\Local\\Temp\\ipykernel_12176\\3630356161.py:4: SettingWithCopyWarning: \n",
      "A value is trying to be set on a copy of a slice from a DataFrame\n",
      "\n",
      "See the caveats in the documentation: https://pandas.pydata.org/pandas-docs/stable/user_guide/indexing.html#returning-a-view-versus-a-copy\n",
      "  sinasc_df.dropna(subset = ['ESTCIVMAE'], inplace = True)\n"
     ]
    },
    {
     "data": {
      "text/plain": [
       "0"
      ]
     },
     "execution_count": 8,
     "metadata": {},
     "output_type": "execute_result"
    }
   ],
   "source": [
    "#Código que identifica NaN na coluna  \n",
    "sinasc_df['ESTCIVMAE'].isna().sum() / len(sinasc_df) * 100\n",
    "#Código que remove a linha NaN\n",
    "sinasc_df.dropna(subset = ['ESTCIVMAE'], inplace = True)\n",
    "sinasc_df['ESTCIVMAE'].isna().sum()"
   ]
  },
  {
   "cell_type": "code",
   "execution_count": 9,
   "metadata": {},
   "outputs": [],
   "source": [
    "# 7) seu código aqui"
   ]
  },
  {
   "cell_type": "markdown",
   "metadata": {},
   "source": [
    "### Tratando coluna explicativa 'GESTACAO'"
   ]
  },
  {
   "cell_type": "markdown",
   "metadata": {},
   "source": [
    "A variável 'GESTACAO' tem 1216 dados sem preenchimento (NaN), cerca de 4.5%. "
   ]
  },
  {
   "cell_type": "code",
   "execution_count": 10,
   "metadata": {},
   "outputs": [
    {
     "data": {
      "text/plain": [
       "array(['37 a 41 semanas', '42 semanas e mais', '32 a 36 semanas',\n",
       "       '22 a 27 semanas', '28 a 31 semanas', nan, 'Menos de 22 semanas'],\n",
       "      dtype=object)"
      ]
     },
     "execution_count": 10,
     "metadata": {},
     "output_type": "execute_result"
    }
   ],
   "source": [
    "#Código que identifica NaN na coluna  \n",
    "sinasc_df['GESTACAO'].isna().sum() / len(sinasc_df) * 100\n",
    "sinasc_df['GESTACAO'].value_counts()\n",
    "sinasc_df['GESTACAO'].unique()"
   ]
  },
  {
   "cell_type": "code",
   "execution_count": 11,
   "metadata": {},
   "outputs": [
    {
     "name": "stderr",
     "output_type": "stream",
     "text": [
      "C:\\Users\\djang\\AppData\\Local\\Temp\\ipykernel_12176\\2909767642.py:20: SettingWithCopyWarning: \n",
      "A value is trying to be set on a copy of a slice from a DataFrame.\n",
      "Try using .loc[row_indexer,col_indexer] = value instead\n",
      "\n",
      "See the caveats in the documentation: https://pandas.pydata.org/pandas-docs/stable/user_guide/indexing.html#returning-a-view-versus-a-copy\n",
      "  sinasc_df['GESTACAOVALORES'] = sinasc_df['GESTACAO'].map(mapa_gestacao)\n"
     ]
    },
    {
     "data": {
      "text/plain": [
       "39.0"
      ]
     },
     "execution_count": 11,
     "metadata": {},
     "output_type": "execute_result"
    }
   ],
   "source": [
    "#criando um DataFrame com as semanas e quantidades por categoria \n",
    "data = {\n",
    "    'Gestação': ['37 a 41 semanas', '32 a 36 semanas', '42 semanas e mais', \n",
    "                 '28 a 31 semanas', '22 a 27 semanas', 'Menos de 22 semanas'],\n",
    "    'Quantidade': [22523, 2234, 698, 162, 85, 7]\n",
    "}\n",
    "sinasc_df_gestacao = pd.DataFrame(data)\n",
    "\n",
    "#Mapeamento das categorias para valores médios de semana (média ponderada das semanas)\n",
    "mapa_gestacao = {\n",
    "    '37 a 41 semanas': 39,\n",
    "    '32 a 36 semanas': 34,\n",
    "    '42 semanas e mais': 42,\n",
    "    '28 a 31 semanas': 29.5,\n",
    "    '22 a 27 semanas': 24.5,\n",
    "    'Menos de 22 semanas': 21\n",
    "}\n",
    "\n",
    "#criando uma coluna nova com os valores no DataFrame raiz \n",
    "sinasc_df['GESTACAOVALORES'] = sinasc_df['GESTACAO'].map(mapa_gestacao)\n",
    "\n",
    "#calculando a média ponderada, considerando a quantidade de cada grupo\n",
    "\n",
    "media_ponderada = (sinasc_df['GESTACAOVALORES'] * sinasc_df_gestacao['Quantidade']).sum() / sinasc_df_gestacao['Quantidade'].sum()\n",
    "media_ponderada"
   ]
  },
  {
   "cell_type": "markdown",
   "metadata": {},
   "source": [
    "A média ponderada entre essas semanas é 39, se encaixando entre 37 e 41 anos, por tanto, irei preencher os NaN nessa categoria."
   ]
  },
  {
   "cell_type": "code",
   "execution_count": 12,
   "metadata": {},
   "outputs": [
    {
     "name": "stderr",
     "output_type": "stream",
     "text": [
      "C:\\Users\\djang\\AppData\\Local\\Temp\\ipykernel_12176\\257020812.py:2: FutureWarning: A value is trying to be set on a copy of a DataFrame or Series through chained assignment using an inplace method.\n",
      "The behavior will change in pandas 3.0. This inplace method will never work because the intermediate object on which we are setting values always behaves as a copy.\n",
      "\n",
      "For example, when doing 'df[col].method(value, inplace=True)', try using 'df.method({col: value}, inplace=True)' or df[col] = df[col].method(value) instead, to perform the operation inplace on the original object.\n",
      "\n",
      "\n",
      "  sinasc_df['GESTACAO'].fillna('37 a 41 semanas', inplace = True)\n",
      "C:\\Users\\djang\\AppData\\Local\\Temp\\ipykernel_12176\\257020812.py:2: SettingWithCopyWarning: \n",
      "A value is trying to be set on a copy of a slice from a DataFrame\n",
      "\n",
      "See the caveats in the documentation: https://pandas.pydata.org/pandas-docs/stable/user_guide/indexing.html#returning-a-view-versus-a-copy\n",
      "  sinasc_df['GESTACAO'].fillna('37 a 41 semanas', inplace = True)\n"
     ]
    },
    {
     "data": {
      "text/plain": [
       "0"
      ]
     },
     "execution_count": 12,
     "metadata": {},
     "output_type": "execute_result"
    }
   ],
   "source": [
    "#código que muda os NaA para o grupo que se encaixa na média \n",
    "sinasc_df['GESTACAO'].fillna('37 a 41 semanas', inplace = True)\n",
    "sinasc_df['GESTACAO'].unique()\n",
    "sinasc_df['GESTACAO'].isna().sum()"
   ]
  },
  {
   "cell_type": "markdown",
   "metadata": {
    "jp-MarkdownHeadingCollapsed": true
   },
   "source": [
    "### Tratando coluna 'GRAVIDEZ'"
   ]
  },
  {
   "cell_type": "markdown",
   "metadata": {},
   "source": [
    "A variável 'GRAVIDEZ' tem 79 dados sem preenchimento (NaN), cerca de 0.30%, por tanto irei remover os dados pois não são relevantes para a analise. "
   ]
  },
  {
   "cell_type": "code",
   "execution_count": 13,
   "metadata": {},
   "outputs": [
    {
     "name": "stderr",
     "output_type": "stream",
     "text": [
      "C:\\Users\\djang\\AppData\\Local\\Temp\\ipykernel_12176\\970446619.py:6: SettingWithCopyWarning: \n",
      "A value is trying to be set on a copy of a slice from a DataFrame\n",
      "\n",
      "See the caveats in the documentation: https://pandas.pydata.org/pandas-docs/stable/user_guide/indexing.html#returning-a-view-versus-a-copy\n",
      "  sinasc_df.dropna(subset = ['GRAVIDEZ'], inplace = True)\n"
     ]
    },
    {
     "data": {
      "text/plain": [
       "0"
      ]
     },
     "execution_count": 13,
     "metadata": {},
     "output_type": "execute_result"
    }
   ],
   "source": [
    "#Código que identifica NaN na coluna  \n",
    "sinasc_df['GRAVIDEZ'].isna().sum() / len(sinasc_df) * 100\n",
    "sinasc_df['GRAVIDEZ'].value_counts()\n",
    "\n",
    "#Código que remove a linha NaN\n",
    "sinasc_df.dropna(subset = ['GRAVIDEZ'], inplace = True)\n",
    "sinasc_df['GRAVIDEZ'].isna().sum()"
   ]
  },
  {
   "cell_type": "markdown",
   "metadata": {},
   "source": [
    "### Tratando coluna 'QTDFILVIVO'"
   ]
  },
  {
   "cell_type": "markdown",
   "metadata": {},
   "source": [
    "A variável 'QTDFILVIVO' tem 1534 dados sem preenchimento (NaN), cerca de 5.76%, por tanto irei remover os dados pois não são relevantes para a analise. "
   ]
  },
  {
   "cell_type": "code",
   "execution_count": 23,
   "metadata": {},
   "outputs": [
    {
     "name": "stderr",
     "output_type": "stream",
     "text": [
      "C:\\Users\\djang\\AppData\\Local\\Temp\\ipykernel_12176\\4201612205.py:5: SettingWithCopyWarning: \n",
      "A value is trying to be set on a copy of a slice from a DataFrame\n",
      "\n",
      "See the caveats in the documentation: https://pandas.pydata.org/pandas-docs/stable/user_guide/indexing.html#returning-a-view-versus-a-copy\n",
      "  sinasc_df.dropna(subset = ['QTDFILVIVO'], inplace = True)\n"
     ]
    },
    {
     "data": {
      "text/plain": [
       "0"
      ]
     },
     "execution_count": 23,
     "metadata": {},
     "output_type": "execute_result"
    }
   ],
   "source": [
    "#Código que identifica NaN na coluna  \n",
    "sinasc_df['QTDFILVIVO'].isna().sum() / len(sinasc_df) * 100\n",
    "\n",
    "#Código que remove a linha NaN\n",
    "sinasc_df.dropna(subset = ['QTDFILVIVO'], inplace = True)\n",
    "sinasc_df['QTDFILVIVO'].isna().sum()"
   ]
  },
  {
   "cell_type": "markdown",
   "metadata": {},
   "source": [
    "Abaixo podemos ver que todas as linhas estão tratadas."
   ]
  },
  {
   "cell_type": "code",
   "execution_count": 14,
   "metadata": {},
   "outputs": [
    {
     "data": {
      "text/plain": [
       "LOCNASC            0.000000\n",
       "IDADEMAE           0.000000\n",
       "ESTCIVMAE          0.000000\n",
       "ESCMAE             0.000000\n",
       "QTDFILVIVO         5.795374\n",
       "GESTACAO           0.000000\n",
       "GRAVIDEZ           0.000000\n",
       "CONSULTAS          0.000000\n",
       "APGAR5             0.000000\n",
       "GESTACAOVALORES    4.469440\n",
       "dtype: float64"
      ]
     },
     "execution_count": 14,
     "metadata": {},
     "output_type": "execute_result"
    }
   ],
   "source": [
    "sinasc_df.head()\n",
    "sinasc_df.isna().sum() / len(sinasc_df) * 100 "
   ]
  },
  {
   "cell_type": "markdown",
   "metadata": {
    "jp-MarkdownHeadingCollapsed": true
   },
   "source": [
    "## Categorizando a variavél resposta"
   ]
  },
  {
   "cell_type": "markdown",
   "metadata": {},
   "source": [
    "Irei categorizar os dados do 'APGAR5' para conceguir medir a frequencia."
   ]
  },
  {
   "cell_type": "code",
   "execution_count": 15,
   "metadata": {},
   "outputs": [
    {
     "name": "stderr",
     "output_type": "stream",
     "text": [
      "C:\\Users\\djang\\AppData\\Local\\Temp\\ipykernel_12176\\237294344.py:3: SettingWithCopyWarning: \n",
      "A value is trying to be set on a copy of a slice from a DataFrame.\n",
      "Try using .loc[row_indexer,col_indexer] = value instead\n",
      "\n",
      "See the caveats in the documentation: https://pandas.pydata.org/pandas-docs/stable/user_guide/indexing.html#returning-a-view-versus-a-copy\n",
      "  sinasc_df.loc[sinasc_df['APGAR5'] >= 8, 'APGAR5FAIXA'] = 'Normal'\n"
     ]
    }
   ],
   "source": [
    "# 8) seu código aqui\n",
    "#Código que localiza a linha com o condicional passado e adiciona em uma nova coluna com o nome 'APGAR5_FAIXA'\n",
    "sinasc_df.loc[sinasc_df['APGAR5'] >= 8, 'APGAR5FAIXA'] = 'Normal'\n",
    "sinasc_df.loc[(sinasc_df['APGAR5'] <= 6) & (sinasc_df['APGAR5'] <= 7), 'APGAR5FAIXA'] = 'Asfixia leve'\n",
    "sinasc_df.loc[(sinasc_df['APGAR5'] <= 4) & (sinasc_df['APGAR5'] <= 5), 'APGAR5FAIXA'] = 'Asfixia moderada'\n",
    "sinasc_df.loc[(sinasc_df['APGAR5'] == 0) & (sinasc_df['APGAR5'] <= 3), 'APGAR5FAIXA'] = 'Asfixia severa'"
   ]
  },
  {
   "cell_type": "markdown",
   "metadata": {},
   "source": [
    "Agora conseguimos tirar a frequencia da coluna 'APGAR5' baseada na categorização abaixo: \n",
    "\n",
    "|Categorias|Faixa|\n",
    "|----------|-----|\n",
    "|8 e 10| Normal|\n",
    "|6 e 7 | Asfixia leve|\n",
    "|4 e 5 | Asfixia moderada|\n",
    "|0 e 3 | Asfixia severa|'.|"
   ]
  },
  {
   "cell_type": "code",
   "execution_count": 16,
   "metadata": {},
   "outputs": [
    {
     "data": {
      "text/plain": [
       "APGAR5FAIXA\n",
       "Normal              26388\n",
       "Asfixia leve          124\n",
       "Asfixia moderada       80\n",
       "Asfixia severa         17\n",
       "Name: count, dtype: int64"
      ]
     },
     "execution_count": 16,
     "metadata": {},
     "output_type": "execute_result"
    }
   ],
   "source": [
    "#Código que faz a contagem de cada faixa. \n",
    "sinasc_df['APGAR5FAIXA'].value_counts()"
   ]
  },
  {
   "cell_type": "markdown",
   "metadata": {},
   "source": [
    "Inicialmente já podemos ver que uma porcentagem muito pequena de crianças, nascem com um nivel anormal de asfixia, podemos trabalhar em cima dessas para enteder mais os motivos que podem levar a isso. "
   ]
  },
  {
   "cell_type": "code",
   "execution_count": 17,
   "metadata": {},
   "outputs": [
    {
     "data": {
      "text/html": [
       "<div>\n",
       "<style scoped>\n",
       "    .dataframe tbody tr th:only-of-type {\n",
       "        vertical-align: middle;\n",
       "    }\n",
       "\n",
       "    .dataframe tbody tr th {\n",
       "        vertical-align: top;\n",
       "    }\n",
       "\n",
       "    .dataframe thead th {\n",
       "        text-align: right;\n",
       "    }\n",
       "</style>\n",
       "<table border=\"1\" class=\"dataframe\">\n",
       "  <thead>\n",
       "    <tr style=\"text-align: right;\">\n",
       "      <th></th>\n",
       "      <th>LOCNASC</th>\n",
       "      <th>IDADEMAE</th>\n",
       "      <th>ESTCIVMAE</th>\n",
       "      <th>ESCMAE</th>\n",
       "      <th>QTDFILVIVO</th>\n",
       "      <th>GESTACAO</th>\n",
       "      <th>GRAVIDEZ</th>\n",
       "      <th>CONSULTAS</th>\n",
       "      <th>APGAR5</th>\n",
       "      <th>GESTACAOVALORES</th>\n",
       "      <th>APGAR5FAIXA</th>\n",
       "    </tr>\n",
       "  </thead>\n",
       "  <tbody>\n",
       "    <tr>\n",
       "      <th>0</th>\n",
       "      <td>1</td>\n",
       "      <td>19</td>\n",
       "      <td>5.0</td>\n",
       "      <td>8 a 11 anos</td>\n",
       "      <td>0.0</td>\n",
       "      <td>37 a 41 semanas</td>\n",
       "      <td>Única</td>\n",
       "      <td>4</td>\n",
       "      <td>10.0</td>\n",
       "      <td>39.0</td>\n",
       "      <td>Normal</td>\n",
       "    </tr>\n",
       "    <tr>\n",
       "      <th>1</th>\n",
       "      <td>1</td>\n",
       "      <td>29</td>\n",
       "      <td>2.0</td>\n",
       "      <td>8 a 11 anos</td>\n",
       "      <td>1.0</td>\n",
       "      <td>37 a 41 semanas</td>\n",
       "      <td>Única</td>\n",
       "      <td>4</td>\n",
       "      <td>9.0</td>\n",
       "      <td>39.0</td>\n",
       "      <td>Normal</td>\n",
       "    </tr>\n",
       "    <tr>\n",
       "      <th>2</th>\n",
       "      <td>1</td>\n",
       "      <td>37</td>\n",
       "      <td>9.0</td>\n",
       "      <td>8 a 11 anos</td>\n",
       "      <td>2.0</td>\n",
       "      <td>37 a 41 semanas</td>\n",
       "      <td>Única</td>\n",
       "      <td>4</td>\n",
       "      <td>10.0</td>\n",
       "      <td>39.0</td>\n",
       "      <td>Normal</td>\n",
       "    </tr>\n",
       "    <tr>\n",
       "      <th>3</th>\n",
       "      <td>1</td>\n",
       "      <td>30</td>\n",
       "      <td>5.0</td>\n",
       "      <td>12 anos ou mais</td>\n",
       "      <td>0.0</td>\n",
       "      <td>37 a 41 semanas</td>\n",
       "      <td>Única</td>\n",
       "      <td>3</td>\n",
       "      <td>10.0</td>\n",
       "      <td>39.0</td>\n",
       "      <td>Normal</td>\n",
       "    </tr>\n",
       "    <tr>\n",
       "      <th>4</th>\n",
       "      <td>1</td>\n",
       "      <td>30</td>\n",
       "      <td>2.0</td>\n",
       "      <td>8 a 11 anos</td>\n",
       "      <td>1.0</td>\n",
       "      <td>37 a 41 semanas</td>\n",
       "      <td>Única</td>\n",
       "      <td>4</td>\n",
       "      <td>10.0</td>\n",
       "      <td>39.0</td>\n",
       "      <td>Normal</td>\n",
       "    </tr>\n",
       "  </tbody>\n",
       "</table>\n",
       "</div>"
      ],
      "text/plain": [
       "   LOCNASC  IDADEMAE  ESTCIVMAE           ESCMAE  QTDFILVIVO         GESTACAO  \\\n",
       "0        1        19        5.0      8 a 11 anos         0.0  37 a 41 semanas   \n",
       "1        1        29        2.0      8 a 11 anos         1.0  37 a 41 semanas   \n",
       "2        1        37        9.0      8 a 11 anos         2.0  37 a 41 semanas   \n",
       "3        1        30        5.0  12 anos ou mais         0.0  37 a 41 semanas   \n",
       "4        1        30        2.0      8 a 11 anos         1.0  37 a 41 semanas   \n",
       "\n",
       "  GRAVIDEZ  CONSULTAS  APGAR5  GESTACAOVALORES APGAR5FAIXA  \n",
       "0    Única          4    10.0             39.0      Normal  \n",
       "1    Única          4     9.0             39.0      Normal  \n",
       "2    Única          4    10.0             39.0      Normal  \n",
       "3    Única          3    10.0             39.0      Normal  \n",
       "4    Única          4    10.0             39.0      Normal  "
      ]
     },
     "execution_count": 17,
     "metadata": {},
     "output_type": "execute_result"
    }
   ],
   "source": [
    "sinasc_df.head()"
   ]
  },
  {
   "cell_type": "code",
   "execution_count": 24,
   "metadata": {},
   "outputs": [
    {
     "data": {
      "text/plain": [
       "LOCNASC               0\n",
       "IDADEMAE              0\n",
       "ESTCIVMAE             0\n",
       "ESCMAE                0\n",
       "QTDFILVIVO            0\n",
       "GESTACAO              0\n",
       "GRAVIDEZ              0\n",
       "CONSULTAS             0\n",
       "APGAR5                0\n",
       "GESTACAOVALORES    1082\n",
       "APGAR5FAIXA         231\n",
       "dtype: int64"
      ]
     },
     "execution_count": 24,
     "metadata": {},
     "output_type": "execute_result"
    }
   ],
   "source": [
    "# 9) seu código aqui\n",
    "\n",
    "# Lista original de colunas\n",
    "#colunas = ['LOC_NASC', 'IDADE_MAE', 'EST_CIV_MAE', 'ESC_MAE', 'QTD_FIL_VIVO', 'GESTACAO', 'GRAVIDEZ', 'CONSULTAS', 'APGAR_5', 'GESTACAO_VALORES', 'APGAR_5_FAIXA']\n",
    "\n",
    "# Exibir as colunas modificadas\n",
    "#colunas_modificadas = [col.lower() for col in colunas_novas]\n",
    "\n",
    "#sinasc_df.columns = colunas_modificadas\n",
    "#sinasc_df.head()\n",
    "\n",
    "#NaN tratados \n",
    "sinasc_df.isna().sum()"
   ]
  }
 ],
 "metadata": {
  "kernelspec": {
   "display_name": "Python 3 (ipykernel)",
   "language": "python",
   "name": "python3"
  },
  "language_info": {
   "codemirror_mode": {
    "name": "ipython",
    "version": 3
   },
   "file_extension": ".py",
   "mimetype": "text/x-python",
   "name": "python",
   "nbconvert_exporter": "python",
   "pygments_lexer": "ipython3",
   "version": "3.12.4"
  }
 },
 "nbformat": 4,
 "nbformat_minor": 4
}
