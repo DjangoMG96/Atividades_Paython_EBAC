{
 "cells": [
  {
   "cell_type": "markdown",
   "id": "89975919-23cc-4dc6-8fc2-b7231bb2d275",
   "metadata": {},
   "source": [
    "## Carregando os dados "
   ]
  },
  {
   "cell_type": "code",
   "execution_count": 2,
   "id": "e5a31b19-4290-491f-8565-04e18c59936d",
   "metadata": {},
   "outputs": [],
   "source": [
    "import pandas as pd\n",
    "import numpy as np\n",
    "import seaborn as sns\n",
    "from seaborn import load_dataset\n",
    "\n",
    "import patsy\n",
    "import statsmodels.api as sm\n",
    "import statsmodels.formula.api as smf"
   ]
  },
  {
   "cell_type": "code",
   "execution_count": 18,
   "id": "df0fa5aa-3523-4116-9c2c-8e648a30c747",
   "metadata": {},
   "outputs": [],
   "source": [
    "df = pd.read_csv('previsao_de_renda.csv')\n",
    "df = df.drop(columns=['Unnamed: 0'])"
   ]
  },
  {
   "cell_type": "markdown",
   "id": "afea074a-0b8d-47a3-836a-6b45a1048a52",
   "metadata": {},
   "source": [
    "## Ajustando os dados"
   ]
  },
  {
   "cell_type": "markdown",
   "id": "b5e29139-b77d-4fce-b67b-7a1bd73be60c",
   "metadata": {},
   "source": [
    "Teste de variaveis explicativas, P-Value menor que 0.05 é bom. "
   ]
  },
  {
   "cell_type": "code",
   "execution_count": 26,
   "id": "3477a4a6-367d-422c-98c1-8f3a302c1ef4",
   "metadata": {},
   "outputs": [
    {
     "name": "stdout",
     "output_type": "stream",
     "text": [
      "Variable: tempo_emprego, P-value: 0.0000\n",
      "Variable: posse_de_imovel, P-value: 0.6347\n",
      "Variable: estado_civil, P-value: 0.0142\n",
      "Variable: educacao, P-value: 0.6984\n"
     ]
    },
    {
     "name": "stderr",
     "output_type": "stream",
     "text": [
      "C:\\Users\\djang\\AppData\\Local\\Temp\\ipykernel_15208\\1025208439.py:3: FutureWarning: Series.__getitem__ treating keys as positions is deprecated. In a future version, integer keys will always be treated as labels (consistent with DataFrame behavior). To access a value by position, use `ser.iloc[pos]`\n",
      "  print(f\"Variable: {col}, P-value: {model.pvalues[1]:.4f}\")\n",
      "C:\\Users\\djang\\AppData\\Local\\Temp\\ipykernel_15208\\1025208439.py:3: FutureWarning: Series.__getitem__ treating keys as positions is deprecated. In a future version, integer keys will always be treated as labels (consistent with DataFrame behavior). To access a value by position, use `ser.iloc[pos]`\n",
      "  print(f\"Variable: {col}, P-value: {model.pvalues[1]:.4f}\")\n",
      "C:\\Users\\djang\\AppData\\Local\\Temp\\ipykernel_15208\\1025208439.py:3: FutureWarning: Series.__getitem__ treating keys as positions is deprecated. In a future version, integer keys will always be treated as labels (consistent with DataFrame behavior). To access a value by position, use `ser.iloc[pos]`\n",
      "  print(f\"Variable: {col}, P-value: {model.pvalues[1]:.4f}\")\n",
      "C:\\Users\\djang\\AppData\\Local\\Temp\\ipykernel_15208\\1025208439.py:3: FutureWarning: Series.__getitem__ treating keys as positions is deprecated. In a future version, integer keys will always be treated as labels (consistent with DataFrame behavior). To access a value by position, use `ser.iloc[pos]`\n",
      "  print(f\"Variable: {col}, P-value: {model.pvalues[1]:.4f}\")\n"
     ]
    }
   ],
   "source": [
    "for col in ['tempo_emprego', 'posse_de_imovel', 'estado_civil', 'educacao']:  \n",
    "    model = smf.ols(f'renda ~ {col}', data=df).fit()\n",
    "    print(f\"Variable: {col}, P-value: {model.pvalues[1]:.4f}\")"
   ]
  },
  {
   "cell_type": "code",
   "execution_count": 30,
   "id": "01918d4c-e7e9-419f-9fc0-dfe38496fe0c",
   "metadata": {},
   "outputs": [
    {
     "data": {
      "text/html": [
       "<div>\n",
       "<style scoped>\n",
       "    .dataframe tbody tr th:only-of-type {\n",
       "        vertical-align: middle;\n",
       "    }\n",
       "\n",
       "    .dataframe tbody tr th {\n",
       "        vertical-align: top;\n",
       "    }\n",
       "\n",
       "    .dataframe thead th {\n",
       "        text-align: right;\n",
       "    }\n",
       "</style>\n",
       "<table border=\"1\" class=\"dataframe\">\n",
       "  <thead>\n",
       "    <tr style=\"text-align: right;\">\n",
       "      <th></th>\n",
       "      <th>data_ref</th>\n",
       "      <th>id_cliente</th>\n",
       "      <th>sexo</th>\n",
       "      <th>posse_de_veiculo</th>\n",
       "      <th>qtd_filhos</th>\n",
       "      <th>tipo_renda</th>\n",
       "      <th>educacao</th>\n",
       "      <th>tipo_residencia</th>\n",
       "      <th>idade</th>\n",
       "      <th>tempo_emprego</th>\n",
       "      <th>qt_pessoas_residencia</th>\n",
       "      <th>renda</th>\n",
       "      <th>posse_de_imovel_False</th>\n",
       "      <th>posse_de_imovel_True</th>\n",
       "      <th>estado_civil_Casado</th>\n",
       "      <th>estado_civil_Separado</th>\n",
       "      <th>estado_civil_Solteiro</th>\n",
       "      <th>estado_civil_União</th>\n",
       "      <th>estado_civil_Viúvo</th>\n",
       "    </tr>\n",
       "  </thead>\n",
       "  <tbody>\n",
       "    <tr>\n",
       "      <th>0</th>\n",
       "      <td>2015-01-01</td>\n",
       "      <td>15056</td>\n",
       "      <td>F</td>\n",
       "      <td>False</td>\n",
       "      <td>0</td>\n",
       "      <td>Empresário</td>\n",
       "      <td>Secundário</td>\n",
       "      <td>Casa</td>\n",
       "      <td>26</td>\n",
       "      <td>6.60</td>\n",
       "      <td>1.0</td>\n",
       "      <td>8060.34</td>\n",
       "      <td>False</td>\n",
       "      <td>True</td>\n",
       "      <td>False</td>\n",
       "      <td>False</td>\n",
       "      <td>True</td>\n",
       "      <td>False</td>\n",
       "      <td>False</td>\n",
       "    </tr>\n",
       "    <tr>\n",
       "      <th>1</th>\n",
       "      <td>2015-01-01</td>\n",
       "      <td>9968</td>\n",
       "      <td>M</td>\n",
       "      <td>True</td>\n",
       "      <td>0</td>\n",
       "      <td>Assalariado</td>\n",
       "      <td>Superior completo</td>\n",
       "      <td>Casa</td>\n",
       "      <td>28</td>\n",
       "      <td>7.18</td>\n",
       "      <td>2.0</td>\n",
       "      <td>1852.15</td>\n",
       "      <td>False</td>\n",
       "      <td>True</td>\n",
       "      <td>True</td>\n",
       "      <td>False</td>\n",
       "      <td>False</td>\n",
       "      <td>False</td>\n",
       "      <td>False</td>\n",
       "    </tr>\n",
       "    <tr>\n",
       "      <th>2</th>\n",
       "      <td>2015-01-01</td>\n",
       "      <td>4312</td>\n",
       "      <td>F</td>\n",
       "      <td>True</td>\n",
       "      <td>0</td>\n",
       "      <td>Empresário</td>\n",
       "      <td>Superior completo</td>\n",
       "      <td>Casa</td>\n",
       "      <td>35</td>\n",
       "      <td>0.84</td>\n",
       "      <td>2.0</td>\n",
       "      <td>2253.89</td>\n",
       "      <td>False</td>\n",
       "      <td>True</td>\n",
       "      <td>True</td>\n",
       "      <td>False</td>\n",
       "      <td>False</td>\n",
       "      <td>False</td>\n",
       "      <td>False</td>\n",
       "    </tr>\n",
       "    <tr>\n",
       "      <th>3</th>\n",
       "      <td>2015-01-01</td>\n",
       "      <td>10639</td>\n",
       "      <td>F</td>\n",
       "      <td>False</td>\n",
       "      <td>1</td>\n",
       "      <td>Servidor público</td>\n",
       "      <td>Superior completo</td>\n",
       "      <td>Casa</td>\n",
       "      <td>30</td>\n",
       "      <td>4.85</td>\n",
       "      <td>3.0</td>\n",
       "      <td>6600.77</td>\n",
       "      <td>False</td>\n",
       "      <td>True</td>\n",
       "      <td>True</td>\n",
       "      <td>False</td>\n",
       "      <td>False</td>\n",
       "      <td>False</td>\n",
       "      <td>False</td>\n",
       "    </tr>\n",
       "    <tr>\n",
       "      <th>4</th>\n",
       "      <td>2015-01-01</td>\n",
       "      <td>7064</td>\n",
       "      <td>M</td>\n",
       "      <td>True</td>\n",
       "      <td>0</td>\n",
       "      <td>Assalariado</td>\n",
       "      <td>Secundário</td>\n",
       "      <td>Governamental</td>\n",
       "      <td>33</td>\n",
       "      <td>4.29</td>\n",
       "      <td>1.0</td>\n",
       "      <td>6475.97</td>\n",
       "      <td>True</td>\n",
       "      <td>False</td>\n",
       "      <td>False</td>\n",
       "      <td>False</td>\n",
       "      <td>True</td>\n",
       "      <td>False</td>\n",
       "      <td>False</td>\n",
       "    </tr>\n",
       "  </tbody>\n",
       "</table>\n",
       "</div>"
      ],
      "text/plain": [
       "     data_ref  id_cliente sexo  posse_de_veiculo  qtd_filhos  \\\n",
       "0  2015-01-01       15056    F             False           0   \n",
       "1  2015-01-01        9968    M              True           0   \n",
       "2  2015-01-01        4312    F              True           0   \n",
       "3  2015-01-01       10639    F             False           1   \n",
       "4  2015-01-01        7064    M              True           0   \n",
       "\n",
       "         tipo_renda           educacao tipo_residencia  idade  tempo_emprego  \\\n",
       "0        Empresário         Secundário            Casa     26           6.60   \n",
       "1       Assalariado  Superior completo            Casa     28           7.18   \n",
       "2        Empresário  Superior completo            Casa     35           0.84   \n",
       "3  Servidor público  Superior completo            Casa     30           4.85   \n",
       "4       Assalariado         Secundário   Governamental     33           4.29   \n",
       "\n",
       "   qt_pessoas_residencia    renda  posse_de_imovel_False  \\\n",
       "0                    1.0  8060.34                  False   \n",
       "1                    2.0  1852.15                  False   \n",
       "2                    2.0  2253.89                  False   \n",
       "3                    3.0  6600.77                  False   \n",
       "4                    1.0  6475.97                   True   \n",
       "\n",
       "   posse_de_imovel_True  estado_civil_Casado  estado_civil_Separado  \\\n",
       "0                  True                False                  False   \n",
       "1                  True                 True                  False   \n",
       "2                  True                 True                  False   \n",
       "3                  True                 True                  False   \n",
       "4                 False                False                  False   \n",
       "\n",
       "   estado_civil_Solteiro  estado_civil_União  estado_civil_Viúvo  \n",
       "0                   True               False               False  \n",
       "1                  False               False               False  \n",
       "2                  False               False               False  \n",
       "3                  False               False               False  \n",
       "4                   True               False               False  "
      ]
     },
     "execution_count": 30,
     "metadata": {},
     "output_type": "execute_result"
    }
   ],
   "source": [
    "df['tempo_emprego'] = df['tempo_emprego'].round(2)\n",
    "\n",
    "df = pd.get_dummies(df, columns=['posse_de_imovel'])\n",
    "df = pd.get_dummies(df, columns=['estado_civil'])\n",
    "df.head(5)"
   ]
  },
  {
   "cell_type": "code",
   "execution_count": 32,
   "id": "0a59c66f-c81e-43a2-b8c8-43a6fb7f822d",
   "metadata": {},
   "outputs": [
    {
     "data": {
      "text/html": [
       "<table class=\"simpletable\">\n",
       "<caption>OLS Regression Results</caption>\n",
       "<tr>\n",
       "  <th>Dep. Variable:</th>          <td>renda</td>      <th>  R-squared:         </th>  <td>   0.152</td>  \n",
       "</tr>\n",
       "<tr>\n",
       "  <th>Model:</th>                   <td>OLS</td>       <th>  Adj. R-squared:    </th>  <td>   0.152</td>  \n",
       "</tr>\n",
       "<tr>\n",
       "  <th>Method:</th>             <td>Least Squares</td>  <th>  F-statistic:       </th>  <td>   446.7</td>  \n",
       "</tr>\n",
       "<tr>\n",
       "  <th>Date:</th>             <td>Sun, 12 Jan 2025</td> <th>  Prob (F-statistic):</th>   <td>  0.00</td>   \n",
       "</tr>\n",
       "<tr>\n",
       "  <th>Time:</th>                 <td>19:15:48</td>     <th>  Log-Likelihood:    </th> <td>-1.2960e+05</td>\n",
       "</tr>\n",
       "<tr>\n",
       "  <th>No. Observations:</th>      <td> 12427</td>      <th>  AIC:               </th>  <td>2.592e+05</td> \n",
       "</tr>\n",
       "<tr>\n",
       "  <th>Df Residuals:</th>          <td> 12421</td>      <th>  BIC:               </th>  <td>2.593e+05</td> \n",
       "</tr>\n",
       "<tr>\n",
       "  <th>Df Model:</th>              <td>     5</td>      <th>                     </th>      <td> </td>     \n",
       "</tr>\n",
       "<tr>\n",
       "  <th>Covariance Type:</th>      <td>nonrobust</td>    <th>                     </th>      <td> </td>     \n",
       "</tr>\n",
       "</table>\n",
       "<table class=\"simpletable\">\n",
       "<tr>\n",
       "                <td></td>                   <th>coef</th>     <th>std err</th>      <th>t</th>      <th>P>|t|</th>  <th>[0.025</th>    <th>0.975]</th>  \n",
       "</tr>\n",
       "<tr>\n",
       "  <th>Intercept</th>                     <td> 1480.8664</td> <td>  225.055</td> <td>    6.580</td> <td> 0.000</td> <td> 1039.723</td> <td> 1922.010</td>\n",
       "</tr>\n",
       "<tr>\n",
       "  <th>estado_civil_Casado[T.True]</th>   <td> 1024.2371</td> <td>  225.753</td> <td>    4.537</td> <td> 0.000</td> <td>  581.726</td> <td> 1466.748</td>\n",
       "</tr>\n",
       "<tr>\n",
       "  <th>estado_civil_Separado[T.True]</th> <td>  -89.5300</td> <td>  366.291</td> <td>   -0.244</td> <td> 0.807</td> <td> -807.517</td> <td>  628.457</td>\n",
       "</tr>\n",
       "<tr>\n",
       "  <th>estado_civil_União[T.True]</th>    <td> -211.9710</td> <td>  340.547</td> <td>   -0.622</td> <td> 0.534</td> <td> -879.496</td> <td>  455.554</td>\n",
       "</tr>\n",
       "<tr>\n",
       "  <th>estado_civil_Viúvo[T.True]</th>    <td>-1223.9689</td> <td>  500.449</td> <td>   -2.446</td> <td> 0.014</td> <td>-2204.926</td> <td> -243.012</td>\n",
       "</tr>\n",
       "<tr>\n",
       "  <th>tempo_emprego</th>                 <td>  512.1716</td> <td>   10.953</td> <td>   46.760</td> <td> 0.000</td> <td>  490.702</td> <td>  533.641</td>\n",
       "</tr>\n",
       "</table>\n",
       "<table class=\"simpletable\">\n",
       "<tr>\n",
       "  <th>Omnibus:</th>       <td>17007.657</td> <th>  Durbin-Watson:     </th>  <td>   2.032</td>  \n",
       "</tr>\n",
       "<tr>\n",
       "  <th>Prob(Omnibus):</th>  <td> 0.000</td>   <th>  Jarque-Bera (JB):  </th> <td>7666265.683</td>\n",
       "</tr>\n",
       "<tr>\n",
       "  <th>Skew:</th>           <td> 7.698</td>   <th>  Prob(JB):          </th>  <td>    0.00</td>  \n",
       "</tr>\n",
       "<tr>\n",
       "  <th>Kurtosis:</th>       <td>123.701</td>  <th>  Cond. No.          </th>  <td>    79.7</td>  \n",
       "</tr>\n",
       "</table><br/><br/>Notes:<br/>[1] Standard Errors assume that the covariance matrix of the errors is correctly specified."
      ],
      "text/latex": [
       "\\begin{center}\n",
       "\\begin{tabular}{lclc}\n",
       "\\toprule\n",
       "\\textbf{Dep. Variable:}                  &      renda       & \\textbf{  R-squared:         } &      0.152   \\\\\n",
       "\\textbf{Model:}                          &       OLS        & \\textbf{  Adj. R-squared:    } &      0.152   \\\\\n",
       "\\textbf{Method:}                         &  Least Squares   & \\textbf{  F-statistic:       } &      446.7   \\\\\n",
       "\\textbf{Date:}                           & Sun, 12 Jan 2025 & \\textbf{  Prob (F-statistic):} &      0.00    \\\\\n",
       "\\textbf{Time:}                           &     19:15:48     & \\textbf{  Log-Likelihood:    } & -1.2960e+05  \\\\\n",
       "\\textbf{No. Observations:}               &       12427      & \\textbf{  AIC:               } &  2.592e+05   \\\\\n",
       "\\textbf{Df Residuals:}                   &       12421      & \\textbf{  BIC:               } &  2.593e+05   \\\\\n",
       "\\textbf{Df Model:}                       &           5      & \\textbf{                     } &              \\\\\n",
       "\\textbf{Covariance Type:}                &    nonrobust     & \\textbf{                     } &              \\\\\n",
       "\\bottomrule\n",
       "\\end{tabular}\n",
       "\\begin{tabular}{lcccccc}\n",
       "                                         & \\textbf{coef} & \\textbf{std err} & \\textbf{t} & \\textbf{P$> |$t$|$} & \\textbf{[0.025} & \\textbf{0.975]}  \\\\\n",
       "\\midrule\n",
       "\\textbf{Intercept}                       &    1480.8664  &      225.055     &     6.580  &         0.000        &     1039.723    &     1922.010     \\\\\n",
       "\\textbf{estado\\_civil\\_Casado[T.True]}   &    1024.2371  &      225.753     &     4.537  &         0.000        &      581.726    &     1466.748     \\\\\n",
       "\\textbf{estado\\_civil\\_Separado[T.True]} &     -89.5300  &      366.291     &    -0.244  &         0.807        &     -807.517    &      628.457     \\\\\n",
       "\\textbf{estado\\_civil\\_União[T.True]}    &    -211.9710  &      340.547     &    -0.622  &         0.534        &     -879.496    &      455.554     \\\\\n",
       "\\textbf{estado\\_civil\\_Viúvo[T.True]}    &   -1223.9689  &      500.449     &    -2.446  &         0.014        &    -2204.926    &     -243.012     \\\\\n",
       "\\textbf{tempo\\_emprego}                  &     512.1716  &       10.953     &    46.760  &         0.000        &      490.702    &      533.641     \\\\\n",
       "\\bottomrule\n",
       "\\end{tabular}\n",
       "\\begin{tabular}{lclc}\n",
       "\\textbf{Omnibus:}       & 17007.657 & \\textbf{  Durbin-Watson:     } &      2.032   \\\\\n",
       "\\textbf{Prob(Omnibus):} &    0.000  & \\textbf{  Jarque-Bera (JB):  } & 7666265.683  \\\\\n",
       "\\textbf{Skew:}          &    7.698  & \\textbf{  Prob(JB):          } &       0.00   \\\\\n",
       "\\textbf{Kurtosis:}      &  123.701  & \\textbf{  Cond. No.          } &       79.7   \\\\\n",
       "\\bottomrule\n",
       "\\end{tabular}\n",
       "%\\caption{OLS Regression Results}\n",
       "\\end{center}\n",
       "\n",
       "Notes: \\newline\n",
       " [1] Standard Errors assume that the covariance matrix of the errors is correctly specified."
      ],
      "text/plain": [
       "<class 'statsmodels.iolib.summary.Summary'>\n",
       "\"\"\"\n",
       "                            OLS Regression Results                            \n",
       "==============================================================================\n",
       "Dep. Variable:                  renda   R-squared:                       0.152\n",
       "Model:                            OLS   Adj. R-squared:                  0.152\n",
       "Method:                 Least Squares   F-statistic:                     446.7\n",
       "Date:                Sun, 12 Jan 2025   Prob (F-statistic):               0.00\n",
       "Time:                        19:15:48   Log-Likelihood:            -1.2960e+05\n",
       "No. Observations:               12427   AIC:                         2.592e+05\n",
       "Df Residuals:                   12421   BIC:                         2.593e+05\n",
       "Df Model:                           5                                         \n",
       "Covariance Type:            nonrobust                                         \n",
       "=================================================================================================\n",
       "                                    coef    std err          t      P>|t|      [0.025      0.975]\n",
       "-------------------------------------------------------------------------------------------------\n",
       "Intercept                      1480.8664    225.055      6.580      0.000    1039.723    1922.010\n",
       "estado_civil_Casado[T.True]    1024.2371    225.753      4.537      0.000     581.726    1466.748\n",
       "estado_civil_Separado[T.True]   -89.5300    366.291     -0.244      0.807    -807.517     628.457\n",
       "estado_civil_União[T.True]     -211.9710    340.547     -0.622      0.534    -879.496     455.554\n",
       "estado_civil_Viúvo[T.True]    -1223.9689    500.449     -2.446      0.014   -2204.926    -243.012\n",
       "tempo_emprego                   512.1716     10.953     46.760      0.000     490.702     533.641\n",
       "==============================================================================\n",
       "Omnibus:                    17007.657   Durbin-Watson:                   2.032\n",
       "Prob(Omnibus):                  0.000   Jarque-Bera (JB):          7666265.683\n",
       "Skew:                           7.698   Prob(JB):                         0.00\n",
       "Kurtosis:                     123.701   Cond. No.                         79.7\n",
       "==============================================================================\n",
       "\n",
       "Notes:\n",
       "[1] Standard Errors assume that the covariance matrix of the errors is correctly specified.\n",
       "\"\"\""
      ]
     },
     "execution_count": 32,
     "metadata": {},
     "output_type": "execute_result"
    }
   ],
   "source": [
    "model = smf.ols('renda ~ tempo_emprego + estado_civil_Casado + estado_civil_Separado + estado_civil_União + estado_civil_Viúvo', data=df).fit()\n",
    "model.summary()"
   ]
  },
  {
   "cell_type": "code",
   "execution_count": 34,
   "id": "ac6a7a0b-2376-4f4b-80fb-bdbfdbb58f25",
   "metadata": {},
   "outputs": [
    {
     "data": {
      "text/plain": [
       "0.15242361318290976"
      ]
     },
     "execution_count": 34,
     "metadata": {},
     "output_type": "execute_result"
    }
   ],
   "source": [
    "r_squared = model.rsquared\n",
    "r_squared"
   ]
  },
  {
   "cell_type": "code",
   "execution_count": 37,
   "id": "a7789cd6-62fc-4d86-ac7b-6f56c3f66410",
   "metadata": {},
   "outputs": [
    {
     "data": {
      "text/plain": [
       "<Axes: xlabel='tempo_emprego', ylabel='renda'>"
      ]
     },
     "execution_count": 37,
     "metadata": {},
     "output_type": "execute_result"
    },
    {
     "data": {
      "image/png": "[encoded data removed]",
      "text/plain": [
       "<Figure size 640x480 with 1 Axes>"
      ]
     },
     "metadata": {},
     "output_type": "display_data"
    }
   ],
   "source": [
    "# Ajustar o modelo de regressão\n",
    "model = smf.ols('renda ~ tempo_emprego + estado_civil_Casado + estado_civil_Separado + estado_civil_União + estado_civil_Viúvo', data=df).fit()\n",
    "\n",
    "# Adicionar previsões ao DataFrame\n",
    "df['predicted_renda'] = model.predict(df)\n",
    "\n",
    "# Plotar os valores reais vs. previstos\n",
    "sns.scatterplot(data=df, x='tempo_emprego', y='renda', color='blue', s=10, label='Valores Reais')\n",
    "sns.lineplot(data=df, x='tempo_emprego', y='predicted_renda', color='red', label='Linha de Regressão')"
   ]
  },
  {
   "cell_type": "markdown",
   "id": "59e6a41f-6786-4637-8338-438e74b02429",
   "metadata": {},
   "source": [
    "## Ajustes nas variaveis explicativas"
   ]
  },
  {
   "cell_type": "code",
   "execution_count": 39,
   "id": "1bb6fd9c-3aa1-40a7-8cca-df4807e7d86d",
   "metadata": {},
   "outputs": [
    {
     "data": {
      "text/html": [
       "<table class=\"simpletable\">\n",
       "<caption>OLS Regression Results</caption>\n",
       "<tr>\n",
       "  <th>Dep. Variable:</th>          <td>renda</td>      <th>  R-squared:         </th>  <td>   0.092</td>  \n",
       "</tr>\n",
       "<tr>\n",
       "  <th>Model:</th>                   <td>OLS</td>       <th>  Adj. R-squared:    </th>  <td>   0.092</td>  \n",
       "</tr>\n",
       "<tr>\n",
       "  <th>Method:</th>             <td>Least Squares</td>  <th>  F-statistic:       </th>  <td>   627.7</td>  \n",
       "</tr>\n",
       "<tr>\n",
       "  <th>Date:</th>             <td>Sun, 12 Jan 2025</td> <th>  Prob (F-statistic):</th>  <td>2.05e-260</td> \n",
       "</tr>\n",
       "<tr>\n",
       "  <th>Time:</th>                 <td>19:16:48</td>     <th>  Log-Likelihood:    </th> <td>-1.3003e+05</td>\n",
       "</tr>\n",
       "<tr>\n",
       "  <th>No. Observations:</th>      <td> 12427</td>      <th>  AIC:               </th>  <td>2.601e+05</td> \n",
       "</tr>\n",
       "<tr>\n",
       "  <th>Df Residuals:</th>          <td> 12424</td>      <th>  BIC:               </th>  <td>2.601e+05</td> \n",
       "</tr>\n",
       "<tr>\n",
       "  <th>Df Model:</th>              <td>     2</td>      <th>                     </th>      <td> </td>     \n",
       "</tr>\n",
       "<tr>\n",
       "  <th>Covariance Type:</th>      <td>nonrobust</td>    <th>                     </th>      <td> </td>     \n",
       "</tr>\n",
       "</table>\n",
       "<table class=\"simpletable\">\n",
       "<tr>\n",
       "          <td></td>             <th>coef</th>     <th>std err</th>      <th>t</th>      <th>P>|t|</th>  <th>[0.025</th>    <th>0.975]</th>  \n",
       "</tr>\n",
       "<tr>\n",
       "  <th>Intercept</th>         <td> 1795.4165</td> <td>  149.192</td> <td>   12.034</td> <td> 0.000</td> <td> 1502.978</td> <td> 2087.856</td>\n",
       "</tr>\n",
       "<tr>\n",
       "  <th>log_tempo_emprego</th> <td> 2678.2839</td> <td>   75.918</td> <td>   35.279</td> <td> 0.000</td> <td> 2529.473</td> <td> 2827.095</td>\n",
       "</tr>\n",
       "<tr>\n",
       "  <th>log_estado_civil</th>  <td>   24.4540</td> <td>   11.127</td> <td>    2.198</td> <td> 0.028</td> <td>    2.643</td> <td>   46.265</td>\n",
       "</tr>\n",
       "</table>\n",
       "<table class=\"simpletable\">\n",
       "<tr>\n",
       "  <th>Omnibus:</th>       <td>17420.232</td> <th>  Durbin-Watson:     </th>  <td>   2.030</td>  \n",
       "</tr>\n",
       "<tr>\n",
       "  <th>Prob(Omnibus):</th>  <td> 0.000</td>   <th>  Jarque-Bera (JB):  </th> <td>8232487.558</td>\n",
       "</tr>\n",
       "<tr>\n",
       "  <th>Skew:</th>           <td> 8.064</td>   <th>  Prob(JB):          </th>  <td>    0.00</td>  \n",
       "</tr>\n",
       "<tr>\n",
       "  <th>Kurtosis:</th>       <td>128.057</td>  <th>  Cond. No.          </th>  <td>    15.7</td>  \n",
       "</tr>\n",
       "</table><br/><br/>Notes:<br/>[1] Standard Errors assume that the covariance matrix of the errors is correctly specified."
      ],
      "text/latex": [
       "\\begin{center}\n",
       "\\begin{tabular}{lclc}\n",
       "\\toprule\n",
       "\\textbf{Dep. Variable:}      &      renda       & \\textbf{  R-squared:         } &      0.092   \\\\\n",
       "\\textbf{Model:}              &       OLS        & \\textbf{  Adj. R-squared:    } &      0.092   \\\\\n",
       "\\textbf{Method:}             &  Least Squares   & \\textbf{  F-statistic:       } &      627.7   \\\\\n",
       "\\textbf{Date:}               & Sun, 12 Jan 2025 & \\textbf{  Prob (F-statistic):} &  2.05e-260   \\\\\n",
       "\\textbf{Time:}               &     19:16:48     & \\textbf{  Log-Likelihood:    } & -1.3003e+05  \\\\\n",
       "\\textbf{No. Observations:}   &       12427      & \\textbf{  AIC:               } &  2.601e+05   \\\\\n",
       "\\textbf{Df Residuals:}       &       12424      & \\textbf{  BIC:               } &  2.601e+05   \\\\\n",
       "\\textbf{Df Model:}           &           2      & \\textbf{                     } &              \\\\\n",
       "\\textbf{Covariance Type:}    &    nonrobust     & \\textbf{                     } &              \\\\\n",
       "\\bottomrule\n",
       "\\end{tabular}\n",
       "\\begin{tabular}{lcccccc}\n",
       "                             & \\textbf{coef} & \\textbf{std err} & \\textbf{t} & \\textbf{P$> |$t$|$} & \\textbf{[0.025} & \\textbf{0.975]}  \\\\\n",
       "\\midrule\n",
       "\\textbf{Intercept}           &    1795.4165  &      149.192     &    12.034  &         0.000        &     1502.978    &     2087.856     \\\\\n",
       "\\textbf{log\\_tempo\\_emprego} &    2678.2839  &       75.918     &    35.279  &         0.000        &     2529.473    &     2827.095     \\\\\n",
       "\\textbf{log\\_estado\\_civil}  &      24.4540  &       11.127     &     2.198  &         0.028        &        2.643    &       46.265     \\\\\n",
       "\\bottomrule\n",
       "\\end{tabular}\n",
       "\\begin{tabular}{lclc}\n",
       "\\textbf{Omnibus:}       & 17420.232 & \\textbf{  Durbin-Watson:     } &      2.030   \\\\\n",
       "\\textbf{Prob(Omnibus):} &    0.000  & \\textbf{  Jarque-Bera (JB):  } & 8232487.558  \\\\\n",
       "\\textbf{Skew:}          &    8.064  & \\textbf{  Prob(JB):          } &       0.00   \\\\\n",
       "\\textbf{Kurtosis:}      &  128.057  & \\textbf{  Cond. No.          } &       15.7   \\\\\n",
       "\\bottomrule\n",
       "\\end{tabular}\n",
       "%\\caption{OLS Regression Results}\n",
       "\\end{center}\n",
       "\n",
       "Notes: \\newline\n",
       " [1] Standard Errors assume that the covariance matrix of the errors is correctly specified."
      ],
      "text/plain": [
       "<class 'statsmodels.iolib.summary.Summary'>\n",
       "\"\"\"\n",
       "                            OLS Regression Results                            \n",
       "==============================================================================\n",
       "Dep. Variable:                  renda   R-squared:                       0.092\n",
       "Model:                            OLS   Adj. R-squared:                  0.092\n",
       "Method:                 Least Squares   F-statistic:                     627.7\n",
       "Date:                Sun, 12 Jan 2025   Prob (F-statistic):          2.05e-260\n",
       "Time:                        19:16:48   Log-Likelihood:            -1.3003e+05\n",
       "No. Observations:               12427   AIC:                         2.601e+05\n",
       "Df Residuals:                   12424   BIC:                         2.601e+05\n",
       "Df Model:                           2                                         \n",
       "Covariance Type:            nonrobust                                         \n",
       "=====================================================================================\n",
       "                        coef    std err          t      P>|t|      [0.025      0.975]\n",
       "-------------------------------------------------------------------------------------\n",
       "Intercept          1795.4165    149.192     12.034      0.000    1502.978    2087.856\n",
       "log_tempo_emprego  2678.2839     75.918     35.279      0.000    2529.473    2827.095\n",
       "log_estado_civil     24.4540     11.127      2.198      0.028       2.643      46.265\n",
       "==============================================================================\n",
       "Omnibus:                    17420.232   Durbin-Watson:                   2.030\n",
       "Prob(Omnibus):                  0.000   Jarque-Bera (JB):          8232487.558\n",
       "Skew:                           8.064   Prob(JB):                         0.00\n",
       "Kurtosis:                     128.057   Cond. No.                         15.7\n",
       "==============================================================================\n",
       "\n",
       "Notes:\n",
       "[1] Standard Errors assume that the covariance matrix of the errors is correctly specified.\n",
       "\"\"\""
      ]
     },
     "execution_count": 39,
     "metadata": {},
     "output_type": "execute_result"
    }
   ],
   "source": [
    "df['log_tempo_emprego'] = np.log(df['tempo_emprego'] + 1e-10)\n",
    "df['log_estado_civil'] = np.log(\n",
    "    df['estado_civil_Casado'] +\n",
    "    df['estado_civil_Separado'] +\n",
    "    df['estado_civil_União'] +\n",
    "    df['estado_civil_Viúvo'] + 1e-9\n",
    ")\n",
    "\n",
    "model_log = smf.ols('renda ~ log_tempo_emprego + log_estado_civil', data = df).fit()\n",
    "\n",
    "model_log.summary()"
   ]
  },
  {
   "cell_type": "code",
   "execution_count": 41,
   "id": "b0cd9641-f535-4bce-81ca-6457a3065525",
   "metadata": {},
   "outputs": [
    {
     "data": {
      "text/plain": [
       "0.09177022283088654"
      ]
     },
     "execution_count": 41,
     "metadata": {},
     "output_type": "execute_result"
    }
   ],
   "source": [
    "r_squared_2 = model_log.rsquared\n",
    "r_squared_2"
   ]
  },
  {
   "cell_type": "code",
   "execution_count": 43,
   "id": "0963ca60-7bd9-48b2-add2-6e3bdee043b9",
   "metadata": {},
   "outputs": [
    {
     "data": {
      "text/plain": [
       "0.14477200643812016"
      ]
     },
     "execution_count": 43,
     "metadata": {},
     "output_type": "execute_result"
    }
   ],
   "source": [
    "df['squared_tempo_empregado'] = df['tempo_emprego'] ** 2\n",
    "\n",
    "model_poli = smf.ols('renda ~ squared_tempo_empregado', data = df).fit()\n",
    "\n",
    "r_squared_3 = model_poli.rsquared\n",
    "r_squared_3"
   ]
  },
  {
   "cell_type": "code",
   "execution_count": null,
   "id": "2610f4fd-7b50-493b-9d46-9b59052d9cee",
   "metadata": {},
   "outputs": [],
   "source": []
  }
 ],
 "metadata": {
  "kernelspec": {
   "display_name": "Python [conda env:base] *",
   "language": "python",
   "name": "conda-base-py"
  },
  "language_info": {
   "codemirror_mode": {
    "name": "ipython",
    "version": 3
   },
   "file_extension": ".py",
   "mimetype": "text/x-python",
   "name": "python",
   "nbconvert_exporter": "python",
   "pygments_lexer": "ipython3",
   "version": "3.12.3"
  }
 },
 "nbformat": 4,
 "nbformat_minor": 5
}
