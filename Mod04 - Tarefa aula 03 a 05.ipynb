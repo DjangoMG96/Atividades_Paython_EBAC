{
 "cells": [
  {
   "cell_type": "markdown",
   "metadata": {},
   "source": [
    "## Exercício 1: Vestibular\n",
    "\n",
    "Considere que a os dados gerados na célula abaixo contêm o número de acertos de 100 alunos em um vestibular para um curso de exatas, divididas pelos respectivos assuntos. Considere que cada assunto possui um número de questões conforme a tabela abaixo:\n",
    "\n",
    "| assunto | número de questões |\n",
    "|:---:|:---:|\n",
    "| Matemática | 24 |\n",
    "| Português | 18 |\n",
    "| Geografia | 8 |\n",
    "| Inglês | 8 |\n",
    "| História | 8 |\n",
    "| Física | 12 |\n",
    "| Química | 12 |\n",
    "\n",
    "Usando os comandos de operações com DataFrames que você aprendeu na Aula 03, calcule:\n",
    "\n",
    "1. (operações com escalar) Calcule o percentual de acerto dos alunos por assunto.  \n",
    "2. (operações entre *DataFrames) Calcule o total de acertos de cada aluno.  \n",
    "3. Calcule o porcentual geral de cada aluno.  \n",
    "4. Suponha que a nota de corte para a segunda fase seja 45. Quantos alunos tiveram nota maior que 45?  "
   ]
  },
  {
   "cell_type": "code",
   "execution_count": 1,
   "metadata": {},
   "outputs": [],
   "source": [
    "import pandas as pd\n",
    "import numpy as np\n",
    "\n"
   ]
  },
  {
   "cell_type": "markdown",
   "metadata": {},
   "source": [
    "# Dados Randomicos"
   ]
  },
  {
   "cell_type": "code",
   "execution_count": 2,
   "metadata": {},
   "outputs": [],
   "source": [
    "np.random.seed(42)\n",
    "df_mat = pd.DataFrame(np.random.randint(24, size=(100, 1)), columns=['Qt_acertos_mat'])\n",
    "\n",
    "df_por = pd.DataFrame(np.random.randint(18, size=(100, 1)), columns=['Qt_acertos_por'])\n",
    "\n",
    "df_geo = pd.DataFrame(np.random.randint(8, size=(100, 1)), columns=['Qt_acertos_geo'])\n",
    "\n",
    "df_ing = pd.DataFrame(np.random.randint(8, size=(100, 1)), columns=['Qt_acertos_ing'])\n",
    "\n",
    "df_his = pd.DataFrame(np.random.randint(8, size=(100, 1)), columns=['Qt_acertos_his'])\n",
    "\n",
    "df_fis = pd.DataFrame(np.random.randint(12, size=(100, 1)), columns=['Qt_acertos_fis'])\n",
    "\n",
    "df_qui = pd.DataFrame(np.random.randint(12, size=(100, 1)), columns=['Qt_acertos_qui'])"
   ]
  },
  {
   "cell_type": "markdown",
   "metadata": {},
   "source": [
    "# Explorando os dados"
   ]
  },
  {
   "cell_type": "code",
   "execution_count": 3,
   "metadata": {},
   "outputs": [],
   "source": [
    "dfs = pd.concat([df_mat, df_por, df_geo, df_ing, df_his, df_fis, df_qui], axis=1) #concatenando os DF randomicos das materias \n",
    "nomes_colunas = ['Matemática', 'Português', 'Geografia', 'Inglês', 'História', 'Física', 'Quimica'] #renomeando as colunas \n",
    "dfs.columns=nomes_colunas\n",
    "\n",
    "num_questoes = {'Matemática': 24, 'Português': 18, 'Geografia': 8, 'Inglês': 8, 'História': 8, 'Física': 12, 'Quimica': 12} #criando uma tupla com o numero de questões\n",
    "questoes_sum = sum(num_questoes.values()) #somando total de questões "
   ]
  },
  {
   "cell_type": "code",
   "execution_count": 4,
   "metadata": {},
   "outputs": [
    {
     "data": {
      "text/html": [
       "<div>\n",
       "<style scoped>\n",
       "    .dataframe tbody tr th:only-of-type {\n",
       "        vertical-align: middle;\n",
       "    }\n",
       "\n",
       "    .dataframe tbody tr th {\n",
       "        vertical-align: top;\n",
       "    }\n",
       "\n",
       "    .dataframe thead th {\n",
       "        text-align: right;\n",
       "    }\n",
       "</style>\n",
       "<table border=\"1\" class=\"dataframe\">\n",
       "  <thead>\n",
       "    <tr style=\"text-align: right;\">\n",
       "      <th></th>\n",
       "      <th>Matemática</th>\n",
       "      <th>Português</th>\n",
       "      <th>Geografia</th>\n",
       "      <th>Inglês</th>\n",
       "      <th>História</th>\n",
       "      <th>Física</th>\n",
       "      <th>Quimica</th>\n",
       "    </tr>\n",
       "  </thead>\n",
       "  <tbody>\n",
       "    <tr>\n",
       "      <th>Aluno_1</th>\n",
       "      <td>6</td>\n",
       "      <td>7</td>\n",
       "      <td>7</td>\n",
       "      <td>3</td>\n",
       "      <td>1</td>\n",
       "      <td>8</td>\n",
       "      <td>3</td>\n",
       "    </tr>\n",
       "    <tr>\n",
       "      <th>Aluno_2</th>\n",
       "      <td>19</td>\n",
       "      <td>10</td>\n",
       "      <td>0</td>\n",
       "      <td>0</td>\n",
       "      <td>0</td>\n",
       "      <td>11</td>\n",
       "      <td>8</td>\n",
       "    </tr>\n",
       "    <tr>\n",
       "      <th>Aluno_3</th>\n",
       "      <td>14</td>\n",
       "      <td>16</td>\n",
       "      <td>0</td>\n",
       "      <td>5</td>\n",
       "      <td>7</td>\n",
       "      <td>4</td>\n",
       "      <td>4</td>\n",
       "    </tr>\n",
       "    <tr>\n",
       "      <th>Aluno_4</th>\n",
       "      <td>10</td>\n",
       "      <td>7</td>\n",
       "      <td>3</td>\n",
       "      <td>4</td>\n",
       "      <td>0</td>\n",
       "      <td>0</td>\n",
       "      <td>8</td>\n",
       "    </tr>\n",
       "    <tr>\n",
       "      <th>Aluno_5</th>\n",
       "      <td>7</td>\n",
       "      <td>2</td>\n",
       "      <td>2</td>\n",
       "      <td>7</td>\n",
       "      <td>0</td>\n",
       "      <td>9</td>\n",
       "      <td>3</td>\n",
       "    </tr>\n",
       "    <tr>\n",
       "      <th>...</th>\n",
       "      <td>...</td>\n",
       "      <td>...</td>\n",
       "      <td>...</td>\n",
       "      <td>...</td>\n",
       "      <td>...</td>\n",
       "      <td>...</td>\n",
       "      <td>...</td>\n",
       "    </tr>\n",
       "    <tr>\n",
       "      <th>Aluno_96</th>\n",
       "      <td>6</td>\n",
       "      <td>4</td>\n",
       "      <td>7</td>\n",
       "      <td>1</td>\n",
       "      <td>4</td>\n",
       "      <td>9</td>\n",
       "      <td>3</td>\n",
       "    </tr>\n",
       "    <tr>\n",
       "      <th>Aluno_97</th>\n",
       "      <td>8</td>\n",
       "      <td>1</td>\n",
       "      <td>4</td>\n",
       "      <td>6</td>\n",
       "      <td>1</td>\n",
       "      <td>4</td>\n",
       "      <td>3</td>\n",
       "    </tr>\n",
       "    <tr>\n",
       "      <th>Aluno_98</th>\n",
       "      <td>23</td>\n",
       "      <td>5</td>\n",
       "      <td>0</td>\n",
       "      <td>2</td>\n",
       "      <td>4</td>\n",
       "      <td>1</td>\n",
       "      <td>5</td>\n",
       "    </tr>\n",
       "    <tr>\n",
       "      <th>Aluno_99</th>\n",
       "      <td>0</td>\n",
       "      <td>10</td>\n",
       "      <td>3</td>\n",
       "      <td>1</td>\n",
       "      <td>5</td>\n",
       "      <td>10</td>\n",
       "      <td>11</td>\n",
       "    </tr>\n",
       "    <tr>\n",
       "      <th>Aluno_100</th>\n",
       "      <td>11</td>\n",
       "      <td>15</td>\n",
       "      <td>0</td>\n",
       "      <td>1</td>\n",
       "      <td>6</td>\n",
       "      <td>7</td>\n",
       "      <td>2</td>\n",
       "    </tr>\n",
       "  </tbody>\n",
       "</table>\n",
       "<p>100 rows × 7 columns</p>\n",
       "</div>"
      ],
      "text/plain": [
       "           Matemática  Português  Geografia  Inglês  História  Física  Quimica\n",
       "Aluno_1             6          7          7       3         1       8        3\n",
       "Aluno_2            19         10          0       0         0      11        8\n",
       "Aluno_3            14         16          0       5         7       4        4\n",
       "Aluno_4            10          7          3       4         0       0        8\n",
       "Aluno_5             7          2          2       7         0       9        3\n",
       "...               ...        ...        ...     ...       ...     ...      ...\n",
       "Aluno_96            6          4          7       1         4       9        3\n",
       "Aluno_97            8          1          4       6         1       4        3\n",
       "Aluno_98           23          5          0       2         4       1        5\n",
       "Aluno_99            0         10          3       1         5      10       11\n",
       "Aluno_100          11         15          0       1         6       7        2\n",
       "\n",
       "[100 rows x 7 columns]"
      ]
     },
     "execution_count": 4,
     "metadata": {},
     "output_type": "execute_result"
    }
   ],
   "source": [
    "novo_index = [f'Aluno_{i+1}'for i in range(len(dfs))] #renomeando o index para cada aluno \n",
    "dfs.index = novo_index\n",
    "dfs"
   ]
  },
  {
   "cell_type": "markdown",
   "metadata": {},
   "source": [
    "## Exercício 1.1"
   ]
  },
  {
   "cell_type": "code",
   "execution_count": 5,
   "metadata": {},
   "outputs": [
    {
     "data": {
      "text/html": [
       "<div>\n",
       "<style scoped>\n",
       "    .dataframe tbody tr th:only-of-type {\n",
       "        vertical-align: middle;\n",
       "    }\n",
       "\n",
       "    .dataframe tbody tr th {\n",
       "        vertical-align: top;\n",
       "    }\n",
       "\n",
       "    .dataframe thead th {\n",
       "        text-align: right;\n",
       "    }\n",
       "</style>\n",
       "<table border=\"1\" class=\"dataframe\">\n",
       "  <thead>\n",
       "    <tr style=\"text-align: right;\">\n",
       "      <th></th>\n",
       "      <th>% Matemática</th>\n",
       "      <th>% Português</th>\n",
       "      <th>% Geografia</th>\n",
       "      <th>% Inglês</th>\n",
       "      <th>% História</th>\n",
       "      <th>% Física</th>\n",
       "      <th>% Quimica</th>\n",
       "    </tr>\n",
       "  </thead>\n",
       "  <tbody>\n",
       "    <tr>\n",
       "      <th>Aluno_1</th>\n",
       "      <td>0.250000</td>\n",
       "      <td>0.388889</td>\n",
       "      <td>0.875</td>\n",
       "      <td>0.375</td>\n",
       "      <td>0.125</td>\n",
       "      <td>0.666667</td>\n",
       "      <td>0.250000</td>\n",
       "    </tr>\n",
       "    <tr>\n",
       "      <th>Aluno_2</th>\n",
       "      <td>0.791667</td>\n",
       "      <td>0.555556</td>\n",
       "      <td>0.000</td>\n",
       "      <td>0.000</td>\n",
       "      <td>0.000</td>\n",
       "      <td>0.916667</td>\n",
       "      <td>0.666667</td>\n",
       "    </tr>\n",
       "    <tr>\n",
       "      <th>Aluno_3</th>\n",
       "      <td>0.583333</td>\n",
       "      <td>0.888889</td>\n",
       "      <td>0.000</td>\n",
       "      <td>0.625</td>\n",
       "      <td>0.875</td>\n",
       "      <td>0.333333</td>\n",
       "      <td>0.333333</td>\n",
       "    </tr>\n",
       "    <tr>\n",
       "      <th>Aluno_4</th>\n",
       "      <td>0.416667</td>\n",
       "      <td>0.388889</td>\n",
       "      <td>0.375</td>\n",
       "      <td>0.500</td>\n",
       "      <td>0.000</td>\n",
       "      <td>0.000000</td>\n",
       "      <td>0.666667</td>\n",
       "    </tr>\n",
       "    <tr>\n",
       "      <th>Aluno_5</th>\n",
       "      <td>0.291667</td>\n",
       "      <td>0.111111</td>\n",
       "      <td>0.250</td>\n",
       "      <td>0.875</td>\n",
       "      <td>0.000</td>\n",
       "      <td>0.750000</td>\n",
       "      <td>0.250000</td>\n",
       "    </tr>\n",
       "  </tbody>\n",
       "</table>\n",
       "</div>"
      ],
      "text/plain": [
       "         % Matemática  % Português  % Geografia  % Inglês  % História  \\\n",
       "Aluno_1      0.250000     0.388889        0.875     0.375       0.125   \n",
       "Aluno_2      0.791667     0.555556        0.000     0.000       0.000   \n",
       "Aluno_3      0.583333     0.888889        0.000     0.625       0.875   \n",
       "Aluno_4      0.416667     0.388889        0.375     0.500       0.000   \n",
       "Aluno_5      0.291667     0.111111        0.250     0.875       0.000   \n",
       "\n",
       "         % Física  % Quimica  \n",
       "Aluno_1  0.666667   0.250000  \n",
       "Aluno_2  0.916667   0.666667  \n",
       "Aluno_3  0.333333   0.333333  \n",
       "Aluno_4  0.000000   0.666667  \n",
       "Aluno_5  0.750000   0.250000  "
      ]
     },
     "execution_count": 5,
     "metadata": {},
     "output_type": "execute_result"
    }
   ],
   "source": [
    "# 1) Seu código aqui\n",
    "#codigo para concatenar o percentual de acerto para cada aluno\n",
    "\n",
    "pc_mat = df_mat / 24\n",
    "pc_por = df_por / 18\n",
    "pc_geo = df_geo /  8\n",
    "pc_ing = df_ing /  8\n",
    "pc_his = df_his /  8\n",
    "pc_fis = df_fis /  12\n",
    "pc_qui = df_qui /  12\n",
    "\n",
    "dfs_pc = pd.concat([pc_mat, pc_por, pc_geo, pc_ing, pc_his, pc_fis, pc_qui], axis=1) #concatenando o percentual de acerto para cada aluno\n",
    "nomes_colunas_nova = ['% Matemática', '% Português', '% Geografia', '% Inglês', '% História', '% Física', '% Quimica'] #renomeando colunas\n",
    "dfs_pc.columns=nomes_colunas_nova #nome colunas\n",
    "dfs_pc.index = novo_index #nome index\n",
    "dfs_pc.head()"
   ]
  },
  {
   "cell_type": "markdown",
   "metadata": {},
   "source": [
    "## Exercício 1.2"
   ]
  },
  {
   "cell_type": "code",
   "execution_count": 6,
   "metadata": {},
   "outputs": [
    {
     "data": {
      "text/html": [
       "<div>\n",
       "<style scoped>\n",
       "    .dataframe tbody tr th:only-of-type {\n",
       "        vertical-align: middle;\n",
       "    }\n",
       "\n",
       "    .dataframe tbody tr th {\n",
       "        vertical-align: top;\n",
       "    }\n",
       "\n",
       "    .dataframe thead th {\n",
       "        text-align: right;\n",
       "    }\n",
       "</style>\n",
       "<table border=\"1\" class=\"dataframe\">\n",
       "  <thead>\n",
       "    <tr style=\"text-align: right;\">\n",
       "      <th></th>\n",
       "      <th>Matemática</th>\n",
       "      <th>Português</th>\n",
       "      <th>Geografia</th>\n",
       "      <th>Inglês</th>\n",
       "      <th>História</th>\n",
       "      <th>Física</th>\n",
       "      <th>Quimica</th>\n",
       "      <th>Total</th>\n",
       "    </tr>\n",
       "  </thead>\n",
       "  <tbody>\n",
       "    <tr>\n",
       "      <th>Aluno_1</th>\n",
       "      <td>6</td>\n",
       "      <td>7</td>\n",
       "      <td>7</td>\n",
       "      <td>3</td>\n",
       "      <td>1</td>\n",
       "      <td>8</td>\n",
       "      <td>3</td>\n",
       "      <td>35</td>\n",
       "    </tr>\n",
       "    <tr>\n",
       "      <th>Aluno_2</th>\n",
       "      <td>19</td>\n",
       "      <td>10</td>\n",
       "      <td>0</td>\n",
       "      <td>0</td>\n",
       "      <td>0</td>\n",
       "      <td>11</td>\n",
       "      <td>8</td>\n",
       "      <td>48</td>\n",
       "    </tr>\n",
       "    <tr>\n",
       "      <th>Aluno_3</th>\n",
       "      <td>14</td>\n",
       "      <td>16</td>\n",
       "      <td>0</td>\n",
       "      <td>5</td>\n",
       "      <td>7</td>\n",
       "      <td>4</td>\n",
       "      <td>4</td>\n",
       "      <td>50</td>\n",
       "    </tr>\n",
       "    <tr>\n",
       "      <th>Aluno_4</th>\n",
       "      <td>10</td>\n",
       "      <td>7</td>\n",
       "      <td>3</td>\n",
       "      <td>4</td>\n",
       "      <td>0</td>\n",
       "      <td>0</td>\n",
       "      <td>8</td>\n",
       "      <td>32</td>\n",
       "    </tr>\n",
       "    <tr>\n",
       "      <th>Aluno_5</th>\n",
       "      <td>7</td>\n",
       "      <td>2</td>\n",
       "      <td>2</td>\n",
       "      <td>7</td>\n",
       "      <td>0</td>\n",
       "      <td>9</td>\n",
       "      <td>3</td>\n",
       "      <td>30</td>\n",
       "    </tr>\n",
       "  </tbody>\n",
       "</table>\n",
       "</div>"
      ],
      "text/plain": [
       "         Matemática  Português  Geografia  Inglês  História  Física  Quimica  \\\n",
       "Aluno_1           6          7          7       3         1       8        3   \n",
       "Aluno_2          19         10          0       0         0      11        8   \n",
       "Aluno_3          14         16          0       5         7       4        4   \n",
       "Aluno_4          10          7          3       4         0       0        8   \n",
       "Aluno_5           7          2          2       7         0       9        3   \n",
       "\n",
       "         Total  \n",
       "Aluno_1     35  \n",
       "Aluno_2     48  \n",
       "Aluno_3     50  \n",
       "Aluno_4     32  \n",
       "Aluno_5     30  "
      ]
     },
     "execution_count": 6,
     "metadata": {},
     "output_type": "execute_result"
    }
   ],
   "source": [
    "# 2) Seu código aqui\n",
    "#codigo que soma as notas dos alunos e adiciona em uma nova coluna\n",
    "\n",
    "dfs['Total'] = dfs.sum(axis=1) \n",
    "dfs.head()"
   ]
  },
  {
   "cell_type": "markdown",
   "metadata": {},
   "source": [
    "## Execício 1.3"
   ]
  },
  {
   "cell_type": "code",
   "execution_count": 7,
   "metadata": {},
   "outputs": [
    {
     "data": {
      "text/html": [
       "<div>\n",
       "<style scoped>\n",
       "    .dataframe tbody tr th:only-of-type {\n",
       "        vertical-align: middle;\n",
       "    }\n",
       "\n",
       "    .dataframe tbody tr th {\n",
       "        vertical-align: top;\n",
       "    }\n",
       "\n",
       "    .dataframe thead th {\n",
       "        text-align: right;\n",
       "    }\n",
       "</style>\n",
       "<table border=\"1\" class=\"dataframe\">\n",
       "  <thead>\n",
       "    <tr style=\"text-align: right;\">\n",
       "      <th></th>\n",
       "      <th>Matemática</th>\n",
       "      <th>Português</th>\n",
       "      <th>Geografia</th>\n",
       "      <th>Inglês</th>\n",
       "      <th>História</th>\n",
       "      <th>Física</th>\n",
       "      <th>Quimica</th>\n",
       "      <th>Total</th>\n",
       "      <th>% Total Acertos</th>\n",
       "    </tr>\n",
       "  </thead>\n",
       "  <tbody>\n",
       "    <tr>\n",
       "      <th>Aluno_1</th>\n",
       "      <td>6</td>\n",
       "      <td>7</td>\n",
       "      <td>7</td>\n",
       "      <td>3</td>\n",
       "      <td>1</td>\n",
       "      <td>8</td>\n",
       "      <td>3</td>\n",
       "      <td>35</td>\n",
       "      <td>38.888889</td>\n",
       "    </tr>\n",
       "    <tr>\n",
       "      <th>Aluno_2</th>\n",
       "      <td>19</td>\n",
       "      <td>10</td>\n",
       "      <td>0</td>\n",
       "      <td>0</td>\n",
       "      <td>0</td>\n",
       "      <td>11</td>\n",
       "      <td>8</td>\n",
       "      <td>48</td>\n",
       "      <td>53.333333</td>\n",
       "    </tr>\n",
       "    <tr>\n",
       "      <th>Aluno_3</th>\n",
       "      <td>14</td>\n",
       "      <td>16</td>\n",
       "      <td>0</td>\n",
       "      <td>5</td>\n",
       "      <td>7</td>\n",
       "      <td>4</td>\n",
       "      <td>4</td>\n",
       "      <td>50</td>\n",
       "      <td>55.555556</td>\n",
       "    </tr>\n",
       "    <tr>\n",
       "      <th>Aluno_4</th>\n",
       "      <td>10</td>\n",
       "      <td>7</td>\n",
       "      <td>3</td>\n",
       "      <td>4</td>\n",
       "      <td>0</td>\n",
       "      <td>0</td>\n",
       "      <td>8</td>\n",
       "      <td>32</td>\n",
       "      <td>35.555556</td>\n",
       "    </tr>\n",
       "    <tr>\n",
       "      <th>Aluno_5</th>\n",
       "      <td>7</td>\n",
       "      <td>2</td>\n",
       "      <td>2</td>\n",
       "      <td>7</td>\n",
       "      <td>0</td>\n",
       "      <td>9</td>\n",
       "      <td>3</td>\n",
       "      <td>30</td>\n",
       "      <td>33.333333</td>\n",
       "    </tr>\n",
       "  </tbody>\n",
       "</table>\n",
       "</div>"
      ],
      "text/plain": [
       "         Matemática  Português  Geografia  Inglês  História  Física  Quimica  \\\n",
       "Aluno_1           6          7          7       3         1       8        3   \n",
       "Aluno_2          19         10          0       0         0      11        8   \n",
       "Aluno_3          14         16          0       5         7       4        4   \n",
       "Aluno_4          10          7          3       4         0       0        8   \n",
       "Aluno_5           7          2          2       7         0       9        3   \n",
       "\n",
       "         Total  % Total Acertos  \n",
       "Aluno_1     35        38.888889  \n",
       "Aluno_2     48        53.333333  \n",
       "Aluno_3     50        55.555556  \n",
       "Aluno_4     32        35.555556  \n",
       "Aluno_5     30        33.333333  "
      ]
     },
     "execution_count": 7,
     "metadata": {},
     "output_type": "execute_result"
    }
   ],
   "source": [
    "# 3) Seu código aqui\n",
    "# codigo que adicionando uma nova coluna com o % total de acertos de cada aluno \n",
    "\n",
    "dfs['% Total Acertos'] = dfs['Total'] / questoes_sum * 100 \n",
    "dfs.head()"
   ]
  },
  {
   "cell_type": "markdown",
   "metadata": {},
   "source": [
    "## Exercício 1.4"
   ]
  },
  {
   "cell_type": "code",
   "execution_count": 8,
   "metadata": {},
   "outputs": [
    {
     "data": {
      "text/html": [
       "<div>\n",
       "<style scoped>\n",
       "    .dataframe tbody tr th:only-of-type {\n",
       "        vertical-align: middle;\n",
       "    }\n",
       "\n",
       "    .dataframe tbody tr th {\n",
       "        vertical-align: top;\n",
       "    }\n",
       "\n",
       "    .dataframe thead th {\n",
       "        text-align: right;\n",
       "    }\n",
       "</style>\n",
       "<table border=\"1\" class=\"dataframe\">\n",
       "  <thead>\n",
       "    <tr style=\"text-align: right;\">\n",
       "      <th></th>\n",
       "      <th>Matemática</th>\n",
       "      <th>Português</th>\n",
       "      <th>Geografia</th>\n",
       "      <th>Inglês</th>\n",
       "      <th>História</th>\n",
       "      <th>Física</th>\n",
       "      <th>Quimica</th>\n",
       "      <th>Total</th>\n",
       "      <th>% Total Acertos</th>\n",
       "      <th>1º Fase</th>\n",
       "    </tr>\n",
       "  </thead>\n",
       "  <tbody>\n",
       "    <tr>\n",
       "      <th>Aluno_1</th>\n",
       "      <td>6</td>\n",
       "      <td>7</td>\n",
       "      <td>7</td>\n",
       "      <td>3</td>\n",
       "      <td>1</td>\n",
       "      <td>8</td>\n",
       "      <td>3</td>\n",
       "      <td>35</td>\n",
       "      <td>38.888889</td>\n",
       "      <td>Reprovado</td>\n",
       "    </tr>\n",
       "    <tr>\n",
       "      <th>Aluno_2</th>\n",
       "      <td>19</td>\n",
       "      <td>10</td>\n",
       "      <td>0</td>\n",
       "      <td>0</td>\n",
       "      <td>0</td>\n",
       "      <td>11</td>\n",
       "      <td>8</td>\n",
       "      <td>48</td>\n",
       "      <td>53.333333</td>\n",
       "      <td>Aprovado</td>\n",
       "    </tr>\n",
       "    <tr>\n",
       "      <th>Aluno_3</th>\n",
       "      <td>14</td>\n",
       "      <td>16</td>\n",
       "      <td>0</td>\n",
       "      <td>5</td>\n",
       "      <td>7</td>\n",
       "      <td>4</td>\n",
       "      <td>4</td>\n",
       "      <td>50</td>\n",
       "      <td>55.555556</td>\n",
       "      <td>Aprovado</td>\n",
       "    </tr>\n",
       "    <tr>\n",
       "      <th>Aluno_4</th>\n",
       "      <td>10</td>\n",
       "      <td>7</td>\n",
       "      <td>3</td>\n",
       "      <td>4</td>\n",
       "      <td>0</td>\n",
       "      <td>0</td>\n",
       "      <td>8</td>\n",
       "      <td>32</td>\n",
       "      <td>35.555556</td>\n",
       "      <td>Reprovado</td>\n",
       "    </tr>\n",
       "    <tr>\n",
       "      <th>Aluno_5</th>\n",
       "      <td>7</td>\n",
       "      <td>2</td>\n",
       "      <td>2</td>\n",
       "      <td>7</td>\n",
       "      <td>0</td>\n",
       "      <td>9</td>\n",
       "      <td>3</td>\n",
       "      <td>30</td>\n",
       "      <td>33.333333</td>\n",
       "      <td>Reprovado</td>\n",
       "    </tr>\n",
       "  </tbody>\n",
       "</table>\n",
       "</div>"
      ],
      "text/plain": [
       "         Matemática  Português  Geografia  Inglês  História  Física  Quimica  \\\n",
       "Aluno_1           6          7          7       3         1       8        3   \n",
       "Aluno_2          19         10          0       0         0      11        8   \n",
       "Aluno_3          14         16          0       5         7       4        4   \n",
       "Aluno_4          10          7          3       4         0       0        8   \n",
       "Aluno_5           7          2          2       7         0       9        3   \n",
       "\n",
       "         Total  % Total Acertos    1º Fase  \n",
       "Aluno_1     35        38.888889  Reprovado  \n",
       "Aluno_2     48        53.333333   Aprovado  \n",
       "Aluno_3     50        55.555556   Aprovado  \n",
       "Aluno_4     32        35.555556  Reprovado  \n",
       "Aluno_5     30        33.333333  Reprovado  "
      ]
     },
     "execution_count": 8,
     "metadata": {},
     "output_type": "execute_result"
    }
   ],
   "source": [
    "# 4) Seu código aqui\n",
    "# codigo que aplica uma função a cada linha e retorna se o aluno passou de fase 45 ou mais, ou reprovou 44 para baixo.\n",
    "\n",
    "fase_um = dfs['Total'].apply(lambda x: 'Aprovado' if x >= 45 else 'Reprovado') \n",
    "dfs['1º Fase'] = fase_um\n",
    "dfs.head()"
   ]
  },
  {
   "cell_type": "markdown",
   "metadata": {},
   "source": [
    "## 2) Vestibular II\n",
    "\n",
    "Ainda sobre o mesmo banco de dados:\n",
    "\n",
    "1. Neste vestibular, quem 'zera' em matemática, física ou química está desqualificado. Monte um novo *DataFrame* com os alunos desqualificados por este critério.\n",
    "2. Quantos são esses alunos?\n",
    "3. Qual a média desses alunos em história e geografia?\n",
    "4. Monte um *DataFrame* com os alunos que passaram para a segunda fase. Repare que estes alunos não podem ter sido desqualificados."
   ]
  },
  {
   "cell_type": "markdown",
   "metadata": {},
   "source": [
    "## Exercício 2.1 e 2.4"
   ]
  },
  {
   "cell_type": "code",
   "execution_count": 9,
   "metadata": {},
   "outputs": [
    {
     "data": {
      "text/html": [
       "<div>\n",
       "<style scoped>\n",
       "    .dataframe tbody tr th:only-of-type {\n",
       "        vertical-align: middle;\n",
       "    }\n",
       "\n",
       "    .dataframe tbody tr th {\n",
       "        vertical-align: top;\n",
       "    }\n",
       "\n",
       "    .dataframe thead th {\n",
       "        text-align: right;\n",
       "    }\n",
       "</style>\n",
       "<table border=\"1\" class=\"dataframe\">\n",
       "  <thead>\n",
       "    <tr style=\"text-align: right;\">\n",
       "      <th></th>\n",
       "      <th>Matemática</th>\n",
       "      <th>Português</th>\n",
       "      <th>Geografia</th>\n",
       "      <th>Inglês</th>\n",
       "      <th>História</th>\n",
       "      <th>Física</th>\n",
       "      <th>Quimica</th>\n",
       "      <th>Total</th>\n",
       "      <th>% Total Acertos</th>\n",
       "      <th>1º Fase</th>\n",
       "      <th>2º Fase</th>\n",
       "    </tr>\n",
       "  </thead>\n",
       "  <tbody>\n",
       "    <tr>\n",
       "      <th>Aluno_1</th>\n",
       "      <td>6</td>\n",
       "      <td>7</td>\n",
       "      <td>7</td>\n",
       "      <td>3</td>\n",
       "      <td>1</td>\n",
       "      <td>8</td>\n",
       "      <td>3</td>\n",
       "      <td>35</td>\n",
       "      <td>38.888889</td>\n",
       "      <td>Reprovado</td>\n",
       "      <td>Reprovado</td>\n",
       "    </tr>\n",
       "    <tr>\n",
       "      <th>Aluno_2</th>\n",
       "      <td>19</td>\n",
       "      <td>10</td>\n",
       "      <td>0</td>\n",
       "      <td>0</td>\n",
       "      <td>0</td>\n",
       "      <td>11</td>\n",
       "      <td>8</td>\n",
       "      <td>48</td>\n",
       "      <td>53.333333</td>\n",
       "      <td>Aprovado</td>\n",
       "      <td>Aprovado</td>\n",
       "    </tr>\n",
       "    <tr>\n",
       "      <th>Aluno_3</th>\n",
       "      <td>14</td>\n",
       "      <td>16</td>\n",
       "      <td>0</td>\n",
       "      <td>5</td>\n",
       "      <td>7</td>\n",
       "      <td>4</td>\n",
       "      <td>4</td>\n",
       "      <td>50</td>\n",
       "      <td>55.555556</td>\n",
       "      <td>Aprovado</td>\n",
       "      <td>Aprovado</td>\n",
       "    </tr>\n",
       "    <tr>\n",
       "      <th>Aluno_4</th>\n",
       "      <td>10</td>\n",
       "      <td>7</td>\n",
       "      <td>3</td>\n",
       "      <td>4</td>\n",
       "      <td>0</td>\n",
       "      <td>0</td>\n",
       "      <td>8</td>\n",
       "      <td>32</td>\n",
       "      <td>35.555556</td>\n",
       "      <td>Reprovado</td>\n",
       "      <td>Reprovado</td>\n",
       "    </tr>\n",
       "    <tr>\n",
       "      <th>Aluno_5</th>\n",
       "      <td>7</td>\n",
       "      <td>2</td>\n",
       "      <td>2</td>\n",
       "      <td>7</td>\n",
       "      <td>0</td>\n",
       "      <td>9</td>\n",
       "      <td>3</td>\n",
       "      <td>30</td>\n",
       "      <td>33.333333</td>\n",
       "      <td>Reprovado</td>\n",
       "      <td>Reprovado</td>\n",
       "    </tr>\n",
       "  </tbody>\n",
       "</table>\n",
       "</div>"
      ],
      "text/plain": [
       "         Matemática  Português  Geografia  Inglês  História  Física  Quimica  \\\n",
       "Aluno_1           6          7          7       3         1       8        3   \n",
       "Aluno_2          19         10          0       0         0      11        8   \n",
       "Aluno_3          14         16          0       5         7       4        4   \n",
       "Aluno_4          10          7          3       4         0       0        8   \n",
       "Aluno_5           7          2          2       7         0       9        3   \n",
       "\n",
       "         Total  % Total Acertos    1º Fase    2º Fase  \n",
       "Aluno_1     35        38.888889  Reprovado  Reprovado  \n",
       "Aluno_2     48        53.333333   Aprovado   Aprovado  \n",
       "Aluno_3     50        55.555556   Aprovado   Aprovado  \n",
       "Aluno_4     32        35.555556  Reprovado  Reprovado  \n",
       "Aluno_5     30        33.333333  Reprovado  Reprovado  "
      ]
     },
     "execution_count": 9,
     "metadata": {},
     "output_type": "execute_result"
    }
   ],
   "source": [
    "# seu código aqui\n",
    "# codigo que aplica em cada linha uma função de condicionamento, onde quem tem mais 45 pontos e não zerou em Mat/Qui/Fis estão aprovados\n",
    "\n",
    "dfs['2º Fase'] = dfs.apply(lambda row: 'Aprovado' if(row['Total'] >= 45 and row['Matemática'] > 0 and row['Física'] > 0 and row['Quimica'] > 0) else 'Reprovado', axis=1)\n",
    "dfs.head()"
   ]
  },
  {
   "cell_type": "markdown",
   "metadata": {},
   "source": [
    "## Exercício 2.3"
   ]
  },
  {
   "cell_type": "markdown",
   "metadata": {},
   "source": [
    "### Para esse vestibular foram aprovados um total de 29 alunos de 100. "
   ]
  },
  {
   "cell_type": "code",
   "execution_count": 10,
   "metadata": {},
   "outputs": [
    {
     "name": "stdout",
     "output_type": "stream",
     "text": [
      "29 alunos aprovados\n",
      "71 alunos reprovados\n"
     ]
    }
   ],
   "source": [
    "desqualificados = dfs[(dfs['Matemática']) == 0 | (dfs['Física'] == 0) | (dfs['Quimica'] == 0)]\n",
    "\n",
    "num_aprovados = dfs['2º Fase'].value_counts().get('Aprovado', 0)\n",
    "num_reprovados = dfs['2º Fase'].value_counts().get('Reprovado', 0)\n",
    "print(f'{num_aprovados} alunos aprovados')\n",
    "print(f'{num_reprovados} alunos reprovados')\n"
   ]
  },
  {
   "cell_type": "code",
   "execution_count": 11,
   "metadata": {},
   "outputs": [
    {
     "name": "stdout",
     "output_type": "stream",
     "text": [
      "Média dos alunos reprovados nas 8 questões de história: 2.4.\n",
      "Média dos alunos reprovados nas 8 questões de Geografia: 3.2.\n"
     ]
    }
   ],
   "source": [
    "media_desqualificados_his = round(desqualificados['História'].mean(), 2)\n",
    "media_desqualificados_geo = round(desqualificados['Geografia'].mean(), 2)\n",
    "\n",
    "print('Média dos alunos reprovados nas 8 questões de história: {}.'.format(media_desqualificados_his))\n",
    "print('Média dos alunos reprovados nas 8 questões de Geografia: {}.'.format(media_desqualificados_geo))"
   ]
  },
  {
   "cell_type": "markdown",
   "metadata": {},
   "source": [
    "## 3) Vacinações no Acre\n",
    "Vamos trabalhar agora com a base de vacinações no Acre. Para facilitar a sua vida, copiamos o link do arquivo na célula abaixo.\n",
    "\n",
    "1. Quantas vacinas estão registradas nessa base?  \n",
    "2. Quantos pacientes foram vacinados? (considere um paciente para cada valor único de ```paciente_id```)  \n",
    "3. Quantos pacientes únicos tomaram a primeira dose? OBS: Há um caractere especial neste campo. Receba os valores do campo com o método ```.unique()```.   \n",
    "4. Quantos pacientes com menos de 18 anos foram vacinados?  \n",
    "5. Quantos estabelecimentos aplicaram vacina no Acre?\n",
    "\n",
    "\n",
    "**OBS:** O portal do DATASUS pode apresentar instabilidades, retornando um erro na segunda célula abaixo. Por este motivo está disponível uma base estática, que se for baixada para o seu *working directory* pode ser lida com este comando: ```df = pd.read_csv('registros de vacinacao covid ACRE.csv', sep=';')```.\n",
    "\n",
    "**OBS2:** Para saber qual é o seu working directory, rode no jupyter: ```!pwd```."
   ]
  },
  {
   "cell_type": "code",
   "execution_count": 12,
   "metadata": {},
   "outputs": [],
   "source": [
    "import pandas as pd \n",
    "import numpy as np"
   ]
  },
  {
   "cell_type": "markdown",
   "metadata": {},
   "source": [
    "## Explorando os dados"
   ]
  },
  {
   "cell_type": "code",
   "execution_count": 13,
   "metadata": {},
   "outputs": [],
   "source": [
    "arquivo = 'https://s3.sa-east-1.amazonaws.com/ckan.saude.gov.br/SIPNI/COVID/uf/uf%3DAC/part-00000-0fed2f29-2b33-4ec6-92b6-de2a21bfe2af.c000.csv'"
   ]
  },
  {
   "cell_type": "code",
   "execution_count": 14,
   "metadata": {},
   "outputs": [],
   "source": [
    "df = pd.read_csv(arquivo, sep=';')"
   ]
  },
  {
   "cell_type": "code",
   "execution_count": 15,
   "metadata": {},
   "outputs": [
    {
     "data": {
      "text/html": [
       "<div>\n",
       "<style scoped>\n",
       "    .dataframe tbody tr th:only-of-type {\n",
       "        vertical-align: middle;\n",
       "    }\n",
       "\n",
       "    .dataframe tbody tr th {\n",
       "        vertical-align: top;\n",
       "    }\n",
       "\n",
       "    .dataframe thead th {\n",
       "        text-align: right;\n",
       "    }\n",
       "</style>\n",
       "<table border=\"1\" class=\"dataframe\">\n",
       "  <thead>\n",
       "    <tr style=\"text-align: right;\">\n",
       "      <th></th>\n",
       "      <th>document_id</th>\n",
       "      <th>paciente_id</th>\n",
       "      <th>paciente_idade</th>\n",
       "      <th>paciente_dataNascimento</th>\n",
       "      <th>paciente_enumSexoBiologico</th>\n",
       "      <th>paciente_racaCor_codigo</th>\n",
       "      <th>paciente_racaCor_valor</th>\n",
       "      <th>paciente_endereco_coIbgeMunicipio</th>\n",
       "      <th>paciente_endereco_coPais</th>\n",
       "      <th>paciente_endereco_nmMunicipio</th>\n",
       "      <th>...</th>\n",
       "      <th>vacina_categoria_codigo</th>\n",
       "      <th>vacina_categoria_nome</th>\n",
       "      <th>vacina_lote</th>\n",
       "      <th>vacina_fabricante_nome</th>\n",
       "      <th>vacina_fabricante_referencia</th>\n",
       "      <th>vacina_dataAplicacao</th>\n",
       "      <th>vacina_descricao_dose</th>\n",
       "      <th>vacina_codigo</th>\n",
       "      <th>vacina_nome</th>\n",
       "      <th>sistema_origem</th>\n",
       "    </tr>\n",
       "  </thead>\n",
       "  <tbody>\n",
       "    <tr>\n",
       "      <th>0</th>\n",
       "      <td>b98c7e0e-1509-4a85-a00a-f3c5701fa405-i0b0</td>\n",
       "      <td>797a286df3fd44216ddbf9b087122357161026bb13e1ce...</td>\n",
       "      <td>7</td>\n",
       "      <td>2015-06-10</td>\n",
       "      <td>M</td>\n",
       "      <td>99</td>\n",
       "      <td>SEM INFORMACAO</td>\n",
       "      <td>120040.0</td>\n",
       "      <td>10.0</td>\n",
       "      <td>RIO BRANCO</td>\n",
       "      <td>...</td>\n",
       "      <td>NaN</td>\n",
       "      <td>NaN</td>\n",
       "      <td>FN4073</td>\n",
       "      <td>PFIZER - PEDI?TRICA</td>\n",
       "      <td>28290</td>\n",
       "      <td>2022-06-21</td>\n",
       "      <td>2ª Dose</td>\n",
       "      <td>99</td>\n",
       "      <td>COVID-19 PEDIÁTRICA - PFIZER COMIRNATY</td>\n",
       "      <td>Novo PNI</td>\n",
       "    </tr>\n",
       "    <tr>\n",
       "      <th>1</th>\n",
       "      <td>9fe8d79d-890b-4c54-9011-d9e6a4699b57-i0b0</td>\n",
       "      <td>767414cd628822d3c1f7e22e5d3f45172245ca9e2bbd61...</td>\n",
       "      <td>22</td>\n",
       "      <td>1999-05-12</td>\n",
       "      <td>M</td>\n",
       "      <td>3</td>\n",
       "      <td>PARDA</td>\n",
       "      <td>120017.0</td>\n",
       "      <td>10.0</td>\n",
       "      <td>CAPIXABA</td>\n",
       "      <td>...</td>\n",
       "      <td>2.0</td>\n",
       "      <td>Faixa Etária</td>\n",
       "      <td>28230BD</td>\n",
       "      <td>PFIZER</td>\n",
       "      <td>Organization/00394544000851</td>\n",
       "      <td>2021-09-14</td>\n",
       "      <td>1ª Dose</td>\n",
       "      <td>87</td>\n",
       "      <td>COVID-19 PFIZER - COMIRNATY</td>\n",
       "      <td>Novo PNI</td>\n",
       "    </tr>\n",
       "    <tr>\n",
       "      <th>2</th>\n",
       "      <td>b63af233-21d8-4af7-9aa9-3f8ff6285753-i0b0</td>\n",
       "      <td>3fdd86b8842269eda2dd906eb0aa15473ae1b5f8e64f1c...</td>\n",
       "      <td>49</td>\n",
       "      <td>1972-03-16</td>\n",
       "      <td>M</td>\n",
       "      <td>3</td>\n",
       "      <td>PARDA</td>\n",
       "      <td>120040.0</td>\n",
       "      <td>10.0</td>\n",
       "      <td>RIO BRANCO</td>\n",
       "      <td>...</td>\n",
       "      <td>2.0</td>\n",
       "      <td>Faixa Etária</td>\n",
       "      <td>FF8848</td>\n",
       "      <td>PFIZER</td>\n",
       "      <td>Organization/00394544000851</td>\n",
       "      <td>2021-10-25</td>\n",
       "      <td>2ª Dose</td>\n",
       "      <td>87</td>\n",
       "      <td>COVID-19 PFIZER - COMIRNATY</td>\n",
       "      <td>Novo PNI</td>\n",
       "    </tr>\n",
       "    <tr>\n",
       "      <th>3</th>\n",
       "      <td>9ff86aad-dbc2-41d8-8623-f1830d05fec9-i0b0</td>\n",
       "      <td>eceac51ca6f212c5a2c747677c9d1e857056354168ee85...</td>\n",
       "      <td>36</td>\n",
       "      <td>1987-01-06</td>\n",
       "      <td>M</td>\n",
       "      <td>3</td>\n",
       "      <td>PARDA</td>\n",
       "      <td>120040.0</td>\n",
       "      <td>10.0</td>\n",
       "      <td>RIO BRANCO</td>\n",
       "      <td>...</td>\n",
       "      <td>2.0</td>\n",
       "      <td>Faixa Etária</td>\n",
       "      <td>GJ5106</td>\n",
       "      <td>PFIZER</td>\n",
       "      <td>28290</td>\n",
       "      <td>2023-05-08</td>\n",
       "      <td>Reforço</td>\n",
       "      <td>103</td>\n",
       "      <td>COVID-19 PFIZER - COMIRNATY BIVALENTE</td>\n",
       "      <td>Novo PNI</td>\n",
       "    </tr>\n",
       "    <tr>\n",
       "      <th>4</th>\n",
       "      <td>ad099eee-6582-4fa0-ac02-c520237d7eed-i0b0</td>\n",
       "      <td>f56c5670b9907b8ca51387a37b67dfe41a203b3688bbe1...</td>\n",
       "      <td>20</td>\n",
       "      <td>2001-01-15</td>\n",
       "      <td>M</td>\n",
       "      <td>5</td>\n",
       "      <td>INDIGENA</td>\n",
       "      <td>120035.0</td>\n",
       "      <td>10.0</td>\n",
       "      <td>MARECHAL THAUMATURGO</td>\n",
       "      <td>...</td>\n",
       "      <td>7.0</td>\n",
       "      <td>Povos Indígenas</td>\n",
       "      <td>219VCD268W</td>\n",
       "      <td>ASTRAZENECA/FIOCRUZ</td>\n",
       "      <td>Organization/149</td>\n",
       "      <td>2022-01-12</td>\n",
       "      <td>Reforço</td>\n",
       "      <td>85</td>\n",
       "      <td>COVID-19 ASTRAZENECA/FIOCRUZ - COVISHIELD</td>\n",
       "      <td>Novo PNI</td>\n",
       "    </tr>\n",
       "  </tbody>\n",
       "</table>\n",
       "<p>5 rows × 32 columns</p>\n",
       "</div>"
      ],
      "text/plain": [
       "                                 document_id  \\\n",
       "0  b98c7e0e-1509-4a85-a00a-f3c5701fa405-i0b0   \n",
       "1  9fe8d79d-890b-4c54-9011-d9e6a4699b57-i0b0   \n",
       "2  b63af233-21d8-4af7-9aa9-3f8ff6285753-i0b0   \n",
       "3  9ff86aad-dbc2-41d8-8623-f1830d05fec9-i0b0   \n",
       "4  ad099eee-6582-4fa0-ac02-c520237d7eed-i0b0   \n",
       "\n",
       "                                         paciente_id  paciente_idade  \\\n",
       "0  797a286df3fd44216ddbf9b087122357161026bb13e1ce...               7   \n",
       "1  767414cd628822d3c1f7e22e5d3f45172245ca9e2bbd61...              22   \n",
       "2  3fdd86b8842269eda2dd906eb0aa15473ae1b5f8e64f1c...              49   \n",
       "3  eceac51ca6f212c5a2c747677c9d1e857056354168ee85...              36   \n",
       "4  f56c5670b9907b8ca51387a37b67dfe41a203b3688bbe1...              20   \n",
       "\n",
       "  paciente_dataNascimento paciente_enumSexoBiologico  paciente_racaCor_codigo  \\\n",
       "0              2015-06-10                          M                       99   \n",
       "1              1999-05-12                          M                        3   \n",
       "2              1972-03-16                          M                        3   \n",
       "3              1987-01-06                          M                        3   \n",
       "4              2001-01-15                          M                        5   \n",
       "\n",
       "  paciente_racaCor_valor  paciente_endereco_coIbgeMunicipio  \\\n",
       "0         SEM INFORMACAO                           120040.0   \n",
       "1                  PARDA                           120017.0   \n",
       "2                  PARDA                           120040.0   \n",
       "3                  PARDA                           120040.0   \n",
       "4               INDIGENA                           120035.0   \n",
       "\n",
       "   paciente_endereco_coPais paciente_endereco_nmMunicipio  ...  \\\n",
       "0                      10.0                    RIO BRANCO  ...   \n",
       "1                      10.0                      CAPIXABA  ...   \n",
       "2                      10.0                    RIO BRANCO  ...   \n",
       "3                      10.0                    RIO BRANCO  ...   \n",
       "4                      10.0          MARECHAL THAUMATURGO  ...   \n",
       "\n",
       "  vacina_categoria_codigo vacina_categoria_nome  vacina_lote  \\\n",
       "0                     NaN                   NaN       FN4073   \n",
       "1                     2.0          Faixa Etária      28230BD   \n",
       "2                     2.0          Faixa Etária       FF8848   \n",
       "3                     2.0          Faixa Etária       GJ5106   \n",
       "4                     7.0       Povos Indígenas   219VCD268W   \n",
       "\n",
       "  vacina_fabricante_nome  vacina_fabricante_referencia vacina_dataAplicacao  \\\n",
       "0    PFIZER - PEDI?TRICA                         28290           2022-06-21   \n",
       "1                 PFIZER   Organization/00394544000851           2021-09-14   \n",
       "2                 PFIZER   Organization/00394544000851           2021-10-25   \n",
       "3                 PFIZER                         28290           2023-05-08   \n",
       "4    ASTRAZENECA/FIOCRUZ              Organization/149           2022-01-12   \n",
       "\n",
       "  vacina_descricao_dose  vacina_codigo  \\\n",
       "0               2ª Dose             99   \n",
       "1               1ª Dose             87   \n",
       "2               2ª Dose             87   \n",
       "3               Reforço            103   \n",
       "4               Reforço             85   \n",
       "\n",
       "                                 vacina_nome sistema_origem  \n",
       "0     COVID-19 PEDIÁTRICA - PFIZER COMIRNATY       Novo PNI  \n",
       "1                COVID-19 PFIZER - COMIRNATY       Novo PNI  \n",
       "2                COVID-19 PFIZER - COMIRNATY       Novo PNI  \n",
       "3      COVID-19 PFIZER - COMIRNATY BIVALENTE       Novo PNI  \n",
       "4  COVID-19 ASTRAZENECA/FIOCRUZ - COVISHIELD       Novo PNI  \n",
       "\n",
       "[5 rows x 32 columns]"
      ]
     },
     "execution_count": 15,
     "metadata": {},
     "output_type": "execute_result"
    }
   ],
   "source": [
    "df.head()"
   ]
  },
  {
   "cell_type": "code",
   "execution_count": 16,
   "metadata": {},
   "outputs": [
    {
     "data": {
      "text/plain": [
       "array(['PFIZER', 'ASTRAZENECA', 'BUTANTAN', 'JANSSEN', nan, 'SINOVAC'],\n",
       "      dtype=object)"
      ]
     },
     "execution_count": 16,
     "metadata": {},
     "output_type": "execute_result"
    }
   ],
   "source": [
    "# código para correção e tratamento de dados\n",
    "\n",
    "# lista com valores errados\n",
    "valores_para_substituir_pfizer = ['PFIZER - PEDI?TRICA', \n",
    "                         'PFIZER - PEDIÁTRICA MENOR DE 5 ANOS', \n",
    "                         'PFIZER - PEDIÁTRICA', \n",
    "                         'PFIZER MANUFACTURING BELGIUM NV - BELGICA'] \n",
    "valores_para_substituir_butantan = ['SINOVAC/BUTANTAN']\n",
    "valores_para_substituir_astrazenica = ['ASTRAZENECA/FIOCRUZ']\n",
    "\n",
    "# substituindo valores\n",
    "df.loc[df['vacina_fabricante_nome'].isin(valores_para_substituir_pfizer), 'vacina_fabricante_nome'] = 'PFIZER'\n",
    "df.loc[df['vacina_fabricante_nome'].isin(valores_para_substituir_butantan), 'vacina_fabricante_nome'] = 'BUTANTAN'\n",
    "df.loc[df['vacina_fabricante_nome'].isin(valores_para_substituir_astrazenica), 'vacina_fabricante_nome'] = 'ASTRAZENECA'\n",
    "\n",
    "# decidir por tratar os valores sem nome de fabricante por NaN, pois se tratam de 8845 mil, causando relevancia a analise.\n",
    "# esse código soma os fabricantes sem nome\n",
    "valores_filtrados = df['vacina_fabricante_nome'].isin(['Pendente Identifica??o', 'Pendente Identificação']).sum()\n",
    "\n",
    "# substituindo valores\n",
    "valores_substituir_sem_nome = ['Pendente Identifica??o', 'Pendente Identificação']\n",
    "df.loc[df['vacina_fabricante_nome'].isin(valores_substituir_sem_nome), 'vacina_fabricante_nome'] = np.nan\n",
    "\n",
    "df['vacina_fabricante_nome'].unique()"
   ]
  },
  {
   "cell_type": "code",
   "execution_count": 17,
   "metadata": {},
   "outputs": [],
   "source": [
    "# código que troca o 'nome' do passiente para mais facil visualização \n",
    "#df_passiente = [f'Passiente_{i+1}' for i in range(len(df))]  \n",
    "#df['paciente_id'] = df_passiente\n",
    "#df.head()\n"
   ]
  },
  {
   "cell_type": "code",
   "execution_count": 18,
   "metadata": {},
   "outputs": [
    {
     "data": {
      "text/plain": [
       "389757"
      ]
     },
     "execution_count": 18,
     "metadata": {},
     "output_type": "execute_result"
    }
   ],
   "source": [
    "df.shape[0]"
   ]
  },
  {
   "cell_type": "markdown",
   "metadata": {},
   "source": [
    "## Exercício 1.1"
   ]
  },
  {
   "cell_type": "markdown",
   "metadata": {},
   "source": [
    "### Foram 6 vacinas distribuidas, sendo elas: PFIZER, ASTRAZENECA, BUTANTAN, JANSSEN e SINOVAC."
   ]
  },
  {
   "cell_type": "code",
   "execution_count": 19,
   "metadata": {},
   "outputs": [
    {
     "name": "stdout",
     "output_type": "stream",
     "text": [
      "Foram 5 vacinas distribuidas, sendo elas:['PFIZER' 'ASTRAZENECA' 'BUTANTAN' 'JANSSEN' nan 'SINOVAC'].\n"
     ]
    }
   ],
   "source": [
    "# 1) Sua solução aqui\n",
    "\n",
    "quantidade_vacinas = df['vacina_fabricante_nome'].nunique()\n",
    "#nome_fabricante = df['vacina_fabricante_nome'].dropna().unique()\n",
    "nome_fabricante = df['vacina_fabricante_nome'][df['vacina_fabricante_nome'] != 'NaN'].unique()\n",
    "print(f'Foram {quantidade_vacinas} vacinas distribuidas, sendo elas:{nome_fabricante}.')"
   ]
  },
  {
   "cell_type": "markdown",
   "metadata": {},
   "source": [
    "## Exercício 1.2"
   ]
  },
  {
   "cell_type": "markdown",
   "metadata": {},
   "source": [
    "### Foram distribuidos cerca de 390 mil vacinas"
   ]
  },
  {
   "cell_type": "code",
   "execution_count": 20,
   "metadata": {},
   "outputs": [
    {
     "data": {
      "text/plain": [
       "318176"
      ]
     },
     "execution_count": 20,
     "metadata": {},
     "output_type": "execute_result"
    }
   ],
   "source": [
    "# 2) Sua solução aqui\n",
    "df['paciente_id'].nunique()"
   ]
  },
  {
   "cell_type": "markdown",
   "metadata": {},
   "source": [
    "## Exercício 1.3"
   ]
  },
  {
   "cell_type": "markdown",
   "metadata": {},
   "source": [
    "### Foram vacinados com a 1º dose, cerca de 163 mil pessoas "
   ]
  },
  {
   "cell_type": "code",
   "execution_count": 21,
   "metadata": {},
   "outputs": [
    {
     "data": {
      "text/plain": [
       "162654"
      ]
     },
     "execution_count": 21,
     "metadata": {},
     "output_type": "execute_result"
    }
   ],
   "source": [
    "# 3) Sua solução aqui\n",
    "# Para analise completa, entendi que 'Única' se trata tambem da 1º dose\n",
    "\n",
    "df['vacina_descricao_dose'].isin(['1ª Dose', 'Única']).sum()\n",
    "#df['vacina_descricao_dose'].unique()"
   ]
  },
  {
   "cell_type": "markdown",
   "metadata": {},
   "source": [
    "## Exercício 1.4"
   ]
  },
  {
   "cell_type": "markdown",
   "metadata": {},
   "source": [
    "### Cerca de 3 mil passientes com menos de 18 anos foram vacinados. "
   ]
  },
  {
   "cell_type": "code",
   "execution_count": 22,
   "metadata": {},
   "outputs": [
    {
     "name": "stdout",
     "output_type": "stream",
     "text": [
      "2993\n"
     ]
    }
   ],
   "source": [
    "# 3) solução alternativa\n",
    "# código que busca e soma os valores distintos no DataFrame \n",
    "\n",
    "menores_18 = df['paciente_idade'].isin(df['paciente_idade'] < 18).sum()\n",
    "print(menores_18)\n"
   ]
  },
  {
   "cell_type": "markdown",
   "metadata": {},
   "source": [
    "## Exercício 1.5"
   ]
  },
  {
   "cell_type": "markdown",
   "metadata": {},
   "source": [
    "### Cerca de 1600 municipios foram contabilizados sendo alguns deles: RIO BRANCO, CAPIXABA, MARECHAL, THAUMATURGO, SOLEDADE...'"
   ]
  },
  {
   "cell_type": "code",
   "execution_count": 23,
   "metadata": {},
   "outputs": [
    {
     "name": "stdout",
     "output_type": "stream",
     "text": [
      "Foram cerca de 1536 municipios participantes, sendo eles ['RIO BRANCO' 'CAPIXABA' 'MARECHAL THAUMATURGO' ... 'SOLEDADE'\n",
      " 'SAO GERALDO DO BAIXIO' 'NOVA ROSALANDIA'].\n"
     ]
    }
   ],
   "source": [
    "# 4) solução alternativa\n",
    "# código que busca e soma os valores distintos no DataFrame \n",
    "\n",
    "num_municipios_distintos = df['paciente_endereco_nmMunicipio'].nunique()\n",
    "soma_valores_unicos = df['paciente_endereco_nmMunicipio'].unique()\n",
    "\n",
    "print(f'Foram cerca de {num_municipios_distintos} municipios participantes, sendo eles {soma_valores_unicos}.')"
   ]
  },
  {
   "cell_type": "markdown",
   "metadata": {},
   "source": [
    "## 4) Vacinação II\n",
    "Gere um *DataFrame* que contenha somente os estabelecimentos que aplicaram vcinas a menores de 18 anos. Nesse *DataFrame* devem conter somente os dados dos estabelecimentos, mais uma coluna sendo a quantidade de vacinas que o estabelecimento aplicou a menores de 18 anos.  \n",
    "  \n",
    "1. crie uma cópia do *DataFrame* original, contendo somente os registros de vacinas realizadas a menores de 18 anos.  \n",
    "2. crie uma lista das colunas desse *DataFrame* com o atributo de *DataFrame* **.columns()**  \n",
    "3. Nesse *DataFrame* faça uma contagem do campo ```vacina_categoria_nome```.\n",
    "3. a partir da lista de colunas, escolha somente aquelas que são referentes ao estabelecimento, faça uma lista com esses valores.  \n",
    "4. usando o método *.loc*, selecione somente essas variáveis  \n",
    "5. Aplique o método **.drop_duplicates** e crie uma lista com uma linha para cada estabelecimento, com os dados do estabelecimento  "
   ]
  },
  {
   "cell_type": "markdown",
   "metadata": {},
   "source": [
    "## Exercício 1.6"
   ]
  },
  {
   "cell_type": "code",
   "execution_count": 30,
   "metadata": {},
   "outputs": [
    {
     "data": {
      "text/html": [
       "<div>\n",
       "<style scoped>\n",
       "    .dataframe tbody tr th:only-of-type {\n",
       "        vertical-align: middle;\n",
       "    }\n",
       "\n",
       "    .dataframe tbody tr th {\n",
       "        vertical-align: top;\n",
       "    }\n",
       "\n",
       "    .dataframe thead th {\n",
       "        text-align: right;\n",
       "    }\n",
       "</style>\n",
       "<table border=\"1\" class=\"dataframe\">\n",
       "  <thead>\n",
       "    <tr style=\"text-align: right;\">\n",
       "      <th></th>\n",
       "      <th>document_id</th>\n",
       "      <th>paciente_id</th>\n",
       "      <th>paciente_idade</th>\n",
       "      <th>paciente_dataNascimento</th>\n",
       "      <th>paciente_enumSexoBiologico</th>\n",
       "      <th>paciente_racaCor_codigo</th>\n",
       "      <th>paciente_racaCor_valor</th>\n",
       "      <th>paciente_endereco_coIbgeMunicipio</th>\n",
       "      <th>paciente_endereco_coPais</th>\n",
       "      <th>paciente_endereco_nmMunicipio</th>\n",
       "      <th>...</th>\n",
       "      <th>vacina_categoria_codigo</th>\n",
       "      <th>vacina_categoria_nome</th>\n",
       "      <th>vacina_lote</th>\n",
       "      <th>vacina_fabricante_nome</th>\n",
       "      <th>vacina_fabricante_referencia</th>\n",
       "      <th>vacina_dataAplicacao</th>\n",
       "      <th>vacina_descricao_dose</th>\n",
       "      <th>vacina_codigo</th>\n",
       "      <th>vacina_nome</th>\n",
       "      <th>sistema_origem</th>\n",
       "    </tr>\n",
       "  </thead>\n",
       "  <tbody>\n",
       "    <tr>\n",
       "      <th>0</th>\n",
       "      <td>b98c7e0e-1509-4a85-a00a-f3c5701fa405-i0b0</td>\n",
       "      <td>797a286df3fd44216ddbf9b087122357161026bb13e1ce...</td>\n",
       "      <td>7</td>\n",
       "      <td>2015-06-10</td>\n",
       "      <td>M</td>\n",
       "      <td>99</td>\n",
       "      <td>SEM INFORMACAO</td>\n",
       "      <td>120040.0</td>\n",
       "      <td>10.0</td>\n",
       "      <td>RIO BRANCO</td>\n",
       "      <td>...</td>\n",
       "      <td>NaN</td>\n",
       "      <td>NaN</td>\n",
       "      <td>FN4073</td>\n",
       "      <td>PFIZER</td>\n",
       "      <td>28290</td>\n",
       "      <td>2022-06-21</td>\n",
       "      <td>2ª Dose</td>\n",
       "      <td>99</td>\n",
       "      <td>COVID-19 PEDIÁTRICA - PFIZER COMIRNATY</td>\n",
       "      <td>Novo PNI</td>\n",
       "    </tr>\n",
       "    <tr>\n",
       "      <th>6</th>\n",
       "      <td>a8653b73-75a7-4d58-92f6-846f1ab48980-i0b0</td>\n",
       "      <td>58b6681a766949cd392f7df765cc2a16fc9996a0f44f6d...</td>\n",
       "      <td>4</td>\n",
       "      <td>2018-09-17</td>\n",
       "      <td>M</td>\n",
       "      <td>3</td>\n",
       "      <td>PARDA</td>\n",
       "      <td>120040.0</td>\n",
       "      <td>10.0</td>\n",
       "      <td>RIO BRANCO</td>\n",
       "      <td>...</td>\n",
       "      <td>2.0</td>\n",
       "      <td>Faixa Etária</td>\n",
       "      <td>220299</td>\n",
       "      <td>BUTANTAN</td>\n",
       "      <td>152</td>\n",
       "      <td>2023-01-24</td>\n",
       "      <td>1ª Dose</td>\n",
       "      <td>86</td>\n",
       "      <td>COVID-19 SINOVAC/BUTANTAN - CORONAVAC</td>\n",
       "      <td>Novo PNI</td>\n",
       "    </tr>\n",
       "    <tr>\n",
       "      <th>10</th>\n",
       "      <td>be326d7c-dcde-400e-a701-b4ffed4039fe-i0b0</td>\n",
       "      <td>a7debef33553c6eabb36cd08eb6592761ef81e63766587...</td>\n",
       "      <td>12</td>\n",
       "      <td>2009-12-29</td>\n",
       "      <td>M</td>\n",
       "      <td>3</td>\n",
       "      <td>PARDA</td>\n",
       "      <td>352050.0</td>\n",
       "      <td>10.0</td>\n",
       "      <td>INDAIATUBA</td>\n",
       "      <td>...</td>\n",
       "      <td>2.0</td>\n",
       "      <td>Faixa Etária</td>\n",
       "      <td>220250</td>\n",
       "      <td>BUTANTAN</td>\n",
       "      <td>152</td>\n",
       "      <td>2022-11-10</td>\n",
       "      <td>2ª Dose</td>\n",
       "      <td>86</td>\n",
       "      <td>COVID-19 SINOVAC/BUTANTAN - CORONAVAC</td>\n",
       "      <td>Novo PNI</td>\n",
       "    </tr>\n",
       "    <tr>\n",
       "      <th>12</th>\n",
       "      <td>e590a0b2-dc59-49e0-a6c2-115e9410cf2c-i0b0</td>\n",
       "      <td>ccd2911169a073c71cd7144800c81c6391ad43c31df97f...</td>\n",
       "      <td>12</td>\n",
       "      <td>2010-02-09</td>\n",
       "      <td>F</td>\n",
       "      <td>1</td>\n",
       "      <td>BRANCA</td>\n",
       "      <td>120040.0</td>\n",
       "      <td>10.0</td>\n",
       "      <td>RIO BRANCO</td>\n",
       "      <td>...</td>\n",
       "      <td>NaN</td>\n",
       "      <td>NaN</td>\n",
       "      <td>FP8290</td>\n",
       "      <td>PFIZER</td>\n",
       "      <td>28290</td>\n",
       "      <td>2022-03-21</td>\n",
       "      <td>2ª Dose</td>\n",
       "      <td>99</td>\n",
       "      <td>COVID-19 PEDIÁTRICA - PFIZER COMIRNATY</td>\n",
       "      <td>Novo PNI</td>\n",
       "    </tr>\n",
       "    <tr>\n",
       "      <th>23</th>\n",
       "      <td>a10284f1-d5ac-43ce-8a4f-62e902699a8c-i0b0</td>\n",
       "      <td>1fef12579308967e86fcbf4615a3b28daa72b3b8952073...</td>\n",
       "      <td>13</td>\n",
       "      <td>2007-10-22</td>\n",
       "      <td>F</td>\n",
       "      <td>3</td>\n",
       "      <td>PARDA</td>\n",
       "      <td>120025.0</td>\n",
       "      <td>10.0</td>\n",
       "      <td>EPITACIOLANDIA</td>\n",
       "      <td>...</td>\n",
       "      <td>2.0</td>\n",
       "      <td>Faixa Etária</td>\n",
       "      <td>FD7208</td>\n",
       "      <td>PFIZER</td>\n",
       "      <td>Organization/00394544000851</td>\n",
       "      <td>2021-09-11</td>\n",
       "      <td>1ª Dose</td>\n",
       "      <td>87</td>\n",
       "      <td>COVID-19 PFIZER - COMIRNATY</td>\n",
       "      <td>Novo PNI</td>\n",
       "    </tr>\n",
       "  </tbody>\n",
       "</table>\n",
       "<p>5 rows × 32 columns</p>\n",
       "</div>"
      ],
      "text/plain": [
       "                                  document_id  \\\n",
       "0   b98c7e0e-1509-4a85-a00a-f3c5701fa405-i0b0   \n",
       "6   a8653b73-75a7-4d58-92f6-846f1ab48980-i0b0   \n",
       "10  be326d7c-dcde-400e-a701-b4ffed4039fe-i0b0   \n",
       "12  e590a0b2-dc59-49e0-a6c2-115e9410cf2c-i0b0   \n",
       "23  a10284f1-d5ac-43ce-8a4f-62e902699a8c-i0b0   \n",
       "\n",
       "                                          paciente_id  paciente_idade  \\\n",
       "0   797a286df3fd44216ddbf9b087122357161026bb13e1ce...               7   \n",
       "6   58b6681a766949cd392f7df765cc2a16fc9996a0f44f6d...               4   \n",
       "10  a7debef33553c6eabb36cd08eb6592761ef81e63766587...              12   \n",
       "12  ccd2911169a073c71cd7144800c81c6391ad43c31df97f...              12   \n",
       "23  1fef12579308967e86fcbf4615a3b28daa72b3b8952073...              13   \n",
       "\n",
       "   paciente_dataNascimento paciente_enumSexoBiologico  \\\n",
       "0               2015-06-10                          M   \n",
       "6               2018-09-17                          M   \n",
       "10              2009-12-29                          M   \n",
       "12              2010-02-09                          F   \n",
       "23              2007-10-22                          F   \n",
       "\n",
       "    paciente_racaCor_codigo paciente_racaCor_valor  \\\n",
       "0                        99         SEM INFORMACAO   \n",
       "6                         3                  PARDA   \n",
       "10                        3                  PARDA   \n",
       "12                        1                 BRANCA   \n",
       "23                        3                  PARDA   \n",
       "\n",
       "    paciente_endereco_coIbgeMunicipio  paciente_endereco_coPais  \\\n",
       "0                            120040.0                      10.0   \n",
       "6                            120040.0                      10.0   \n",
       "10                           352050.0                      10.0   \n",
       "12                           120040.0                      10.0   \n",
       "23                           120025.0                      10.0   \n",
       "\n",
       "   paciente_endereco_nmMunicipio  ... vacina_categoria_codigo  \\\n",
       "0                     RIO BRANCO  ...                     NaN   \n",
       "6                     RIO BRANCO  ...                     2.0   \n",
       "10                    INDAIATUBA  ...                     2.0   \n",
       "12                    RIO BRANCO  ...                     NaN   \n",
       "23                EPITACIOLANDIA  ...                     2.0   \n",
       "\n",
       "   vacina_categoria_nome  vacina_lote vacina_fabricante_nome  \\\n",
       "0                    NaN       FN4073                 PFIZER   \n",
       "6           Faixa Etária       220299               BUTANTAN   \n",
       "10          Faixa Etária       220250               BUTANTAN   \n",
       "12                   NaN       FP8290                 PFIZER   \n",
       "23          Faixa Etária       FD7208                 PFIZER   \n",
       "\n",
       "    vacina_fabricante_referencia vacina_dataAplicacao vacina_descricao_dose  \\\n",
       "0                          28290           2022-06-21               2ª Dose   \n",
       "6                            152           2023-01-24               1ª Dose   \n",
       "10                           152           2022-11-10               2ª Dose   \n",
       "12                         28290           2022-03-21               2ª Dose   \n",
       "23   Organization/00394544000851           2021-09-11               1ª Dose   \n",
       "\n",
       "    vacina_codigo                             vacina_nome sistema_origem  \n",
       "0              99  COVID-19 PEDIÁTRICA - PFIZER COMIRNATY       Novo PNI  \n",
       "6              86   COVID-19 SINOVAC/BUTANTAN - CORONAVAC       Novo PNI  \n",
       "10             86   COVID-19 SINOVAC/BUTANTAN - CORONAVAC       Novo PNI  \n",
       "12             99  COVID-19 PEDIÁTRICA - PFIZER COMIRNATY       Novo PNI  \n",
       "23             87             COVID-19 PFIZER - COMIRNATY       Novo PNI  \n",
       "\n",
       "[5 rows x 32 columns]"
      ]
     },
     "execution_count": 30,
     "metadata": {},
     "output_type": "execute_result"
    }
   ],
   "source": [
    "# 1) solução alternativa\n",
    "df_menor = df[df[\"paciente_idade\"]<18].copy()\n",
    "df_menor.head()"
   ]
  },
  {
   "cell_type": "markdown",
   "metadata": {},
   "source": [
    "## Exercício 1.7"
   ]
  },
  {
   "cell_type": "code",
   "execution_count": 32,
   "metadata": {},
   "outputs": [
    {
     "data": {
      "text/plain": [
       "Index(['document_id', 'paciente_id', 'paciente_idade',\n",
       "       'paciente_dataNascimento', 'paciente_enumSexoBiologico',\n",
       "       'paciente_racaCor_codigo', 'paciente_racaCor_valor',\n",
       "       'paciente_endereco_coIbgeMunicipio', 'paciente_endereco_coPais',\n",
       "       'paciente_endereco_nmMunicipio', 'paciente_endereco_nmPais',\n",
       "       'paciente_endereco_uf', 'paciente_endereco_cep',\n",
       "       'paciente_nacionalidade_enumNacionalidade', 'estabelecimento_valor',\n",
       "       'estabelecimento_razaoSocial', 'estalecimento_noFantasia',\n",
       "       'estabelecimento_municipio_codigo', 'estabelecimento_municipio_nome',\n",
       "       'estabelecimento_uf', 'vacina_grupoAtendimento_codigo',\n",
       "       'vacina_grupoAtendimento_nome', 'vacina_categoria_codigo',\n",
       "       'vacina_categoria_nome', 'vacina_lote', 'vacina_fabricante_nome',\n",
       "       'vacina_fabricante_referencia', 'vacina_dataAplicacao',\n",
       "       'vacina_descricao_dose', 'vacina_codigo', 'vacina_nome',\n",
       "       'sistema_origem'],\n",
       "      dtype='object')"
      ]
     },
     "execution_count": 32,
     "metadata": {},
     "output_type": "execute_result"
    }
   ],
   "source": [
    "# 2) solução alternativa\n",
    "df_menor.columns"
   ]
  },
  {
   "cell_type": "markdown",
   "metadata": {},
   "source": [
    "## Exercício 1.8"
   ]
  },
  {
   "cell_type": "code",
   "execution_count": 33,
   "metadata": {},
   "outputs": [
    {
     "data": {
      "text/plain": [
       "vacina_categoria_nome\n",
       "Faixa Etária                                      48567\n",
       "Povos Indígenas                                    4823\n",
       "Outros                                             3755\n",
       "Povos e Comunidades Tradicionais                    874\n",
       "Trabalhadores de Saúde                              264\n",
       "Comorbidades                                         57\n",
       "População Privada de Liberdade                       53\n",
       "Gestantes                                            46\n",
       "Trabalhadores da Educação                            14\n",
       "Trabalhadores de Transporte                          13\n",
       "Pessoas com Deficiência                              11\n",
       "Pessoas Institucionalizadas                           3\n",
       "Pessoas de 60 anos ou mais institucionalizadas        1\n",
       "Puérperas                                             1\n",
       "Name: count, dtype: int64"
      ]
     },
     "execution_count": 33,
     "metadata": {},
     "output_type": "execute_result"
    }
   ],
   "source": [
    "# 3) solução alternativa\n",
    "df_menor['vacina_categoria_nome'].value_counts()"
   ]
  },
  {
   "cell_type": "markdown",
   "metadata": {},
   "source": [
    "## Exercício 1.9"
   ]
  },
  {
   "cell_type": "code",
   "execution_count": 42,
   "metadata": {},
   "outputs": [],
   "source": [
    "# 4) solução alternativa\n",
    "\n",
    "df_menor_lista = df['paciente_endereco_nmMunicipio']"
   ]
  },
  {
   "cell_type": "markdown",
   "metadata": {},
   "source": [
    "## Exercício 2.0"
   ]
  },
  {
   "cell_type": "code",
   "execution_count": 43,
   "metadata": {},
   "outputs": [
    {
     "data": {
      "text/plain": [
       "(1537,)"
      ]
     },
     "execution_count": 43,
     "metadata": {},
     "output_type": "execute_result"
    }
   ],
   "source": [
    "# 5) solução alternativa\n",
    "df_menor_lista = df_menor_lista.drop_duplicates()\n",
    "df_menor_lista.shape"
   ]
  }
 ],
 "metadata": {
  "kernelspec": {
   "display_name": "Python 3 (ipykernel)",
   "language": "python",
   "name": "python3"
  },
  "language_info": {
   "codemirror_mode": {
    "name": "ipython",
    "version": 3
   },
   "file_extension": ".py",
   "mimetype": "text/x-python",
   "name": "python",
   "nbconvert_exporter": "python",
   "pygments_lexer": "ipython3",
   "version": "3.12.4"
  },
  "toc": {
   "base_numbering": 1,
   "nav_menu": {},
   "number_sections": false,
   "sideBar": true,
   "skip_h1_title": true,
   "title_cell": "Índice",
   "title_sidebar": "Conteúdo",
   "toc_cell": false,
   "toc_position": {},
   "toc_section_display": true,
   "toc_window_display": false
  },
  "varInspector": {
   "cols": {
    "lenName": 16,
    "lenType": 16,
    "lenVar": 40
   },
   "kernels_config": {
    "python": {
     "delete_cmd_postfix": "",
     "delete_cmd_prefix": "del ",
     "library": "var_list.py",
     "varRefreshCmd": "print(var_dic_list())"
    },
    "r": {
     "delete_cmd_postfix": ") ",
     "delete_cmd_prefix": "rm(",
     "library": "var_list.r",
     "varRefreshCmd": "cat(var_dic_list()) "
    }
   },
   "types_to_exclude": [
    "module",
    "function",
    "builtin_function_or_method",
    "instance",
    "_Feature"
   ],
   "window_display": false
  }
 },
 "nbformat": 4,
 "nbformat_minor": 4
}
