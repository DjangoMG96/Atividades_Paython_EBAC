{
 "cells": [
  {
   "cell_type": "markdown",
   "metadata": {},
   "source": [
    "# Regressão 01 - tarefa 02 - transformações em X e Y"
   ]
  },
  {
   "cell_type": "markdown",
   "metadata": {},
   "source": [
    "### 1. Melhorando o ajuste no percentual de gorjetas\n",
    "\n",
    "a. Vamos partir do modelo feito na última tarefa, o que relaciona ```tip_pct``` e ```net_bill```. Carregue a base, os pacotes e reproduza este modelo aqui."
   ]
  },
  {
   "cell_type": "code",
   "execution_count": 32,
   "metadata": {},
   "outputs": [],
   "source": [
    "import numpy as np\n",
    "import seaborn as sns\n",
    "import statsmodels.api as sm\n",
    "import statsmodels.formula.api as smf\n",
    "import pandas as pd\n",
    "\n",
    "%matplotlib inline\n",
    "plt.rc('figure', figsize=(6, 4))"
   ]
  },
  {
   "cell_type": "code",
   "execution_count": 4,
   "metadata": {},
   "outputs": [],
   "source": [
    "tips = pd.read_csv('tips.csv')"
   ]
  },
  {
   "cell_type": "code",
   "execution_count": 5,
   "metadata": {},
   "outputs": [
    {
     "data": {
      "text/html": [
       "<div>\n",
       "<style scoped>\n",
       "    .dataframe tbody tr th:only-of-type {\n",
       "        vertical-align: middle;\n",
       "    }\n",
       "\n",
       "    .dataframe tbody tr th {\n",
       "        vertical-align: top;\n",
       "    }\n",
       "\n",
       "    .dataframe thead th {\n",
       "        text-align: right;\n",
       "    }\n",
       "</style>\n",
       "<table border=\"1\" class=\"dataframe\">\n",
       "  <thead>\n",
       "    <tr style=\"text-align: right;\">\n",
       "      <th></th>\n",
       "      <th>Unnamed: 0</th>\n",
       "      <th>total_bill</th>\n",
       "      <th>tip</th>\n",
       "      <th>sex</th>\n",
       "      <th>smoker</th>\n",
       "      <th>day</th>\n",
       "      <th>time</th>\n",
       "      <th>size</th>\n",
       "      <th>porcent_tip</th>\n",
       "      <th>net_bill</th>\n",
       "      <th>y_pred</th>\n",
       "    </tr>\n",
       "  </thead>\n",
       "  <tbody>\n",
       "    <tr>\n",
       "      <th>0</th>\n",
       "      <td>0</td>\n",
       "      <td>16.99</td>\n",
       "      <td>1.01</td>\n",
       "      <td>Female</td>\n",
       "      <td>No</td>\n",
       "      <td>Sun</td>\n",
       "      <td>Dinner</td>\n",
       "      <td>2</td>\n",
       "      <td>-0.063204</td>\n",
       "      <td>15.98</td>\n",
       "      <td>2.360495</td>\n",
       "    </tr>\n",
       "    <tr>\n",
       "      <th>1</th>\n",
       "      <td>1</td>\n",
       "      <td>10.34</td>\n",
       "      <td>1.66</td>\n",
       "      <td>Male</td>\n",
       "      <td>No</td>\n",
       "      <td>Sun</td>\n",
       "      <td>Dinner</td>\n",
       "      <td>3</td>\n",
       "      <td>-0.191244</td>\n",
       "      <td>8.68</td>\n",
       "      <td>1.957671</td>\n",
       "    </tr>\n",
       "    <tr>\n",
       "      <th>2</th>\n",
       "      <td>2</td>\n",
       "      <td>21.01</td>\n",
       "      <td>3.50</td>\n",
       "      <td>Male</td>\n",
       "      <td>No</td>\n",
       "      <td>Sun</td>\n",
       "      <td>Dinner</td>\n",
       "      <td>3</td>\n",
       "      <td>-0.199886</td>\n",
       "      <td>17.51</td>\n",
       "      <td>3.078562</td>\n",
       "    </tr>\n",
       "    <tr>\n",
       "      <th>3</th>\n",
       "      <td>3</td>\n",
       "      <td>23.68</td>\n",
       "      <td>3.31</td>\n",
       "      <td>Male</td>\n",
       "      <td>No</td>\n",
       "      <td>Sun</td>\n",
       "      <td>Dinner</td>\n",
       "      <td>2</td>\n",
       "      <td>-0.162494</td>\n",
       "      <td>20.37</td>\n",
       "      <td>3.285872</td>\n",
       "    </tr>\n",
       "    <tr>\n",
       "      <th>4</th>\n",
       "      <td>4</td>\n",
       "      <td>24.59</td>\n",
       "      <td>3.61</td>\n",
       "      <td>Female</td>\n",
       "      <td>No</td>\n",
       "      <td>Sun</td>\n",
       "      <td>Dinner</td>\n",
       "      <td>4</td>\n",
       "      <td>-0.172069</td>\n",
       "      <td>20.98</td>\n",
       "      <td>3.398096</td>\n",
       "    </tr>\n",
       "    <tr>\n",
       "      <th>...</th>\n",
       "      <td>...</td>\n",
       "      <td>...</td>\n",
       "      <td>...</td>\n",
       "      <td>...</td>\n",
       "      <td>...</td>\n",
       "      <td>...</td>\n",
       "      <td>...</td>\n",
       "      <td>...</td>\n",
       "      <td>...</td>\n",
       "      <td>...</td>\n",
       "      <td>...</td>\n",
       "    </tr>\n",
       "    <tr>\n",
       "      <th>239</th>\n",
       "      <td>239</td>\n",
       "      <td>29.03</td>\n",
       "      <td>5.92</td>\n",
       "      <td>Male</td>\n",
       "      <td>No</td>\n",
       "      <td>Sat</td>\n",
       "      <td>Dinner</td>\n",
       "      <td>3</td>\n",
       "      <td>-0.256166</td>\n",
       "      <td>23.11</td>\n",
       "      <td>3.986286</td>\n",
       "    </tr>\n",
       "    <tr>\n",
       "      <th>240</th>\n",
       "      <td>240</td>\n",
       "      <td>27.18</td>\n",
       "      <td>2.00</td>\n",
       "      <td>Female</td>\n",
       "      <td>Yes</td>\n",
       "      <td>Sat</td>\n",
       "      <td>Dinner</td>\n",
       "      <td>2</td>\n",
       "      <td>-0.079428</td>\n",
       "      <td>25.18</td>\n",
       "      <td>3.556334</td>\n",
       "    </tr>\n",
       "    <tr>\n",
       "      <th>241</th>\n",
       "      <td>241</td>\n",
       "      <td>22.67</td>\n",
       "      <td>2.00</td>\n",
       "      <td>Male</td>\n",
       "      <td>Yes</td>\n",
       "      <td>Sat</td>\n",
       "      <td>Dinner</td>\n",
       "      <td>2</td>\n",
       "      <td>-0.096759</td>\n",
       "      <td>20.67</td>\n",
       "      <td>3.068089</td>\n",
       "    </tr>\n",
       "    <tr>\n",
       "      <th>242</th>\n",
       "      <td>242</td>\n",
       "      <td>17.82</td>\n",
       "      <td>1.75</td>\n",
       "      <td>Male</td>\n",
       "      <td>No</td>\n",
       "      <td>Sat</td>\n",
       "      <td>Dinner</td>\n",
       "      <td>2</td>\n",
       "      <td>-0.108899</td>\n",
       "      <td>16.07</td>\n",
       "      <td>2.548647</td>\n",
       "    </tr>\n",
       "    <tr>\n",
       "      <th>243</th>\n",
       "      <td>243</td>\n",
       "      <td>18.78</td>\n",
       "      <td>3.00</td>\n",
       "      <td>Female</td>\n",
       "      <td>No</td>\n",
       "      <td>Thur</td>\n",
       "      <td>Dinner</td>\n",
       "      <td>2</td>\n",
       "      <td>-0.190114</td>\n",
       "      <td>15.78</td>\n",
       "      <td>2.827649</td>\n",
       "    </tr>\n",
       "  </tbody>\n",
       "</table>\n",
       "<p>244 rows × 11 columns</p>\n",
       "</div>"
      ],
      "text/plain": [
       "     Unnamed: 0  total_bill   tip     sex smoker   day    time  size  \\\n",
       "0             0       16.99  1.01  Female     No   Sun  Dinner     2   \n",
       "1             1       10.34  1.66    Male     No   Sun  Dinner     3   \n",
       "2             2       21.01  3.50    Male     No   Sun  Dinner     3   \n",
       "3             3       23.68  3.31    Male     No   Sun  Dinner     2   \n",
       "4             4       24.59  3.61  Female     No   Sun  Dinner     4   \n",
       "..          ...         ...   ...     ...    ...   ...     ...   ...   \n",
       "239         239       29.03  5.92    Male     No   Sat  Dinner     3   \n",
       "240         240       27.18  2.00  Female    Yes   Sat  Dinner     2   \n",
       "241         241       22.67  2.00    Male    Yes   Sat  Dinner     2   \n",
       "242         242       17.82  1.75    Male     No   Sat  Dinner     2   \n",
       "243         243       18.78  3.00  Female     No  Thur  Dinner     2   \n",
       "\n",
       "     porcent_tip  net_bill    y_pred  \n",
       "0      -0.063204     15.98  2.360495  \n",
       "1      -0.191244      8.68  1.957671  \n",
       "2      -0.199886     17.51  3.078562  \n",
       "3      -0.162494     20.37  3.285872  \n",
       "4      -0.172069     20.98  3.398096  \n",
       "..           ...       ...       ...  \n",
       "239    -0.256166     23.11  3.986286  \n",
       "240    -0.079428     25.18  3.556334  \n",
       "241    -0.096759     20.67  3.068089  \n",
       "242    -0.108899     16.07  2.548647  \n",
       "243    -0.190114     15.78  2.827649  \n",
       "\n",
       "[244 rows x 11 columns]"
      ]
     },
     "execution_count": 5,
     "metadata": {},
     "output_type": "execute_result"
    }
   ],
   "source": [
    "tips"
   ]
  },
  {
   "cell_type": "markdown",
   "metadata": {},
   "source": [
    "### 2. ajuste o modelo de ```tip_pct``` em função do logaritmo de ```net_bill```."
   ]
  },
  {
   "cell_type": "code",
   "execution_count": 46,
   "metadata": {},
   "outputs": [
    {
     "data": {
      "image/png": "[encoded data removed]",
      "text/plain": [
       "<Figure size 600x400 with 1 Axes>"
      ]
     },
     "metadata": {},
     "output_type": "display_data"
    }
   ],
   "source": [
    "# Calcular o logaritmo de net_bill (evitar log(0) adicionando um pequeno valor)\n",
    "tips['log_net_bill'] = np.log(tips['net_bill'] + 1e-10)\n",
    "\n",
    "# Ajustar o modelo de regressão com statsmodels\n",
    "model = smf.ols('porcent_tip ~ log_net_bill', data=tips).fit()\n",
    "\n",
    "# Visualizar a regressão com regplot\n",
    "sns.regplot(data=tips, x='log_net_bill', y='porcent_tip')\n",
    "\n",
    "# Adicionar rótulos aos eixos\n",
    "plt.xlabel('Log of Net Bill')\n",
    "plt.ylabel('Porcent Tip')\n",
    "plt.show()\n",
    "\n"
   ]
  },
  {
   "cell_type": "markdown",
   "metadata": {},
   "source": [
    "###  3. ajuste o modelo de ```tip_pct``` em função de um polinômio de segundo grau em ```net_bill```."
   ]
  },
  {
   "cell_type": "code",
   "execution_count": 59,
   "metadata": {},
   "outputs": [
    {
     "name": "stdout",
     "output_type": "stream",
     "text": [
      "R²: 0.20172884237357547\n"
     ]
    },
    {
     "data": {
      "image/png": "[encoded data removed]",
      "text/plain": [
       "<Figure size 600x400 with 1 Axes>"
      ]
     },
     "metadata": {},
     "output_type": "display_data"
    }
   ],
   "source": [
    "# Criar o polinômio de segundo grau para net_bill\n",
    "tips['net_bill_squared'] = tips['net_bill'] ** 2\n",
    "\n",
    "# Ajustar o modelo de regressão com statsmodels (tip_pct ~ net_bill + net_bill^2)\n",
    "model_poli = smf.ols('porcent_tip ~ net_bill + net_bill_squared', data=tips).fit()\n",
    "\n",
    "# Visualizar a regressão com regplot\n",
    "sns.regplot(data=tips, x='net_bill', y='porcent_tip', scatter_kws={'s': 10}, line_kws={'color': 'red'})\n",
    "\n",
    "# Adicionar rótulos aos eixos\n",
    "plt.xlabel('Net Bill')\n",
    "plt.ylabel('Tip Percentage (porcent_tip)')\n",
    "plt.show()\n",
    "\n"
   ]
  },
  {
   "cell_type": "markdown",
   "metadata": {},
   "source": [
    "###  4. ajuste um modelo no log do ```tip_pct``` em função de ```net_bill```. Calcule o $R^2$ também em ```tip_pct```"
   ]
  },
  {
   "cell_type": "code",
   "execution_count": 61,
   "metadata": {},
   "outputs": [
    {
     "name": "stdout",
     "output_type": "stream",
     "text": [
      "R²: 0.20172884237357547\n"
     ]
    }
   ],
   "source": [
    "# Obter o R²\n",
    "r_squared = model.rsquared\n",
    "print(f'R²: {r_squared}')"
   ]
  },
  {
   "cell_type": "markdown",
   "metadata": {},
   "source": [
    "###  5. ajuste um modelo no log do ```tip_pct``` em função do log de ```net_bill```. Calcule o $R^2$ também em ```tip_pct```."
   ]
  },
  {
   "cell_type": "code",
   "execution_count": 63,
   "metadata": {},
   "outputs": [
    {
     "name": "stdout",
     "output_type": "stream",
     "text": [
      "R²: 0.8866564305863217\n"
     ]
    }
   ],
   "source": [
    "# Obter o R²\n",
    "r_squared = reg_tips.rsquared\n",
    "print(f'R²: {r_squared}')"
   ]
  },
  {
   "cell_type": "markdown",
   "metadata": {},
   "source": [
    "###  6. qual modelo resultou no melhor ajuste?"
   ]
  },
  {
   "cell_type": "code",
   "execution_count": null,
   "metadata": {},
   "outputs": [],
   "source": [
    "Elevar o X ao segundo grau resultou em um melhor ajuste das variaveis."
   ]
  }
 ],
 "metadata": {
  "kernelspec": {
   "display_name": "Python [conda env:base] *",
   "language": "python",
   "name": "conda-base-py"
  },
  "language_info": {
   "codemirror_mode": {
    "name": "ipython",
    "version": 3
   },
   "file_extension": ".py",
   "mimetype": "text/x-python",
   "name": "python",
   "nbconvert_exporter": "python",
   "pygments_lexer": "ipython3",
   "version": "3.12.7"
  }
 },
 "nbformat": 4,
 "nbformat_minor": 4
}
